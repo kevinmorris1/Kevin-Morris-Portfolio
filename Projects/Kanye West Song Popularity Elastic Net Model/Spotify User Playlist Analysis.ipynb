{
 "cells": [
  {
   "cell_type": "code",
   "execution_count": 1,
   "id": "12cf1a0e",
   "metadata": {},
   "outputs": [],
   "source": [
    "import spotipy\n",
    "import spotipy.util as util\n",
    "import pandas as pd"
   ]
  },
  {
   "cell_type": "code",
   "execution_count": 2,
   "id": "8bb30c1c",
   "metadata": {},
   "outputs": [],
   "source": [
    "import spotipy\n",
    "from spotipy.oauth2 import SpotifyClientCredentials\n",
    "\n",
    "cid = 'a4f7e56e4ee14492b5949135a6aaf01f'\n",
    "secret = 'e95c77cffd734b15ac195b0c48c659dc'\n",
    "\n",
    "client_credentials_manager = SpotifyClientCredentials(client_id=cid, client_secret=secret)\n",
    "sp = spotipy.Spotify(client_credentials_manager = client_credentials_manager)"
   ]
  },
  {
   "cell_type": "code",
   "execution_count": 3,
   "id": "d6aab163",
   "metadata": {},
   "outputs": [],
   "source": [
    "playlist_creator = \"kdmorris23\"\n",
    "playlist_id = \"2cnBaMdriWPTEmX4octhJq\" # Kanye Playlist"
   ]
  },
  {
   "cell_type": "code",
   "execution_count": 4,
   "id": "33876f50",
   "metadata": {},
   "outputs": [],
   "source": [
    "def get_playlist_tracks_more_than_100_songs(username, playlist_id):\n",
    "    results = sp.user_playlist_tracks(username,playlist_id)\n",
    "    tracks = results['items']\n",
    "    while results['next']:\n",
    "        results = sp.next(results)\n",
    "        tracks.extend(results['items'])\n",
    "    results = tracks    \n",
    "\n",
    "    playlist_tracks_id = []\n",
    "    playlist_tracks_titles = []\n",
    "    playlist_tracks_artists = []\n",
    "    playlist_tracks_first_artists = []\n",
    "    playlist_tracks_first_release_date = []\n",
    "    playlist_tracks_popularity = []\n",
    "\n",
    "    for i in range(len(results)):\n",
    "        if i == 0:\n",
    "            playlist_tracks_id = results[i]['track']['id']\n",
    "            playlist_tracks_titles = results[i]['track']['name']\n",
    "            playlist_tracks_first_release_date = results[i]['track']['album']['release_date']\n",
    "            playlist_tracks_popularity = results[i]['track']['popularity']\n",
    "\n",
    "            artist_list = []\n",
    "            for artist in results[i]['track']['artists']:\n",
    "                artist_list= artist['name']\n",
    "            playlist_tracks_artists = artist_list\n",
    "\n",
    "            features = sp.audio_features(playlist_tracks_id)\n",
    "            features_df = pd.DataFrame(data=features, columns=features[0].keys())\n",
    "            features_df['title'] = playlist_tracks_titles\n",
    "            features_df['all_artists'] = playlist_tracks_artists\n",
    "            features_df['popularity'] = playlist_tracks_popularity\n",
    "            features_df['release_date'] = playlist_tracks_first_release_date\n",
    "            features_df = features_df[['id', 'title', 'all_artists', 'popularity', 'release_date',\n",
    "                                       'danceability', 'energy', 'key', 'loudness',\n",
    "                                       'mode', 'acousticness', 'instrumentalness',\n",
    "                                       'liveness', 'valence', 'tempo',\n",
    "                                       'duration_ms', 'time_signature']]\n",
    "            continue\n",
    "        else:\n",
    "            try:\n",
    "                playlist_tracks_id = results[i]['track']['id']\n",
    "                playlist_tracks_titles = results[i]['track']['name']\n",
    "                playlist_tracks_first_release_date = results[i]['track']['album']['release_date']\n",
    "                playlist_tracks_popularity = results[i]['track']['popularity']\n",
    "                artist_list = []\n",
    "                for artist in results[i]['track']['artists']:\n",
    "                    artist_list= artist['name']\n",
    "                playlist_tracks_artists = artist_list\n",
    "                features = sp.audio_features(playlist_tracks_id)\n",
    "                new_row = {'id':[playlist_tracks_id],\n",
    "               'title':[playlist_tracks_titles],\n",
    "               'all_artists':[playlist_tracks_artists],\n",
    "               'popularity':[playlist_tracks_popularity],\n",
    "               'release_date':[playlist_tracks_first_release_date],\n",
    "               'danceability':[features[0]['danceability']],\n",
    "               'energy':[features[0]['energy']],\n",
    "               'key':[features[0]['key']],\n",
    "               'loudness':[features[0]['loudness']],\n",
    "               'mode':[features[0]['mode']],\n",
    "               'acousticness':[features[0]['acousticness']],\n",
    "               'instrumentalness':[features[0]['instrumentalness']],\n",
    "               'liveness':[features[0]['liveness']],\n",
    "               'valence':[features[0]['valence']],\n",
    "               'tempo':[features[0]['tempo']],\n",
    "               'duration_ms':[features[0]['duration_ms']],\n",
    "               'time_signature':[features[0]['time_signature']]\n",
    "               }\n",
    "\n",
    "                dfs = [features_df, pd.DataFrame(new_row)]\n",
    "                features_df = pd.concat(dfs, ignore_index = True)\n",
    "            except:\n",
    "                continue\n",
    "                \n",
    "    return features_df"
   ]
  },
  {
   "cell_type": "code",
   "execution_count": 5,
   "id": "94c22016",
   "metadata": {},
   "outputs": [],
   "source": [
    "playlist_df = get_playlist_tracks_more_than_100_songs(playlist_creator, playlist_id)"
   ]
  },
  {
   "cell_type": "code",
   "execution_count": 7,
   "id": "07f11db4",
   "metadata": {},
   "outputs": [
    {
     "data": {
      "text/plain": [
       "Index(['id', 'title', 'all_artists', 'popularity', 'release_date',\n",
       "       'danceability', 'energy', 'key', 'loudness', 'mode', 'acousticness',\n",
       "       'instrumentalness', 'liveness', 'valence', 'tempo', 'duration_ms',\n",
       "       'time_signature'],\n",
       "      dtype='object')"
      ]
     },
     "execution_count": 7,
     "metadata": {},
     "output_type": "execute_result"
    }
   ],
   "source": [
    "playlist_df.columns"
   ]
  },
  {
   "cell_type": "code",
   "execution_count": 8,
   "id": "4cbc7740",
   "metadata": {},
   "outputs": [
    {
     "ename": "NameError",
     "evalue": "name 'playlist' is not defined",
     "output_type": "error",
     "traceback": [
      "\u001b[1;31m---------------------------------------------------------------------------\u001b[0m",
      "\u001b[1;31mNameError\u001b[0m                                 Traceback (most recent call last)",
      "\u001b[1;32m<ipython-input-8-43935cba9a99>\u001b[0m in \u001b[0;36m<module>\u001b[1;34m\u001b[0m\n\u001b[1;32m----> 1\u001b[1;33m playlist_df = playlist.df[['title', 'popularity',\n\u001b[0m\u001b[0;32m      2\u001b[0m        \u001b[1;34m'danceability'\u001b[0m\u001b[1;33m,\u001b[0m \u001b[1;34m'energy'\u001b[0m\u001b[1;33m,\u001b[0m \u001b[1;34m'loudness'\u001b[0m\u001b[1;33m,\u001b[0m \u001b[1;34m'acousticness'\u001b[0m\u001b[1;33m,\u001b[0m\u001b[1;33m\u001b[0m\u001b[1;33m\u001b[0m\u001b[0m\n\u001b[0;32m      3\u001b[0m        \u001b[1;34m'instrumentalness'\u001b[0m\u001b[1;33m,\u001b[0m \u001b[1;34m'liveness'\u001b[0m\u001b[1;33m,\u001b[0m \u001b[1;34m'valence'\u001b[0m\u001b[1;33m,\u001b[0m \u001b[1;34m'tempo'\u001b[0m\u001b[1;33m,\u001b[0m \u001b[1;34m'duration_ms'\u001b[0m\u001b[1;33m,\u001b[0m\u001b[1;33m\u001b[0m\u001b[1;33m\u001b[0m\u001b[0m\n\u001b[0;32m      4\u001b[0m        'time_signature']]\n",
      "\u001b[1;31mNameError\u001b[0m: name 'playlist' is not defined"
     ]
    }
   ],
   "source": [
    "playlist_df = playlist.df[['title', 'popularity',\n",
    "       'danceability', 'energy', 'loudness', 'acousticness',\n",
    "       'instrumentalness', 'liveness', 'valence', 'tempo', 'duration_ms',\n",
    "       'time_signature']]"
   ]
  },
  {
   "cell_type": "code",
   "execution_count": 11,
   "id": "9672eea1",
   "metadata": {},
   "outputs": [],
   "source": [
    "playlist_df.to_csv('kanye_catalog_track_attributes.csv', index = False)"
   ]
  }
 ],
 "metadata": {
  "kernelspec": {
   "display_name": "Python 3",
   "language": "python",
   "name": "python3"
  },
  "language_info": {
   "codemirror_mode": {
    "name": "ipython",
    "version": 3
   },
   "file_extension": ".py",
   "mimetype": "text/x-python",
   "name": "python",
   "nbconvert_exporter": "python",
   "pygments_lexer": "ipython3",
   "version": "3.8.8"
  }
 },
 "nbformat": 4,
 "nbformat_minor": 5
}
