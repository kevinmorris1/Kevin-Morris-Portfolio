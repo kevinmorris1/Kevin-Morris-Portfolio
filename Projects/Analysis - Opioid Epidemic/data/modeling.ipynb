{
 "cells": [
  {
   "cell_type": "code",
   "execution_count": 1,
   "metadata": {},
   "outputs": [],
   "source": [
    "from arcospy import arcospy as arcos\n",
    "import pandas as pd\n",
    "import datetime as dt\n",
    "import plotly.express as px\n",
    "import numpy as np"
   ]
  },
  {
   "cell_type": "code",
   "execution_count": 3,
   "metadata": {},
   "outputs": [],
   "source": [
    "buyers_region = pd.read_csv('appalachian_buyers.csv')\n",
    "features = buyers_region.iloc[:, 6:]"
   ]
  },
  {
   "cell_type": "code",
   "execution_count": 8,
   "metadata": {},
   "outputs": [],
   "source": [
    "correlated_features = set()\n",
    "correlation_matrix = features.corr()\n",
    "\n",
    "for i in range(len(correlation_matrix.columns)):\n",
    "    for j in range(i):\n",
    "        if abs(correlation_matrix.iloc[i, j]) > 0.85:\n",
    "            colname = correlation_matrix.columns[i]\n",
    "            correlated_features.add(colname)"
   ]
  },
  {
   "cell_type": "code",
   "execution_count": 9,
   "metadata": {},
   "outputs": [
    {
     "data": {
      "text/plain": [
       "{'NUM_DISTRIBUTORS_MEDIAN',\n",
       " 'NUM_DISTRIBUTORS_STD',\n",
       " 'NUM_TRANSACTION_MAX',\n",
       " 'NUM_TRANSACTION_MAX_MINUS_MEDIAN',\n",
       " 'NUM_TRANSACTION_MEDIAN',\n",
       " 'NUM_TRANSACTION_STD',\n",
       " 'TRANSACTION_MAX',\n",
       " 'TRANSACTION_MAX_MINUS_MEDIAN',\n",
       " 'TRANSACTION_MEDIAN',\n",
       " 'TRANSACTION_STD'}"
      ]
     },
     "execution_count": 9,
     "metadata": {},
     "output_type": "execute_result"
    }
   ],
   "source": [
    "features = features.drop(correlated_features)"
   ]
  }
 ],
 "metadata": {
  "kernelspec": {
   "display_name": "Python 3.8.8 ('base')",
   "language": "python",
   "name": "python3"
  },
  "language_info": {
   "codemirror_mode": {
    "name": "ipython",
    "version": 3
   },
   "file_extension": ".py",
   "mimetype": "text/x-python",
   "name": "python",
   "nbconvert_exporter": "python",
   "pygments_lexer": "ipython3",
   "version": "3.8.8"
  },
  "orig_nbformat": 4,
  "vscode": {
   "interpreter": {
    "hash": "b49bb7862da9a7f712fac20bbb252538ac446c2e9d9243e7afbb3682ce9d6a68"
   }
  }
 },
 "nbformat": 4,
 "nbformat_minor": 2
}
