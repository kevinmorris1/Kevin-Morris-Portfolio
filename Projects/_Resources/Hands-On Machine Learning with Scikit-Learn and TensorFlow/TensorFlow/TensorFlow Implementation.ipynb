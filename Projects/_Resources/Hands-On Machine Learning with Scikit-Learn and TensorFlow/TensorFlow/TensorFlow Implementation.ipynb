{
 "cells": [
  {
   "cell_type": "code",
   "execution_count": 7,
   "id": "24ec6fac",
   "metadata": {},
   "outputs": [
    {
     "name": "stdout",
     "output_type": "stream",
     "text": [
      "WARNING:tensorflow:From C:\\Users\\kdmor\\anaconda3\\lib\\site-packages\\tensorflow\\python\\compat\\v2_compat.py:107: disable_resource_variables (from tensorflow.python.ops.variable_scope) is deprecated and will be removed in a future version.\n",
      "Instructions for updating:\n",
      "non-resource variables are not supported in the long term\n"
     ]
    }
   ],
   "source": [
    "import tensorflow.compat.v1 as tf\n",
    "tf.disable_v2_behavior()"
   ]
  },
  {
   "cell_type": "code",
   "execution_count": 42,
   "id": "b4e7d809",
   "metadata": {},
   "outputs": [],
   "source": [
    "# To support both python 2 and python 3\n",
    "from __future__ import division, print_function, unicode_literals\n",
    "\n",
    "# Common imports\n",
    "import numpy as np\n",
    "import os\n",
    "\n",
    "try:\n",
    "    # %tensorflow_version only exists in Colab.\n",
    "    %tensorflow_version 1.x\n",
    "except Exception:\n",
    "    pass\n",
    "\n",
    "# to make this notebook's output stable across runs\n",
    "def reset_graph(seed=42):\n",
    "    tf.reset_default_graph()\n",
    "    tf.set_random_seed(seed)\n",
    "    np.random.seed(seed)\n",
    "\n",
    "# To plot pretty figures\n",
    "%matplotlib inline\n",
    "import matplotlib\n",
    "import matplotlib.pyplot as plt\n",
    "plt.rcParams['axes.labelsize'] = 14\n",
    "plt.rcParams['xtick.labelsize'] = 12\n",
    "plt.rcParams['ytick.labelsize'] = 12\n",
    "\n",
    "# Where to save the figures\n",
    "PROJECT_ROOT_DIR = \".\"\n",
    "CHAPTER_ID = \"tensorflow\"\n",
    "IMAGES_PATH = os.path.join(PROJECT_ROOT_DIR, \"images\", CHAPTER_ID)\n",
    "os.makedirs(IMAGES_PATH, exist_ok=True)\n",
    "\n",
    "def save_fig(fig_id, tight_layout=True, fig_extension=\"png\", resolution=300):\n",
    "    path = os.path.join(IMAGES_PATH, fig_id + \".\" + fig_extension)\n",
    "    print(\"Saving figure\", fig_id)\n",
    "    if tight_layout:\n",
    "        plt.tight_layout()\n",
    "    plt.savefig(path, format=fig_extension, dpi=resolution)"
   ]
  },
  {
   "cell_type": "code",
   "execution_count": 24,
   "id": "467e3863",
   "metadata": {},
   "outputs": [],
   "source": [
    "import numpy as np\n",
    "from sklearn.datasets import fetch_california_housing\n",
    "\n",
    "reset_graph()\n",
    "\n",
    "housing = fetch_california_housing()\n",
    "m, n = housing.data.shape\n",
    "housing_data_plus_bias = np.c_[np.ones((m, 1)), housing.data]\n",
    "\n",
    "x = tf.constant(housing_data_plus_bias, dtype=tf.float32, name='x')\n",
    "y = tf.constant(housing.target.reshape(-1,1), dtype=tf.float32, name='y')\n",
    "xt = tf.transpose(x)\n",
    "theta = tf.matmul(tf.matmul(tf.matrix_inverse(tf.matmul(xt, x)), xt), y)\n",
    "\n",
    "with tf.Session() as sess:\n",
    "    theta_value = theta.eval()"
   ]
  },
  {
   "cell_type": "code",
   "execution_count": 25,
   "id": "df18df2a",
   "metadata": {},
   "outputs": [
    {
     "data": {
      "text/plain": [
       "array([[-3.68901253e+01],\n",
       "       [ 4.36643779e-01],\n",
       "       [ 9.45042260e-03],\n",
       "       [-1.07117996e-01],\n",
       "       [ 6.43712580e-01],\n",
       "       [-3.96291580e-06],\n",
       "       [-3.78801115e-03],\n",
       "       [-4.20931637e-01],\n",
       "       [-4.34006572e-01]], dtype=float32)"
      ]
     },
     "execution_count": 25,
     "metadata": {},
     "output_type": "execute_result"
    }
   ],
   "source": [
    "theta_value"
   ]
  },
  {
   "cell_type": "code",
   "execution_count": 60,
   "id": "04a6a551",
   "metadata": {},
   "outputs": [
    {
     "name": "stdout",
     "output_type": "stream",
     "text": [
      "Epoch 0 MSE = 9.161542\n",
      "INFO:tensorflow:/tmp\\my_model.ckpt.data-00000-of-00001\n",
      "INFO:tensorflow:0\n",
      "INFO:tensorflow:/tmp\\my_model.ckpt.index\n",
      "INFO:tensorflow:0\n",
      "INFO:tensorflow:/tmp\\my_model.ckpt.meta\n",
      "INFO:tensorflow:800\n",
      "Epoch 100 MSE = 0.71450037\n",
      "INFO:tensorflow:/tmp\\my_model.ckpt.data-00000-of-00001\n",
      "INFO:tensorflow:0\n",
      "INFO:tensorflow:/tmp\\my_model.ckpt.index\n",
      "INFO:tensorflow:0\n",
      "INFO:tensorflow:/tmp\\my_model.ckpt.meta\n",
      "INFO:tensorflow:800\n",
      "Epoch 200 MSE = 0.5667048\n",
      "INFO:tensorflow:/tmp\\my_model.ckpt.data-00000-of-00001\n",
      "INFO:tensorflow:0\n",
      "INFO:tensorflow:/tmp\\my_model.ckpt.index\n",
      "INFO:tensorflow:0\n",
      "INFO:tensorflow:/tmp\\my_model.ckpt.meta\n",
      "INFO:tensorflow:800\n",
      "Epoch 300 MSE = 0.5555718\n",
      "INFO:tensorflow:/tmp\\my_model.ckpt.data-00000-of-00001\n",
      "INFO:tensorflow:0\n",
      "INFO:tensorflow:/tmp\\my_model.ckpt.index\n",
      "INFO:tensorflow:0\n",
      "INFO:tensorflow:/tmp\\my_model.ckpt.meta\n",
      "INFO:tensorflow:800\n",
      "Epoch 400 MSE = 0.54881126\n",
      "INFO:tensorflow:/tmp\\my_model.ckpt.data-00000-of-00001\n",
      "INFO:tensorflow:0\n",
      "INFO:tensorflow:/tmp\\my_model.ckpt.index\n",
      "INFO:tensorflow:0\n",
      "INFO:tensorflow:/tmp\\my_model.ckpt.meta\n",
      "INFO:tensorflow:800\n",
      "Epoch 500 MSE = 0.5436363\n",
      "INFO:tensorflow:/tmp\\my_model.ckpt.data-00000-of-00001\n",
      "INFO:tensorflow:0\n",
      "INFO:tensorflow:/tmp\\my_model.ckpt.index\n",
      "INFO:tensorflow:0\n",
      "INFO:tensorflow:/tmp\\my_model.ckpt.meta\n",
      "INFO:tensorflow:800\n",
      "Epoch 600 MSE = 0.53962916\n",
      "INFO:tensorflow:/tmp\\my_model.ckpt.data-00000-of-00001\n",
      "INFO:tensorflow:0\n",
      "INFO:tensorflow:/tmp\\my_model.ckpt.index\n",
      "INFO:tensorflow:0\n",
      "INFO:tensorflow:/tmp\\my_model.ckpt.meta\n",
      "INFO:tensorflow:800\n",
      "Epoch 700 MSE = 0.5365092\n",
      "INFO:tensorflow:/tmp\\my_model.ckpt.data-00000-of-00001\n",
      "INFO:tensorflow:0\n",
      "INFO:tensorflow:/tmp\\my_model.ckpt.index\n",
      "INFO:tensorflow:0\n",
      "INFO:tensorflow:/tmp\\my_model.ckpt.meta\n",
      "INFO:tensorflow:800\n",
      "Epoch 800 MSE = 0.53406775\n",
      "INFO:tensorflow:/tmp\\my_model.ckpt.data-00000-of-00001\n",
      "INFO:tensorflow:0\n",
      "INFO:tensorflow:/tmp\\my_model.ckpt.index\n",
      "INFO:tensorflow:0\n",
      "INFO:tensorflow:/tmp\\my_model.ckpt.meta\n",
      "INFO:tensorflow:800\n",
      "Epoch 900 MSE = 0.53214735\n",
      "INFO:tensorflow:/tmp\\my_model.ckpt.data-00000-of-00001\n",
      "INFO:tensorflow:0\n",
      "INFO:tensorflow:/tmp\\my_model.ckpt.index\n",
      "INFO:tensorflow:0\n",
      "INFO:tensorflow:/tmp\\my_model.ckpt.meta\n",
      "INFO:tensorflow:800\n",
      "INFO:tensorflow:/tmp\\my_model_final.ckpt.data-00000-of-00001\n",
      "INFO:tensorflow:0\n",
      "INFO:tensorflow:/tmp\\my_model_final.ckpt.index\n",
      "INFO:tensorflow:0\n",
      "INFO:tensorflow:/tmp\\my_model_final.ckpt.meta\n",
      "INFO:tensorflow:800\n"
     ]
    }
   ],
   "source": [
    "# Batch Gradient Decent for parameter optimization with GradientDescentOptimizer\n",
    "\n",
    "reset_graph()\n",
    "\n",
    "n_epochs = 1000                                                                       # not shown in the book\n",
    "learning_rate = 0.01                                                                  # not shown\n",
    "\n",
    "X = tf.constant(scaled_housing_data_plus_bias, dtype=tf.float32, name=\"X\")            # not shown\n",
    "y = tf.constant(housing.target.reshape(-1, 1), dtype=tf.float32, name=\"y\")            # not shown\n",
    "theta = tf.Variable(tf.random_uniform([n + 1, 1], -1.0, 1.0, seed=42), name=\"theta\")\n",
    "y_pred = tf.matmul(X, theta, name=\"predictions\")                                      # not shown\n",
    "error = y_pred - y                                                                    # not shown\n",
    "mse = tf.reduce_mean(tf.square(error), name=\"mse\")                                    # not shown\n",
    "optimizer = tf.train.GradientDescentOptimizer(learning_rate=learning_rate)            # not shown\n",
    "training_op = optimizer.minimize(mse)                                                 # not shown\n",
    "\n",
    "init = tf.global_variables_initializer()\n",
    "saver = tf.train.Saver()\n",
    "\n",
    "with tf.Session() as sess:\n",
    "    sess.run(init)\n",
    "\n",
    "    for epoch in range(n_epochs):\n",
    "        if epoch % 100 == 0:\n",
    "            print(\"Epoch\", epoch, \"MSE =\", mse.eval())                                # not shown\n",
    "            save_path = saver.save(sess, \"/tmp/my_model.ckpt\")\n",
    "        sess.run(training_op)\n",
    "    \n",
    "    best_theta = theta.eval()\n",
    "    save_path = saver.save(sess, \"/tmp/my_model_final.ckpt\")"
   ]
  },
  {
   "cell_type": "code",
   "execution_count": 61,
   "id": "8476718a",
   "metadata": {},
   "outputs": [
    {
     "name": "stdout",
     "output_type": "stream",
     "text": [
      "INFO:tensorflow:Restoring parameters from /tmp/my_model_final.ckpt\n"
     ]
    }
   ],
   "source": [
    "with tf.Session() as sess:\n",
    "    saver.restore(sess, \"/tmp/my_model_final.ckpt\")\n",
    "    best_theta_restored = theta.eval()"
   ]
  },
  {
   "cell_type": "code",
   "execution_count": 62,
   "id": "ae605df7",
   "metadata": {},
   "outputs": [
    {
     "data": {
      "text/plain": [
       "True"
      ]
     },
     "execution_count": 62,
     "metadata": {},
     "output_type": "execute_result"
    }
   ],
   "source": [
    "np.allclose(best_theta, best_theta_restored)"
   ]
  },
  {
   "cell_type": "code",
   "execution_count": 63,
   "id": "88801000",
   "metadata": {},
   "outputs": [
    {
     "name": "stdout",
     "output_type": "stream",
     "text": [
      "INFO:tensorflow:Restoring parameters from /tmp/my_model_final.ckpt\n"
     ]
    }
   ],
   "source": [
    "reset_graph()\n",
    "# notice that we start with an empty graph.\n",
    "\n",
    "saver = tf.train.import_meta_graph(\"/tmp/my_model_final.ckpt.meta\")  # this loads the graph structure\n",
    "theta = tf.get_default_graph().get_tensor_by_name(\"theta:0\") # not shown in the book\n",
    "\n",
    "with tf.Session() as sess:\n",
    "    saver.restore(sess, \"/tmp/my_model_final.ckpt\")  # this restores the graph's state\n",
    "    best_theta_restored = theta.eval()"
   ]
  },
  {
   "cell_type": "code",
   "execution_count": 64,
   "id": "654878ad",
   "metadata": {},
   "outputs": [],
   "source": [
    "from datetime import datetime\n",
    "\n",
    "now = datetime.utcnow().strftime(\"%Y%m%d%H%M%S\")\n",
    "root_logdir = \"tf_logs\"\n",
    "logdir = \"{}/run-{}/\".format(root_logdir, now)"
   ]
  },
  {
   "cell_type": "code",
   "execution_count": 65,
   "id": "1907d600",
   "metadata": {},
   "outputs": [],
   "source": [
    "def make_log_subdir(run_id=None):\n",
    "    if run_id is None:\n",
    "        run_id = datetime.utcnow().strftime(\"%Y%m%d%H%M%S\")\n",
    "    return \"{}/run-{}/\".format(root_logdir, run_id)"
   ]
  },
  {
   "cell_type": "code",
   "execution_count": 66,
   "id": "80f358d6",
   "metadata": {},
   "outputs": [],
   "source": [
    "file_writer = tf.summary.FileWriter(logdir, graph=tf.get_default_graph())"
   ]
  },
  {
   "cell_type": "code",
   "execution_count": 67,
   "id": "1e22d8e2",
   "metadata": {},
   "outputs": [],
   "source": [
    "file_writer.close()"
   ]
  },
  {
   "cell_type": "code",
   "execution_count": 68,
   "id": "8b0bd28e",
   "metadata": {},
   "outputs": [
    {
     "name": "stdout",
     "output_type": "stream",
     "text": [
      "The tensorboard extension is already loaded. To reload it, use:\n",
      "  %reload_ext tensorboard\n"
     ]
    },
    {
     "data": {
      "text/plain": [
       "Reusing TensorBoard on port 6006 (pid 17548), started 0:54:50 ago. (Use '!kill 17548' to kill it.)"
      ]
     },
     "metadata": {},
     "output_type": "display_data"
    },
    {
     "data": {
      "text/html": [
       "\n",
       "      <iframe id=\"tensorboard-frame-5007b5605bed0a12\" width=\"100%\" height=\"800\" frameborder=\"0\">\n",
       "      </iframe>\n",
       "      <script>\n",
       "        (function() {\n",
       "          const frame = document.getElementById(\"tensorboard-frame-5007b5605bed0a12\");\n",
       "          const url = new URL(\"/\", window.location);\n",
       "          const port = 6006;\n",
       "          if (port) {\n",
       "            url.port = port;\n",
       "          }\n",
       "          frame.src = url;\n",
       "        })();\n",
       "      </script>\n",
       "    "
      ],
      "text/plain": [
       "<IPython.core.display.HTML object>"
      ]
     },
     "metadata": {},
     "output_type": "display_data"
    }
   ],
   "source": [
    "%load_ext tensorboard\n",
    "\n",
    "%tensorboard --logdir {root_logdir}"
   ]
  },
  {
   "cell_type": "code",
   "execution_count": 69,
   "id": "44ed903c",
   "metadata": {},
   "outputs": [],
   "source": [
    "def save_graph(graph=None, run_id=None):\n",
    "    if graph is None:\n",
    "        graph = tf.get_default_graph()\n",
    "    logdir = make_log_subdir(run_id)\n",
    "    file_writer = tf.summary.FileWriter(logdir, graph=graph)\n",
    "    file_writer.close()\n",
    "    return logdir"
   ]
  },
  {
   "cell_type": "code",
   "execution_count": 70,
   "id": "62802594",
   "metadata": {},
   "outputs": [
    {
     "data": {
      "text/plain": [
       "'tf_logs/run-20220817213129/'"
      ]
     },
     "execution_count": 70,
     "metadata": {},
     "output_type": "execute_result"
    }
   ],
   "source": [
    "save_graph()"
   ]
  },
  {
   "cell_type": "code",
   "execution_count": 71,
   "id": "89cce325",
   "metadata": {},
   "outputs": [
    {
     "data": {
      "text/plain": [
       "Reusing TensorBoard on port 6006 (pid 17548), started 0:56:02 ago. (Use '!kill 17548' to kill it.)"
      ]
     },
     "metadata": {},
     "output_type": "display_data"
    },
    {
     "data": {
      "text/html": [
       "\n",
       "      <iframe id=\"tensorboard-frame-480991060f0cf6f6\" width=\"100%\" height=\"800\" frameborder=\"0\">\n",
       "      </iframe>\n",
       "      <script>\n",
       "        (function() {\n",
       "          const frame = document.getElementById(\"tensorboard-frame-480991060f0cf6f6\");\n",
       "          const url = new URL(\"/\", window.location);\n",
       "          const port = 6006;\n",
       "          if (port) {\n",
       "            url.port = port;\n",
       "          }\n",
       "          frame.src = url;\n",
       "        })();\n",
       "      </script>\n",
       "    "
      ],
      "text/plain": [
       "<IPython.core.display.HTML object>"
      ]
     },
     "metadata": {},
     "output_type": "display_data"
    }
   ],
   "source": [
    "\n",
    "%tensorboard --logdir {root_logdir}"
   ]
  }
 ],
 "metadata": {
  "kernelspec": {
   "display_name": "Python 3",
   "language": "python",
   "name": "python3"
  },
  "language_info": {
   "codemirror_mode": {
    "name": "ipython",
    "version": 3
   },
   "file_extension": ".py",
   "mimetype": "text/x-python",
   "name": "python",
   "nbconvert_exporter": "python",
   "pygments_lexer": "ipython3",
   "version": "3.8.8"
  }
 },
 "nbformat": 4,
 "nbformat_minor": 5
}
