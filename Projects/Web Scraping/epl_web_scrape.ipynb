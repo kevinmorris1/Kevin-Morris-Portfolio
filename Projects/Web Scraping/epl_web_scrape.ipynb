{
 "cells": [
  {
   "cell_type": "code",
   "execution_count": 45,
   "metadata": {},
   "outputs": [],
   "source": [
    "import requests\n",
    "from bs4 import BeautifulSoup\n",
    "import pandas as pd\n",
    "import time"
   ]
  },
  {
   "cell_type": "code",
   "execution_count": 51,
   "metadata": {},
   "outputs": [
    {
     "name": "stdout",
     "output_type": "stream",
     "text": [
      "[2022, 2021, 2020, 2019]\n"
     ]
    }
   ],
   "source": [
    "years = list(range(2022, 2018, -1))\n",
    "print(years)\n",
    "all_matches = []\n",
    "standings_url = \"https://fbref.com/en/comps/9/Premier-League-Stats\""
   ]
  },
  {
   "cell_type": "code",
   "execution_count": 52,
   "metadata": {},
   "outputs": [
    {
     "name": "stdout",
     "output_type": "stream",
     "text": [
      "Arsenal\n",
      "Manchester City\n",
      "Tottenham Hotspur\n",
      "Brighton and Hove Albion\n",
      "Leeds United\n",
      "Chelsea\n",
      "Newcastle United\n",
      "Manchester United\n",
      "Liverpool\n",
      "Brentford\n",
      "Fulham\n",
      "Crystal Palace\n",
      "Southampton\n",
      "Nottingham Forest\n",
      "Aston Villa\n",
      "West Ham United\n",
      "Bournemouth\n",
      "Everton\n",
      "Wolverhampton Wanderers\n",
      "Leicester City\n",
      "Manchester City\n",
      "Liverpool\n",
      "Chelsea\n",
      "Tottenham Hotspur\n",
      "Arsenal\n",
      "Manchester United\n",
      "West Ham United\n",
      "Leicester City\n",
      "Brighton and Hove Albion\n",
      "Wolverhampton Wanderers\n",
      "Newcastle United\n",
      "Crystal Palace\n",
      "Brentford\n",
      "Aston Villa\n",
      "Southampton\n",
      "Everton\n",
      "Leeds United\n",
      "Burnley\n",
      "Watford\n",
      "Norwich City\n",
      "Manchester City\n",
      "Manchester United\n",
      "Liverpool\n",
      "Chelsea\n",
      "Leicester City\n",
      "West Ham United\n",
      "Tottenham Hotspur\n",
      "Arsenal\n",
      "Leeds United\n",
      "Everton\n",
      "Aston Villa\n",
      "Newcastle United\n",
      "Wolverhampton Wanderers\n",
      "Crystal Palace\n",
      "Southampton\n",
      "Brighton and Hove Albion\n",
      "Burnley\n",
      "Fulham\n",
      "West Bromwich Albion\n",
      "Sheffield United\n",
      "Liverpool\n",
      "Manchester City\n",
      "Manchester United\n",
      "Chelsea\n",
      "Leicester City\n",
      "Tottenham Hotspur\n",
      "Wolverhampton Wanderers\n",
      "Arsenal\n",
      "Sheffield United\n",
      "Burnley\n",
      "Southampton\n",
      "Everton\n",
      "Newcastle United\n",
      "Crystal Palace\n",
      "Brighton and Hove Albion\n",
      "West Ham United\n",
      "Aston Villa\n",
      "Bournemouth\n",
      "Watford\n",
      "Norwich City\n"
     ]
    }
   ],
   "source": [
    "for year in years:  # loop for all years in range\n",
    "    data = requests.get(standings_url) # request page\n",
    "    soup = BeautifulSoup(data.text) # extract all information form page\n",
    "    standings_table = soup.select('table.stats_table')[0] # log the standings table for the current year\n",
    "\n",
    "    links = [l.get(\"href\") for l in standings_table.find_all('a')] # get the reference to all the links from all links on page\n",
    "    links = [l for l in links if '/squads/' in l] # all links with '/squads/' in order to find the team pages for all clubs\n",
    "    team_urls = [f\"https://fbref.com{l}\" for l in links] # absolute links for club specific pages\n",
    "    \n",
    "    previous_season = soup.select(\"a.prev\")[0].get(\"href\") # set new standings page to the previous season for next loop\n",
    "    standings_url = f\"https://fbref.com{previous_season}\"\n",
    "    \n",
    "    for team_url in team_urls: # loop for all team links on standings page\n",
    "        team_name = team_url.split(\"/\")[-1].replace(\"-Stats\", \"\").replace(\"-\", \" \") # parse team name\n",
    "        print(team_name)\n",
    "        data = requests.get(team_url)\n",
    "        \n",
    "        matches = pd.read_html(data.text, match=\"Scores & Fixtures\")[0] # Scores and fixtures dataframe for the club\n",
    "        matches = matches[['Date', 'Time', 'Comp', 'Round', 'Day', 'Venue', 'Result', 'GF', 'GA', 'Opponent', 'Attendance', 'Captain', 'Formation','Referee']]\n",
    "\n",
    "        soup = BeautifulSoup(data.text) # extract all information from page\n",
    "        links = soup.find_all('a') # find all links on page for the club\n",
    "        links = [l.get(\"href\") for l in links] # get reference urls for those links\n",
    "        links = [l for l in links if l and (('all_comps/shooting/' in l) or ('all_comps/possession/' in l) or ('all_comps/passing/' in l) or ('all_comps/defense/' in l))] # filter to only shooting stats links\n",
    "        links = [*set(links)]\n",
    "\n",
    "        for link in links:\n",
    "            if '/shooting/' in link:\n",
    "                data_shooting = requests.get(f\"https://fbref.com{link}\") # pull that data for the shooting stats link\n",
    "                shooting = pd.read_html(data_shooting.text, match=\"Shooting\")[0] # read the link's data from the Shooting table\n",
    "            if '/passing/' in link:\n",
    "                data_passing = requests.get(f\"https://fbref.com{link}\") \n",
    "                passing = pd.read_html(data_passing.text, match=\"Passing\")[0] \n",
    "            if '/possession/' in link:\n",
    "                data_possession = requests.get(f\"https://fbref.com{link}\")\n",
    "                possession = pd.read_html(data_possession.text, match=\"Possession\")[0]\n",
    "            if '/defense/' in link:\n",
    "                data_defense = requests.get(f\"https://fbref.com{link}\") \n",
    "                defense = pd.read_html(data_defense.text, match=\"Defensive Actions\")[0] \n",
    "\n",
    "        # Clear out unecessary multi indexed column names and rename columns to specify features\n",
    "        d = dict(zip(shooting.columns.levels[0], ['Expected', '', 'Standard', '']))\n",
    "        shooting = shooting.rename(columns=d, level=0)\n",
    "\n",
    "        d = dict(zip(possession.columns.levels[0], ['Carries', 'Dribbles', '', 'Receiving', 'Touches', '']))\n",
    "        possession = possession.rename(columns=d, level=0)\n",
    "\n",
    "        d = dict(zip(passing.columns.levels[0], ['', 'Long', 'Medium', 'Short', 'Total', '', '', '', '', '', '', '', '']))\n",
    "        passing = passing.rename(columns=d, level=0)\n",
    "\n",
    "        d = dict(zip(defense.columns.levels[0], ['Blocks', '', 'Pressures', 'Tackles', '', '', '', '', '', 'Vs Dribbles']))\n",
    "        defense = defense.rename(columns=d, level=0)\n",
    "\n",
    "        dataframes = {\n",
    "            'matches': matches, \n",
    "            'shooting': shooting, \n",
    "            'possession': possession, \n",
    "            'passing': passing, \n",
    "            'defense': defense\n",
    "        }\n",
    "\n",
    "        for key, df in dataframes.items():\n",
    "            if (key != 'matches'):\n",
    "                df.columns = ['_'.join(col).strip() for col in df.columns.values]\n",
    "            df.columns = df.columns.str.lstrip(\"_\")\n",
    "            df.columns = df.columns.str.replace(' ', '_')\n",
    "            df.columns = df.columns.str.replace('-', '_')\n",
    "            df.columns = df.columns.str.replace(':', '_')\n",
    "            df.columns = df.columns.str.lower()\n",
    "        \n",
    "        shooting = shooting.drop(columns='match_report')\n",
    "        possession = possession.drop(columns='match_report')\n",
    "        passing = passing.drop(columns='match_report')\n",
    "        defense = defense.drop(columns='match_report')\n",
    "\n",
    "\n",
    "        try:\n",
    "            team_data = matches.copy()\n",
    "            dataframes = {\n",
    "                'shooting': shooting, \n",
    "                'possession': possession, \n",
    "                'passing': passing, \n",
    "                'defense': defense\n",
    "            }\n",
    "            for key, df in dataframes.items():\n",
    "                team_data = team_data.merge(df, on=['date', 'time', 'comp', 'round', 'day', 'venue', 'result', 'gf', 'ga', 'opponent'])\n",
    "\n",
    "        except ValueError:\n",
    "            continue\n",
    "\n",
    "        team_data = team_data[team_data[\"comp\"] == \"Premier League\"]\n",
    "        \n",
    "        team_data[\"team\"] = team_name\n",
    "        all_matches.append(team_data)\n",
    "        time.sleep(1)"
   ]
  },
  {
   "cell_type": "code",
   "execution_count": 53,
   "metadata": {},
   "outputs": [],
   "source": [
    "match_df = pd.concat(all_matches).reset_index(drop=True)\n",
    "match_df = match_df.sort_values('date', ascending=False)"
   ]
  },
  {
   "cell_type": "code",
   "execution_count": 54,
   "metadata": {},
   "outputs": [
    {
     "data": {
      "text/plain": [
       "(2360, 99)"
      ]
     },
     "execution_count": 54,
     "metadata": {},
     "output_type": "execute_result"
    }
   ],
   "source": [
    "match_df.shape"
   ]
  },
  {
   "cell_type": "code",
   "execution_count": 56,
   "metadata": {},
   "outputs": [
    {
     "data": {
      "text/plain": [
       "Index(['date', 'time', 'comp', 'round', 'day', 'venue', 'result', 'gf', 'ga',\n",
       "       'opponent', 'attendance', 'captain', 'formation', 'referee',\n",
       "       'standard_gls', 'standard_sh', 'standard_sot', 'standard_sot%',\n",
       "       'standard_g/sh', 'standard_g/sot', 'standard_dist', 'standard_fk',\n",
       "       'standard_pk', 'standard_pkatt', 'expected_xg', 'expected_npxg',\n",
       "       'expected_npxg/sh', 'expected_g_xg', 'expected_np_g_xg', 'poss',\n",
       "       'touches_touches', 'touches_def_pen', 'touches_def_3rd',\n",
       "       'touches_mid_3rd', 'touches_att_3rd', 'touches_att_pen', 'touches_live',\n",
       "       'dribbles_succ', 'dribbles_att', 'dribbles_succ%', 'dribbles_#pl',\n",
       "       'dribbles_megs', 'carries_carries', 'carries_totdist',\n",
       "       'carries_prgdist', 'carries_prog', 'carries_1/3', 'carries_cpa',\n",
       "       'carries_mis', 'carries_dis', 'receiving_targ', 'receiving_rec',\n",
       "       'receiving_rec%', 'receiving_prog', 'total_cmp', 'total_att',\n",
       "       'total_cmp%', 'total_totdist', 'total_prgdist', 'short_cmp',\n",
       "       'short_att', 'short_cmp%', 'medium_cmp', 'medium_att', 'medium_cmp%',\n",
       "       'long_cmp', 'long_att', 'long_cmp%', 'ast', 'xa', 'kp', '1/3', 'ppa',\n",
       "       'crspa', 'prog', 'tackles_tkl', 'tackles_tklw', 'tackles_def_3rd',\n",
       "       'tackles_mid_3rd', 'tackles_att_3rd', 'vs_dribbles_tkl',\n",
       "       'vs_dribbles_att', 'vs_dribbles_tkl%', 'vs_dribbles_past',\n",
       "       'pressures_press', 'pressures_succ', 'pressures_%', 'pressures_def_3rd',\n",
       "       'pressures_mid_3rd', 'pressures_att_3rd', 'blocks_blocks', 'blocks_sh',\n",
       "       'blocks_shsv', 'blocks_pass', 'int', 'tkl+int', 'clr', 'err', 'team'],\n",
       "      dtype='object')"
      ]
     },
     "execution_count": 56,
     "metadata": {},
     "output_type": "execute_result"
    }
   ],
   "source": [
    "match_df.columns"
   ]
  },
  {
   "cell_type": "code",
   "execution_count": 67,
   "metadata": {},
   "outputs": [
    {
     "data": {
      "application/vnd.plotly.v1+json": {
       "config": {
        "plotlyServerURL": "https://plot.ly"
       },
       "data": [
        {
         "customdata": [
          [
           "Newcastle Utd",
           1
          ],
          [
           "Wolves",
           1
          ],
          [
           "Everton",
           1
          ],
          [
           "Brentford",
           1
          ],
          [
           "Manchester City",
           3
          ],
          [
           "Newcastle Utd",
           3
          ],
          [
           "Everton",
           1
          ],
          [
           "Nott'ham Forest",
           1
          ],
          [
           "Crystal Palace",
           1
          ],
          [
           "Liverpool",
           1
          ],
          [
           "Tottenham",
           2
          ],
          [
           "Chelsea",
           2
          ],
          [
           "Fulham",
           0
          ],
          [
           "Leeds United",
           2
          ],
          [
           "Newcastle Utd",
           0
          ],
          [
           "Southampton",
           2
          ],
          [
           "Brighton",
           0
          ],
          [
           "Wolves",
           0
          ],
          [
           "Leicester City",
           2
          ],
          [
           "Brentford",
           "2"
          ],
          [
           "Fulham",
           2
          ],
          [
           "Liverpool",
           2
          ],
          [
           "Aston Villa",
           "1"
          ],
          [
           "Leicester City",
           "1"
          ],
          [
           "Burnley",
           "1"
          ],
          [
           "Chelsea",
           "1"
          ],
          [
           "Manchester City",
           "2"
          ],
          [
           "West Ham",
           "2"
          ],
          [
           "Crystal Palace",
           "1"
          ],
          [
           "Wolves",
           1
          ],
          [
           "Aston Villa",
           1
          ],
          [
           "Norwich City",
           "1"
          ],
          [
           "Brighton",
           "1"
          ],
          [
           "Leeds United",
           "1"
          ],
          [
           "Everton",
           0
          ],
          [
           "Watford",
           "0"
          ],
          [
           "Tottenham",
           "1"
          ],
          [
           "Chelsea",
           "2"
          ],
          [
           "Liverpool",
           "1"
          ],
          [
           "Wolves",
           "2"
          ],
          [
           "Chelsea",
           "1"
          ],
          [
           "Manchester Utd",
           "1"
          ],
          [
           "Leeds United",
           0
          ],
          [
           "Crystal Palace",
           "0"
          ],
          [
           "Brighton",
           "2"
          ],
          [
           "Southampton",
           "2"
          ],
          [
           "Tottenham",
           0
          ],
          [
           "Leicester City",
           "0"
          ],
          [
           "Aston Villa",
           "0"
          ],
          [
           "Brentford",
           "0"
          ],
          [
           "Leicester City",
           "1"
          ],
          [
           "Everton",
           "1"
          ],
          [
           "West Ham",
           "1"
          ],
          [
           "Burnley",
           "1"
          ],
          [
           "Manchester City",
           "2"
          ],
          [
           "Liverpool",
           "2"
          ],
          [
           "Southampton",
           "1"
          ],
          [
           "Norwich City",
           "0"
          ],
          [
           "Leeds United",
           "1"
          ],
          [
           "Manchester Utd",
           "1"
          ],
          [
           "Brighton",
           0
          ],
          [
           "Leicester City",
           "1"
          ],
          [
           "Crystal Palace",
           "0"
          ],
          [
           "Manchester City",
           0
          ],
          [
           "Burnley",
           1
          ],
          [
           "Manchester Utd",
           0
          ],
          [
           "Crystal Palace",
           "1"
          ],
          [
           "Watford",
           "0"
          ],
          [
           "Newcastle Utd",
           "1"
          ],
          [
           "West Ham",
           "1"
          ],
          [
           "West Ham",
           "2"
          ],
          [
           "Leicester City",
           "2"
          ],
          [
           "Crystal Palace",
           0
          ],
          [
           "Manchester Utd",
           "1"
          ],
          [
           "Brentford",
           0
          ],
          [
           "Southampton",
           "1"
          ],
          [
           "Leeds United",
           "3"
          ],
          [
           "Norwich City",
           1
          ],
          [
           "Aston Villa",
           "3"
          ],
          [
           "Crystal Palace",
           1
          ],
          [
           "Burnley",
           "1"
          ],
          [
           "Manchester Utd",
           "1"
          ],
          [
           "Burnley",
           0
          ],
          [
           "Watford",
           "0"
          ],
          [
           "Leicester City",
           "1"
          ],
          [
           "Burnley",
           0
          ],
          [
           "Arsenal",
           "0"
          ],
          [
           "Brighton",
           "1"
          ],
          [
           "Manchester City",
           "1"
          ],
          [
           "Southampton",
           "1"
          ],
          [
           "Brighton",
           "1"
          ],
          [
           "Chelsea",
           "1"
          ],
          [
           "Aston Villa",
           "2"
          ],
          [
           "Newcastle Utd",
           1
          ],
          [
           "Watford",
           "1"
          ],
          [
           "Manchester Utd",
           "2"
          ],
          [
           "Crystal Palace",
           "1"
          ],
          [
           "Brighton",
           1
          ],
          [
           "Liverpool",
           "2"
          ],
          [
           "Chelsea",
           "2"
          ],
          [
           "Brighton",
           "1"
          ],
          [
           "Chelsea",
           "1"
          ],
          [
           "Southampton",
           "1"
          ],
          [
           "Tottenham",
           "1"
          ],
          [
           "Newcastle Utd",
           "1"
          ],
          [
           "Manchester Utd",
           "1"
          ],
          [
           "Chelsea",
           "0"
          ],
          [
           "Liverpool",
           "2"
          ],
          [
           "Tottenham",
           "2"
          ],
          [
           "Wolves",
           "0"
          ],
          [
           "Chelsea",
           "1"
          ],
          [
           "Everton",
           "1"
          ],
          [
           "Southampton",
           2
          ],
          [
           "Crystal Palace",
           "2"
          ],
          [
           "Burnley",
           "0"
          ],
          [
           "West Ham",
           "0"
          ],
          [
           "Leeds United",
           2
          ],
          [
           "Brentford",
           "2"
          ],
          [
           "Brighton",
           "1"
          ],
          [
           "Southampton",
           "1"
          ],
          [
           "Southampton",
           "2"
          ],
          [
           "West Ham",
           "1"
          ],
          [
           "Wolves",
           "0"
          ],
          [
           "Leicester City",
           "2"
          ],
          [
           "Brighton",
           "1"
          ],
          [
           "Burnley",
           "0"
          ],
          [
           "Norwich City",
           "1"
          ],
          [
           "Newcastle Utd",
           1
          ],
          [
           "Chelsea",
           "1"
          ],
          [
           "Manchester Utd",
           "1"
          ],
          [
           "Norwich City",
           "0"
          ],
          [
           "Brighton",
           "0"
          ],
          [
           "Wolves",
           0
          ],
          [
           "Leeds United",
           "0"
          ],
          [
           "Newcastle Utd",
           3
          ],
          [
           "Crystal Palace",
           "3"
          ],
          [
           "Brentford",
           "3"
          ],
          [
           "Burnley",
           3
          ],
          [
           "Tottenham",
           "0"
          ],
          [
           "Leicester City",
           "1"
          ],
          [
           "Everton",
           "0"
          ],
          [
           "Leeds United",
           "1"
          ],
          [
           "Chelsea",
           "1"
          ],
          [
           "Burnley",
           "1"
          ],
          [
           "Newcastle Utd",
           "1"
          ],
          [
           "Brighton",
           "1"
          ],
          [
           "Brighton",
           "2"
          ],
          [
           "Liverpool",
           "2"
          ],
          [
           "Newcastle Utd",
           1
          ],
          [
           "Wolves",
           "1"
          ],
          [
           "Southampton",
           "2"
          ],
          [
           "Burnley",
           "2"
          ],
          [
           "Leeds United",
           "1"
          ],
          [
           "Crystal Palace",
           "1"
          ],
          [
           "Crystal Palace",
           2
          ],
          [
           "Arsenal",
           2
          ],
          [
           "Norwich City",
           "0"
          ],
          [
           "Brighton",
           0
          ],
          [
           "Liverpool",
           "2"
          ],
          [
           "Crystal Palace",
           "2"
          ],
          [
           "Manchester City",
           "2"
          ],
          [
           "Leicester City",
           2
          ],
          [
           "Everton",
           "1"
          ],
          [
           "Arsenal",
           "0"
          ],
          [
           "Burnley",
           0
          ],
          [
           "Brighton",
           0
          ],
          [
           "Manchester Utd",
           "1"
          ],
          [
           "Norwich City",
           "0"
          ],
          [
           "Brighton",
           1
          ],
          [
           "Crystal Palace",
           "1"
          ],
          [
           "Newcastle Utd",
           1
          ],
          [
           "Brentford",
           "3"
          ],
          [
           "Liverpool",
           3
          ],
          [
           "Leicester City",
           "2"
          ],
          [
           "Burnley",
           "2"
          ],
          [
           "Watford",
           "1"
          ],
          [
           "Manchester City",
           "0"
          ],
          [
           "Southampton",
           "0"
          ],
          [
           "Newcastle Utd",
           "1"
          ],
          [
           "Leeds United",
           "1"
          ],
          [
           "West Ham",
           "0"
          ],
          [
           "Southampton",
           "0"
          ],
          [
           "Burnley",
           "1"
          ],
          [
           "Leeds United",
           "1"
          ],
          [
           "Brentford",
           "1"
          ],
          [
           "Newcastle Utd",
           "2"
          ],
          [
           "Crystal Palace",
           "2"
          ],
          [
           "Southampton",
           "2"
          ],
          [
           "Aston Villa",
           1
          ],
          [
           "Chelsea",
           "1"
          ],
          [
           "West Ham",
           2
          ],
          [
           "Liverpool",
           "1"
          ],
          [
           "Southampton",
           "1"
          ],
          [
           "Manchester Utd",
           "1"
          ],
          [
           "Everton",
           "2"
          ],
          [
           "Brentford",
           0
          ],
          [
           "Crystal Palace",
           0
          ],
          [
           "Leeds United",
           "2"
          ],
          [
           "Manchester Utd",
           1
          ],
          [
           "Fulham",
           "1"
          ],
          [
           "Brighton",
           1
          ],
          [
           "West Ham",
           "1"
          ],
          [
           "Aston Villa",
           0
          ],
          [
           "Everton",
           0
          ],
          [
           "Wolves",
           "1"
          ],
          [
           "West Brom",
           1
          ],
          [
           "Southampton",
           1
          ],
          [
           "Leicester City",
           1
          ],
          [
           "Aston Villa",
           "2"
          ],
          [
           "Leeds United",
           "0"
          ],
          [
           "Manchester Utd",
           "0"
          ],
          [
           "West Brom",
           2
          ],
          [
           "Liverpool",
           "1"
          ],
          [
           "Newcastle Utd",
           "1"
          ],
          [
           "Chelsea",
           "0"
          ],
          [
           "Brighton",
           "0"
          ],
          [
           "Leeds United",
           "1"
          ],
          [
           "Liverpool",
           "1"
          ],
          [
           "Arsenal",
           1
          ],
          [
           "Fulham",
           "1"
          ],
          [
           "Tottenham",
           2
          ],
          [
           "Everton",
           "2"
          ],
          [
           "Brighton",
           0
          ],
          [
           "Everton",
           "0"
          ],
          [
           "Everton",
           "1"
          ],
          [
           "Crystal Palace",
           1
          ],
          [
           "Newcastle Utd",
           "2"
          ],
          [
           "Tottenham",
           "2"
          ],
          [
           "West Ham",
           "3"
          ],
          [
           "Arsenal",
           3
          ],
          [
           "Chelsea",
           "0"
          ],
          [
           "Leeds United",
           "0"
          ],
          [
           "Aston Villa",
           "1"
          ],
          [
           "Newcastle Utd",
           1
          ],
          [
           "West Brom",
           "0"
          ],
          [
           "Newcastle Utd",
           "0"
          ],
          [
           "Wolves",
           0
          ],
          [
           "Burnley",
           "1"
          ],
          [
           "Arsenal",
           "1"
          ],
          [
           "Aston Villa",
           0
          ],
          [
           "Leicester City",
           "1"
          ],
          [
           "Burnley",
           1
          ],
          [
           "Crystal Palace",
           "0"
          ],
          [
           "Manchester Utd",
           "0"
          ],
          [
           "Crystal Palace",
           0
          ],
          [
           "Chelsea",
           "0"
          ],
          [
           "Manchester Utd",
           "0"
          ],
          [
           "Fulham",
           "0"
          ],
          [
           "Newcastle Utd",
           1
          ],
          [
           "Wolves",
           "1"
          ],
          [
           "Burnley",
           "0"
          ],
          [
           "Southampton",
           "1"
          ],
          [
           "Chelsea",
           1
          ],
          [
           "West Brom",
           "0"
          ],
          [
           "Burnley",
           1
          ],
          [
           "Fulham",
           "1"
          ],
          [
           "West Brom",
           "1"
          ],
          [
           "Manchester Utd",
           "1"
          ],
          [
           "Brighton",
           0
          ],
          [
           "Aston Villa",
           "0"
          ],
          [
           "Wolves",
           0
          ],
          [
           "Leicester City",
           0
          ],
          [
           "Brighton",
           "1"
          ],
          [
           "Manchester Utd",
           3
          ],
          [
           "Burnley",
           "1"
          ],
          [
           "West Ham",
           0
          ],
          [
           "Fulham",
           0
          ],
          [
           "Everton",
           "3"
          ],
          [
           "Manchester Utd",
           "0"
          ],
          [
           "West Brom",
           2
          ],
          [
           "Fulham",
           "2"
          ],
          [
           "Arsenal",
           "0"
          ],
          [
           "Brighton",
           0
          ],
          [
           "Everton",
           1
          ],
          [
           "Fulham",
           "0"
          ],
          [
           "Leicester City",
           1
          ],
          [
           "Wolves",
           "0"
          ],
          [
           "Chelsea",
           0
          ],
          [
           "Manchester Utd",
           "0"
          ],
          [
           "Liverpool",
           "0"
          ],
          [
           "Crystal Palace",
           "0"
          ],
          [
           "Arsenal",
           "0"
          ],
          [
           "Fulham",
           "1"
          ],
          [
           "Tottenham",
           1
          ],
          [
           "Wolves",
           "3"
          ],
          [
           "Brighton",
           3
          ],
          [
           "Newcastle Utd",
           "0"
          ],
          [
           "Liverpool",
           "0"
          ],
          [
           "West Ham",
           0
          ],
          [
           "Southampton",
           0
          ],
          [
           "Leicester City",
           "1"
          ],
          [
           "Aston Villa",
           "1"
          ],
          [
           "Crystal Palace",
           1
          ],
          [
           "Chelsea",
           1
          ],
          [
           "Tottenham",
           1
          ],
          [
           "West Ham",
           "2"
          ],
          [
           "Liverpool",
           "1"
          ],
          [
           "West Brom",
           "1"
          ],
          [
           "Brighton",
           2
          ],
          [
           "Wolves",
           "1"
          ],
          [
           "Manchester Utd",
           2
          ],
          [
           "Leicester City",
           "2"
          ],
          [
           "Fulham",
           0
          ],
          [
           "Southampton",
           0
          ],
          [
           "Brighton",
           "1"
          ],
          [
           "Sheffield Utd",
           "1"
          ],
          [
           "Fulham",
           "1"
          ],
          [
           "Newcastle Utd",
           1
          ],
          [
           "Burnley",
           0
          ],
          [
           "Aston Villa",
           "0"
          ],
          [
           "Arsenal",
           1
          ],
          [
           "Brighton",
           0
          ],
          [
           "Southampton",
           "1"
          ],
          [
           "Fulham",
           "0"
          ],
          [
           "Crystal Palace",
           1
          ],
          [
           "West Ham",
           "1"
          ],
          [
           "Manchester City",
           "1"
          ],
          [
           "West Brom",
           1
          ],
          [
           "Tottenham",
           "1"
          ],
          [
           "Liverpool",
           1
          ],
          [
           "Crystal Palace",
           "1"
          ],
          [
           "Fulham",
           "1"
          ],
          [
           "Manchester City",
           "0"
          ],
          [
           "Manchester Utd",
           0
          ],
          [
           "Everton",
           "1"
          ],
          [
           "Burnley",
           1
          ],
          [
           "Tottenham",
           "0"
          ],
          [
           "Chelsea",
           "0"
          ],
          [
           "Brighton",
           "1"
          ],
          [
           "Liverpool",
           "1"
          ],
          [
           "Wolves",
           1
          ],
          [
           "Southampton",
           1
          ],
          [
           "Arsenal",
           "0"
          ],
          [
           "Leeds United",
           "0"
          ],
          [
           "Liverpool",
           1
          ],
          [
           "Manchester City",
           "1"
          ],
          [
           "Burnley",
           "0"
          ],
          [
           "Brighton",
           "0"
          ],
          [
           "West Brom",
           "1"
          ],
          [
           "Brighton",
           "1"
          ],
          [
           "Newcastle Utd",
           1
          ],
          [
           "Wolves",
           "1"
          ],
          [
           "Manchester City",
           1
          ],
          [
           "Chelsea",
           "0"
          ],
          [
           "West Ham",
           1
          ],
          [
           "Manchester Utd",
           "0"
          ],
          [
           "Burnley",
           "0"
          ],
          [
           "West Brom",
           "0"
          ],
          [
           "West Ham",
           "3"
          ],
          [
           "Crystal Palace",
           "1"
          ],
          [
           "Fulham",
           "1"
          ],
          [
           "Brighton",
           "1"
          ],
          [
           "Sheffield Utd",
           1
          ],
          [
           "Tottenham",
           3
          ],
          [
           "Southampton",
           "3"
          ],
          [
           "Everton",
           "2"
          ],
          [
           "Chelsea",
           3
          ],
          [
           "Liverpool",
           2
          ],
          [
           "Leeds United",
           1
          ],
          [
           "Manchester City",
           "1"
          ],
          [
           "Newcastle Utd",
           "1"
          ],
          [
           "Tottenham",
           "1"
          ],
          [
           "Chelsea",
           "3"
          ],
          [
           "West Brom",
           "3"
          ],
          [
           "Crystal Palace",
           "1"
          ],
          [
           "Tottenham",
           "1"
          ],
          [
           "Aston Villa",
           1
          ],
          [
           "West Ham",
           1
          ],
          [
           "Manchester Utd",
           1
          ],
          [
           "West Ham",
           "1"
          ],
          [
           "Newcastle Utd",
           0
          ],
          [
           "Brighton",
           "0"
          ],
          [
           "Aston Villa",
           "1"
          ],
          [
           "Everton",
           1
          ],
          [
           "Brighton",
           1
          ],
          [
           "Southampton",
           1
          ],
          [
           "Burnley",
           "1"
          ],
          [
           "Wolves",
           1
          ],
          [
           "Manchester Utd",
           2
          ],
          [
           "Southampton",
           "2"
          ],
          [
           "Burnley",
           "1"
          ],
          [
           "Liverpool",
           1
          ],
          [
           "Tottenham",
           "0"
          ],
          [
           "Bournemouth",
           "0"
          ],
          [
           "Southampton",
           "1"
          ],
          [
           "Everton",
           1
          ],
          [
           "Leicester City",
           "1"
          ],
          [
           "Arsenal",
           "1"
          ],
          [
           "Newcastle Utd",
           2
          ],
          [
           "Burnley",
           1
          ],
          [
           "Sheffield Utd",
           1
          ],
          [
           "West Ham",
           "2"
          ],
          [
           "Newcastle Utd",
           1
          ],
          [
           "Aston Villa",
           "1"
          ],
          [
           "Brighton",
           "0"
          ],
          [
           "Leicester City",
           0
          ],
          [
           "Liverpool",
           "0"
          ],
          [
           "Everton",
           "0"
          ],
          [
           "Watford",
           "1"
          ],
          [
           "Leicester City",
           1
          ],
          [
           "Manchester Utd",
           "1"
          ],
          [
           "Tottenham",
           "1"
          ],
          [
           "Sheffield Utd",
           0
          ],
          [
           "Aston Villa",
           0
          ],
          [
           "Tottenham",
           1
          ],
          [
           "Burnley",
           "1"
          ],
          [
           "Wolves",
           0
          ],
          [
           "Brighton",
           "0"
          ],
          [
           "Everton",
           "1"
          ],
          [
           "Manchester Utd",
           "1"
          ],
          [
           "Newcastle Utd",
           0
          ],
          [
           "Burnley",
           "0"
          ],
          [
           "Bournemouth",
           "2"
          ],
          [
           "Chelsea",
           "2"
          ],
          [
           "Sheffield Utd",
           1
          ],
          [
           "Brighton",
           1
          ],
          [
           "Leicester City",
           "0"
          ],
          [
           "Wolves",
           "0"
          ],
          [
           "Brighton",
           1
          ],
          [
           "Watford",
           1
          ],
          [
           "Arsenal",
           0
          ],
          [
           "Burnley",
           "0"
          ],
          [
           "Manchester Utd",
           "0"
          ],
          [
           "Newcastle Utd",
           "0"
          ],
          [
           "West Ham",
           3
          ],
          [
           "Leicester City",
           "2"
          ],
          [
           "Chelsea",
           "2"
          ],
          [
           "Norwich City",
           "0"
          ],
          [
           "Wolves",
           "0"
          ],
          [
           "Brighton",
           3
          ],
          [
           "Chelsea",
           "2"
          ],
          [
           "Everton",
           "2"
          ],
          [
           "Newcastle Utd",
           "2"
          ],
          [
           "Arsenal",
           "2"
          ],
          [
           "Sheffield Utd",
           "1"
          ],
          [
           "Tottenham",
           0
          ],
          [
           "Arsenal",
           1
          ],
          [
           "Brighton",
           1
          ],
          [
           "Everton",
           1
          ],
          [
           "Aston Villa",
           1
          ],
          [
           "Manchester City",
           "2"
          ],
          [
           "Watford",
           "0"
          ],
          [
           "Crystal Palace",
           "2"
          ],
          [
           "West Ham",
           "1"
          ],
          [
           "Crystal Palace",
           "1"
          ],
          [
           "Arsenal",
           "1"
          ],
          [
           "Wolves",
           "1"
          ],
          [
           "Newcastle Utd",
           "1"
          ],
          [
           "Brighton",
           "1"
          ],
          [
           "Crystal Palace",
           "1"
          ],
          [
           "Chelsea",
           1
          ],
          [
           "Norwich City",
           "1"
          ],
          [
           "Norwich City",
           "2"
          ],
          [
           "Tottenham",
           "2"
          ],
          [
           "Crystal Palace",
           1
          ],
          [
           "Southampton",
           "1"
          ],
          [
           "Sheffield Utd",
           1
          ],
          [
           "Arsenal",
           "1"
          ],
          [
           "Bournemouth",
           "1"
          ],
          [
           "Watford",
           1
          ],
          [
           "Arsenal",
           "0"
          ],
          [
           "Everton",
           "0"
          ],
          [
           "Brighton",
           "1"
          ],
          [
           "Crystal Palace",
           1
          ],
          [
           "Everton",
           "1"
          ],
          [
           "Manchester Utd",
           "1"
          ],
          [
           "Leicester City",
           "1"
          ],
          [
           "Norwich City",
           "1"
          ],
          [
           "Brighton",
           "2"
          ],
          [
           "Wolves",
           2
          ],
          [
           "Crystal Palace",
           0
          ],
          [
           "Watford",
           "0"
          ],
          [
           "Wolves",
           1
          ],
          [
           "Manchester Utd",
           2
          ],
          [
           "Arsenal",
           "2"
          ],
          [
           "Norwich City",
           "2"
          ],
          [
           "Sheffield Utd",
           "1"
          ],
          [
           "Aston Villa",
           "2"
          ],
          [
           "Newcastle Utd",
           "2"
          ],
          [
           "Manchester City",
           "2"
          ],
          [
           "Manchester Utd",
           3
          ],
          [
           "Sheffield Utd",
           "3"
          ],
          [
           "Arsenal",
           2
          ],
          [
           "Southampton",
           "2"
          ],
          [
           "Tottenham",
           1
          ],
          [
           "Sheffield Utd",
           "1"
          ],
          [
           "Tottenham",
           "1"
          ],
          [
           "Everton",
           "1"
          ],
          [
           "Arsenal",
           "1"
          ],
          [
           "Wolves",
           "1"
          ],
          [
           "Crystal Palace",
           "2"
          ],
          [
           "Wolves",
           "1"
          ],
          [
           "Newcastle Utd",
           "1"
          ],
          [
           "Arsenal",
           "2"
          ],
          [
           "Bournemouth",
           0
          ],
          [
           "Sheffield Utd",
           1
          ],
          [
           "Watford",
           "0"
          ],
          [
           "West Ham",
           1
          ],
          [
           "Liverpool",
           "1"
          ],
          [
           "Manchester Utd",
           "1"
          ],
          [
           "Southampton",
           "1"
          ],
          [
           "Watford",
           "1"
          ],
          [
           "Tottenham",
           1
          ],
          [
           "Norwich City",
           "0"
          ],
          [
           "Wolves",
           1
          ],
          [
           "Bournemouth",
           "0"
          ],
          [
           "Watford",
           0
          ],
          [
           "Sheffield Utd",
           0
          ],
          [
           "Manchester Utd",
           "1"
          ],
          [
           "Arsenal",
           "1"
          ],
          [
           "West Ham",
           "2"
          ],
          [
           "Bournemouth",
           2
          ],
          [
           "Aston Villa",
           2
          ],
          [
           "Burnley",
           2
          ],
          [
           "Crystal Palace",
           "1"
          ],
          [
           "Wolves",
           "1"
          ],
          [
           "Newcastle Utd",
           0
          ],
          [
           "Brighton",
           "0"
          ],
          [
           "Aston Villa",
           0
          ],
          [
           "West Ham",
           0
          ],
          [
           "Watford",
           "2"
          ],
          [
           "Arsenal",
           2
          ],
          [
           "Burnley",
           1
          ],
          [
           "Brighton",
           1
          ],
          [
           "Arsenal",
           "2"
          ],
          [
           "Tottenham",
           "2"
          ],
          [
           "Newcastle Utd",
           1
          ],
          [
           "Watford",
           "1"
          ],
          [
           "Southampton",
           "1"
          ],
          [
           "Sheffield Utd",
           "2"
          ],
          [
           "Manchester Utd",
           1
          ],
          [
           "Chelsea",
           2
          ],
          [
           "Wolves",
           1
          ],
          [
           "Burnley",
           "1"
          ],
          [
           "Wolves",
           "1"
          ],
          [
           "Manchester Utd",
           "1"
          ],
          [
           "Chelsea",
           "1"
          ],
          [
           "Leicester City",
           "1"
          ],
          [
           "West Ham",
           1
          ],
          [
           "Brighton",
           1
          ],
          [
           "Manchester City",
           "2"
          ],
          [
           "Tottenham",
           "2"
          ],
          [
           "Leicester City",
           "0"
          ],
          [
           "Wolves",
           "0"
          ],
          [
           "Bournemouth",
           1
          ],
          [
           "Crystal Palace",
           "0"
          ],
          [
           "Everton",
           "0"
          ],
          [
           "Sheffield Utd",
           "1"
          ]
         ],
         "hovertemplate": "result=D<br>attendance=%{x}<br>gf=%{y}<br>opponent=%{customdata[0]}<br>ga=%{customdata[1]}<extra></extra>",
         "legendgroup": "D",
         "marker": {
          "color": "#636efa",
          "symbol": "circle"
         },
         "mode": "markers",
         "name": "D",
         "showlegend": true,
         "type": "scattergl",
         "x": [
          null,
          null,
          17009,
          17009,
          52258,
          52258,
          39271,
          39271,
          52970,
          52970,
          39946,
          39946,
          31178,
          30815,
          31552,
          30815,
          31552,
          31178,
          31794,
          31794,
          22207,
          22207,
          40468,
          31478,
          40468,
          31478,
          59972,
          59972,
          41136,
          31219,
          41136,
          31219,
          36638,
          36638,
          20653,
          20653,
          53177,
          32190,
          53177,
          32190,
          73564,
          73564,
          25357,
          25357,
          31335,
          31335,
          17072,
          32185,
          32185,
          17072,
          39153,
          39153,
          59958,
          59958,
          53197,
          53197,
          36580,
          31245,
          36580,
          73444,
          31245,
          73444,
          25309,
          25309,
          24203,
          73152,
          24203,
          73152,
          59949,
          59949,
          32061,
          32061,
          16958,
          73084,
          16958,
          73084,
          41927,
          26652,
          41927,
          26652,
          21233,
          21233,
          19527,
          19527,
          31231,
          59255,
          59255,
          31231,
          31178,
          31178,
          30880,
          30880,
          41968,
          52223,
          52223,
          41968,
          30675,
          30675,
          40072,
          40072,
          40080,
          40080,
          31304,
          31304,
          52178,
          52178,
          30631,
          45421,
          45421,
          30631,
          13933,
          13933,
          22861,
          22861,
          18065,
          18065,
          35639,
          35639,
          28706,
          28706,
          26951,
          59626,
          30328,
          26951,
          59626,
          30328,
          50757,
          50757,
          40041,
          40041,
          26911,
          31166,
          26911,
          31166,
          52131,
          18028,
          52131,
          18028,
          39059,
          36478,
          39059,
          36478,
          39798,
          39798,
          31267,
          31267,
          52598,
          52598,
          24609,
          36475,
          29145,
          29145,
          36475,
          24609,
          59475,
          59475,
          26777,
          26777,
          53102,
          25000,
          53102,
          25000,
          73128,
          31266,
          17427,
          31266,
          73128,
          17427,
          22975,
          22975,
          20650,
          16876,
          16876,
          31650,
          31650,
          20650,
          52698,
          52698,
          50407,
          50407,
          30000,
          30000,
          20000,
          20000,
          42045,
          44017,
          59751,
          44017,
          42045,
          54000,
          59751,
          54000,
          32000,
          32000,
          36293,
          23091,
          23091,
          36293,
          10000,
          10000,
          null,
          null,
          null,
          null,
          null,
          null,
          null,
          null,
          null,
          null,
          null,
          null,
          null,
          null,
          null,
          null,
          null,
          null,
          null,
          null,
          null,
          null,
          null,
          null,
          null,
          null,
          null,
          null,
          null,
          null,
          null,
          null,
          null,
          null,
          null,
          null,
          null,
          null,
          null,
          null,
          null,
          null,
          null,
          null,
          null,
          null,
          null,
          null,
          null,
          null,
          null,
          null,
          null,
          null,
          null,
          null,
          null,
          null,
          null,
          null,
          null,
          null,
          null,
          null,
          null,
          null,
          null,
          null,
          null,
          null,
          null,
          null,
          null,
          null,
          null,
          null,
          null,
          null,
          null,
          null,
          null,
          null,
          null,
          null,
          null,
          null,
          null,
          null,
          null,
          null,
          null,
          null,
          null,
          null,
          null,
          null,
          2000,
          2000,
          null,
          null,
          null,
          null,
          null,
          null,
          null,
          null,
          null,
          null,
          null,
          null,
          null,
          null,
          null,
          null,
          null,
          null,
          null,
          null,
          2000,
          2000,
          2000,
          2000,
          null,
          null,
          null,
          null,
          null,
          null,
          null,
          null,
          null,
          null,
          null,
          null,
          null,
          null,
          null,
          null,
          null,
          null,
          null,
          null,
          null,
          null,
          null,
          null,
          null,
          null,
          null,
          null,
          null,
          null,
          null,
          null,
          null,
          null,
          null,
          null,
          null,
          null,
          null,
          null,
          null,
          null,
          null,
          null,
          null,
          null,
          null,
          null,
          null,
          null,
          null,
          null,
          null,
          null,
          null,
          null,
          null,
          null,
          null,
          null,
          null,
          null,
          null,
          null,
          null,
          null,
          null,
          null,
          null,
          null,
          null,
          null,
          null,
          null,
          null,
          null,
          null,
          null,
          null,
          null,
          null,
          null,
          20496,
          20496,
          31490,
          31490,
          39374,
          39374,
          52219,
          52219,
          10667,
          10667,
          31888,
          31888,
          31682,
          31682,
          30443,
          30443,
          21048,
          21048,
          73363,
          52204,
          59952,
          32186,
          32186,
          52204,
          73363,
          59952,
          40577,
          38822,
          38822,
          40577,
          60310,
          21366,
          60310,
          30551,
          59915,
          30551,
          54439,
          21366,
          54439,
          59915,
          25468,
          25468,
          31570,
          31570,
          30559,
          27021,
          30559,
          27021,
          27072,
          27072,
          31108,
          31108,
          30222,
          10234,
          10234,
          30222,
          39336,
          39336,
          24175,
          24175,
          63328,
          63328,
          32101,
          32101,
          30189,
          30189,
          20070,
          20070,
          31642,
          73381,
          27067,
          27067,
          31642,
          73381,
          49937,
          49937,
          32024,
          32024,
          60295,
          60295,
          59781,
          59781,
          39001,
          39001,
          60383,
          60383,
          60345,
          46019,
          46019,
          60345,
          20821,
          59878,
          20821,
          59878,
          73737,
          73737,
          30915,
          58754,
          58754,
          10669,
          30915,
          10669,
          20811,
          20811,
          73201,
          73201,
          10729,
          10729,
          41546,
          41546,
          25122,
          25122,
          43316,
          43316,
          42010,
          42010,
          21360,
          21360,
          29398,
          29398,
          60333,
          60333,
          44157,
          44157,
          30499,
          40560,
          30499,
          40560,
          30522,
          30522,
          31314,
          31314,
          40629,
          40629,
          30459,
          30459,
          54503,
          54503,
          32015,
          32015,
          10714,
          25151,
          25151,
          10714
         ],
         "xaxis": "x",
         "y": [
          1,
          1,
          1,
          1,
          3,
          3,
          1,
          1,
          1,
          1,
          2,
          2,
          0,
          2,
          0,
          2,
          0,
          0,
          2,
          "2",
          2,
          2,
          "1",
          "1",
          "1",
          "1",
          "2",
          "2",
          "1",
          1,
          1,
          "1",
          "1",
          "1",
          0,
          "0",
          "1",
          "2",
          "1",
          "2",
          "1",
          "1",
          0,
          "0",
          "2",
          "2",
          0,
          "0",
          "0",
          "0",
          "1",
          "1",
          "1",
          "1",
          "2",
          "2",
          "1",
          "0",
          "1",
          "1",
          0,
          "1",
          "0",
          0,
          1,
          0,
          "1",
          "0",
          "1",
          "1",
          "2",
          "2",
          0,
          "1",
          0,
          "1",
          "3",
          1,
          "3",
          1,
          "1",
          "1",
          0,
          "0",
          "1",
          0,
          "0",
          "1",
          "1",
          "1",
          "1",
          "1",
          "2",
          1,
          "1",
          "2",
          "1",
          1,
          "2",
          "2",
          "1",
          "1",
          "1",
          "1",
          "1",
          "1",
          "0",
          "2",
          "2",
          "0",
          "1",
          "1",
          2,
          "2",
          "0",
          "0",
          2,
          "2",
          "1",
          "1",
          "2",
          "1",
          "0",
          "2",
          "1",
          "0",
          "1",
          1,
          "1",
          "1",
          "0",
          "0",
          0,
          "0",
          3,
          "3",
          "3",
          3,
          "0",
          "1",
          "0",
          "1",
          "1",
          "1",
          "1",
          "1",
          "2",
          "2",
          1,
          "1",
          "2",
          "2",
          "1",
          "1",
          2,
          2,
          "0",
          0,
          "2",
          "2",
          "2",
          2,
          "1",
          "0",
          0,
          0,
          "1",
          "0",
          1,
          "1",
          1,
          "3",
          3,
          "2",
          "2",
          "1",
          "0",
          "0",
          "1",
          "1",
          "0",
          "0",
          "1",
          "1",
          "1",
          "2",
          "2",
          "2",
          1,
          "1",
          2,
          "1",
          "1",
          "1",
          "2",
          0,
          0,
          "2",
          1,
          "1",
          1,
          "1",
          0,
          0,
          "1",
          1,
          1,
          1,
          "2",
          "0",
          "0",
          2,
          "1",
          "1",
          "0",
          "0",
          "1",
          "1",
          1,
          "1",
          2,
          "2",
          0,
          "0",
          "1",
          1,
          "2",
          "2",
          "3",
          3,
          "0",
          "0",
          "1",
          1,
          "0",
          "0",
          0,
          "1",
          "1",
          0,
          "1",
          1,
          "0",
          "0",
          0,
          "0",
          "0",
          "0",
          1,
          "1",
          "0",
          "1",
          1,
          "0",
          1,
          "1",
          "1",
          "1",
          0,
          "0",
          0,
          0,
          "1",
          3,
          "1",
          0,
          0,
          "3",
          "0",
          2,
          "2",
          "0",
          0,
          1,
          "0",
          1,
          "0",
          0,
          "0",
          "0",
          "0",
          "0",
          "1",
          1,
          "3",
          3,
          "0",
          "0",
          0,
          0,
          "1",
          "1",
          1,
          1,
          1,
          "2",
          "1",
          "1",
          2,
          "1",
          2,
          "2",
          0,
          0,
          "1",
          "1",
          "1",
          1,
          0,
          "0",
          1,
          0,
          "1",
          "0",
          1,
          "1",
          "1",
          1,
          "1",
          1,
          "1",
          "1",
          "0",
          0,
          "1",
          1,
          "0",
          "0",
          "1",
          "1",
          1,
          1,
          "0",
          "0",
          1,
          "1",
          "0",
          "0",
          "1",
          "1",
          1,
          "1",
          1,
          "0",
          1,
          "0",
          "0",
          "0",
          "3",
          "1",
          "1",
          "1",
          1,
          3,
          "3",
          "2",
          3,
          2,
          1,
          "1",
          "1",
          "1",
          "3",
          "3",
          "1",
          "1",
          1,
          1,
          1,
          "1",
          0,
          "0",
          "1",
          1,
          1,
          1,
          "1",
          1,
          2,
          "2",
          "1",
          1,
          "0",
          "0",
          "1",
          1,
          "1",
          "1",
          2,
          1,
          1,
          "2",
          1,
          "1",
          "0",
          0,
          "0",
          "0",
          "1",
          1,
          "1",
          "1",
          0,
          0,
          1,
          "1",
          0,
          "0",
          "1",
          "1",
          0,
          "0",
          "2",
          "2",
          1,
          1,
          "0",
          "0",
          1,
          1,
          0,
          "0",
          "0",
          "0",
          3,
          "2",
          "2",
          "0",
          "0",
          3,
          "2",
          "2",
          "2",
          "2",
          "1",
          0,
          1,
          1,
          1,
          1,
          "2",
          "0",
          "2",
          "1",
          "1",
          "1",
          "1",
          "1",
          "1",
          "1",
          1,
          "1",
          "2",
          "2",
          1,
          "1",
          1,
          "1",
          "1",
          1,
          "0",
          "0",
          "1",
          1,
          "1",
          "1",
          "1",
          "1",
          "2",
          2,
          0,
          "0",
          1,
          2,
          "2",
          "2",
          "1",
          "2",
          "2",
          "2",
          3,
          "3",
          2,
          "2",
          1,
          "1",
          "1",
          "1",
          "1",
          "1",
          "2",
          "1",
          "1",
          "2",
          0,
          1,
          "0",
          1,
          "1",
          "1",
          "1",
          "1",
          1,
          "0",
          1,
          "0",
          0,
          0,
          "1",
          "1",
          "2",
          2,
          2,
          2,
          "1",
          "1",
          0,
          "0",
          0,
          0,
          "2",
          2,
          1,
          1,
          "2",
          "2",
          1,
          "1",
          "1",
          "2",
          1,
          2,
          1,
          "1",
          "1",
          "1",
          "1",
          "1",
          1,
          1,
          "2",
          "2",
          "0",
          "0",
          1,
          "0",
          "0",
          "1"
         ],
         "yaxis": "y"
        },
        {
         "customdata": [
          [
           "Tottenham",
           2
          ],
          [
           "West Ham",
           1
          ],
          [
           "Chelsea",
           "2"
          ],
          [
           "Manchester City",
           4
          ],
          [
           "Arsenal",
           2
          ],
          [
           "Brighton",
           1
          ],
          [
           "Liverpool",
           "9"
          ],
          [
           "Manchester Utd",
           1
          ],
          [
           "Manchester Utd",
           2
          ],
          [
           "Leeds United",
           3
          ],
          [
           "Brighton",
           2
          ],
          [
           "Crystal Palace",
           3
          ],
          [
           "Tottenham",
           1
          ],
          [
           "Southampton",
           "2"
          ],
          [
           "Fulham",
           3
          ],
          [
           "Arsenal",
           "3"
          ],
          [
           "Nott'ham Forest",
           1
          ],
          [
           "Manchester City",
           "4"
          ],
          [
           "Aston Villa",
           2
          ],
          [
           "Brentford",
           4
          ],
          [
           "Arsenal",
           "4"
          ],
          [
           "Manchester City",
           2
          ],
          [
           "Brighton",
           2
          ],
          [
           "Newcastle Utd",
           2
          ],
          [
           "Leeds United",
           2
          ],
          [
           "Chelsea",
           1
          ],
          [
           "Tottenham",
           4
          ],
          [
           "Bournemouth",
           2
          ],
          [
           "Arsenal",
           2
          ],
          [
           "Manchester City",
           "3"
          ],
          [
           "Brighton",
           "3"
          ],
          [
           "Leeds United",
           2
          ],
          [
           "Chelsea",
           2
          ],
          [
           "Leicester City",
           "4"
          ],
          [
           "Liverpool",
           "3"
          ],
          [
           "Tottenham",
           5
          ],
          [
           "Arsenal",
           "5"
          ],
          [
           "Crystal Palace",
           "1"
          ],
          [
           "Newcastle Utd",
           "2"
          ],
          [
           "Everton",
           3
          ],
          [
           "Liverpool",
           "2"
          ],
          [
           "Newcastle Utd",
           2
          ],
          [
           "Leicester City",
           5
          ],
          [
           "Brentford",
           "3"
          ],
          [
           "Tottenham",
           "1"
          ],
          [
           "Tottenham",
           3
          ],
          [
           "Chelsea",
           "3"
          ],
          [
           "Manchester City",
           "5"
          ],
          [
           "Leicester City",
           3
          ],
          [
           "Liverpool",
           "2"
          ],
          [
           "Arsenal",
           "2"
          ],
          [
           "West Ham",
           4
          ],
          [
           "Manchester City",
           "5"
          ],
          [
           "Everton",
           "2"
          ],
          [
           "Aston Villa",
           "3"
          ],
          [
           "Crystal Palace",
           1
          ],
          [
           "Brighton",
           "4"
          ],
          [
           "Brentford",
           "3"
          ],
          [
           "Manchester Utd",
           3
          ],
          [
           "Everton",
           "1"
          ],
          [
           "Tottenham",
           "3"
          ],
          [
           "Arsenal",
           "2"
          ],
          [
           "Brighton",
           "3"
          ],
          [
           "Crystal Palace",
           "2"
          ],
          [
           "Manchester City",
           "4"
          ],
          [
           "Burnley",
           2
          ],
          [
           "Aston Villa",
           2
          ],
          [
           "Liverpool",
           "1"
          ],
          [
           "Liverpool",
           "2"
          ],
          [
           "Chelsea",
           "1"
          ],
          [
           "Burnley",
           "1"
          ],
          [
           "Manchester City",
           5
          ],
          [
           "Newcastle Utd",
           3
          ],
          [
           "Arsenal",
           "3"
          ],
          [
           "Burnley",
           "2"
          ],
          [
           "Manchester City",
           "3"
          ],
          [
           "Newcastle Utd",
           1
          ],
          [
           "Arsenal",
           "4"
          ],
          [
           "Liverpool",
           "4"
          ],
          [
           "Newcastle Utd",
           "2"
          ],
          [
           "Brentford",
           2
          ],
          [
           "Brighton",
           "1"
          ],
          [
           "Southampton",
           1
          ],
          [
           "Manchester Utd",
           3
          ],
          [
           "Norwich City",
           "2"
          ],
          [
           "Brentford",
           "2"
          ],
          [
           "Leicester City",
           2
          ],
          [
           "Everton",
           "1"
          ],
          [
           "Tottenham",
           "4"
          ],
          [
           "Leeds United",
           3
          ],
          [
           "Brighton",
           2
          ],
          [
           "Chelsea",
           "6"
          ],
          [
           "Newcastle Utd",
           "1"
          ],
          [
           "Burnley",
           "3"
          ],
          [
           "Crystal Palace",
           3
          ],
          [
           "Tottenham",
           "5"
          ],
          [
           "West Ham",
           "2"
          ],
          [
           "Brentford",
           "4"
          ],
          [
           "Wolves",
           "2"
          ],
          [
           "Manchester City",
           "2"
          ],
          [
           "Liverpool",
           2
          ],
          [
           "Leicester City",
           2
          ],
          [
           "Tottenham",
           "3"
          ],
          [
           "Arsenal",
           "1"
          ],
          [
           "Leeds United",
           "3"
          ],
          [
           "Everton",
           "1"
          ],
          [
           "Tottenham",
           "2"
          ],
          [
           "Liverpool",
           2
          ],
          [
           "Arsenal",
           "2"
          ],
          [
           "West Ham",
           "2"
          ],
          [
           "Watford",
           "2"
          ],
          [
           "Chelsea",
           "1"
          ],
          [
           "Wolves",
           "1"
          ],
          [
           "Leeds United",
           2
          ],
          [
           "Manchester Utd",
           "3"
          ],
          [
           "Brentford",
           "2"
          ],
          [
           "Liverpool",
           "2"
          ],
          [
           "Wolves",
           4
          ],
          [
           "Chelsea",
           3
          ],
          [
           "Aston Villa",
           "3"
          ],
          [
           "Newcastle Utd",
           "2"
          ],
          [
           "Tottenham",
           "5"
          ],
          [
           "Manchester City",
           "4"
          ],
          [
           "Arsenal",
           3
          ],
          [
           "Aston Villa",
           "4"
          ],
          [
           "Newcastle Utd",
           "2"
          ],
          [
           "Brentford",
           3
          ],
          [
           "Leicester City",
           "1"
          ],
          [
           "Crystal Palace",
           "2"
          ],
          [
           "Chelsea",
           "4"
          ],
          [
           "Liverpool",
           "1"
          ],
          [
           "Leicester City",
           "2"
          ],
          [
           "West Ham",
           "1"
          ],
          [
           "Aston Villa",
           "2"
          ],
          [
           "Newcastle Utd",
           2
          ],
          [
           "Tottenham",
           "4"
          ],
          [
           "Manchester City",
           "1"
          ],
          [
           "Southampton",
           2
          ],
          [
           "Arsenal",
           "2"
          ],
          [
           "Liverpool",
           "6"
          ],
          [
           "Burnley",
           "1"
          ],
          [
           "Crystal Palace",
           4
          ],
          [
           "Wolves",
           "2"
          ],
          [
           "Manchester Utd",
           "4"
          ],
          [
           "Tottenham",
           "3"
          ],
          [
           "Southampton",
           "2"
          ],
          [
           "Watford",
           "1"
          ],
          [
           "Chelsea",
           1
          ],
          [
           "Liverpool",
           3
          ],
          [
           "Arsenal",
           2
          ],
          [
           "Burnley",
           "3"
          ],
          [
           "Manchester Utd",
           "2"
          ],
          [
           "Liverpool",
           "1"
          ],
          [
           "Wolves",
           "2"
          ],
          [
           "Newcastle Utd",
           "1"
          ],
          [
           "Everton",
           "3"
          ],
          [
           "Brighton",
           2
          ],
          [
           "Manchester City",
           4
          ],
          [
           "Arsenal",
           "1"
          ],
          [
           "Liverpool",
           "2"
          ],
          [
           "Southampton",
           "3"
          ],
          [
           "Manchester City",
           2
          ],
          [
           "Newcastle Utd",
           "3"
          ],
          [
           "West Ham",
           1
          ],
          [
           "Liverpool",
           3
          ],
          [
           "Chelsea",
           "2"
          ],
          [
           "Manchester Utd",
           "1"
          ],
          [
           "Newcastle Utd",
           "1"
          ],
          [
           "Aston Villa",
           "1"
          ],
          [
           "Wolves",
           2
          ],
          [
           "Norwich City",
           3
          ],
          [
           "Manchester Utd",
           3
          ],
          [
           "Tottenham",
           "3"
          ],
          [
           "Liverpool",
           3
          ],
          [
           "Leeds United",
           "3"
          ],
          [
           "Wolves",
           "3"
          ],
          [
           "Norwich City",
           "2"
          ],
          [
           "Manchester City",
           "1"
          ],
          [
           "West Ham",
           2
          ],
          [
           "Southampton",
           4
          ],
          [
           "Wolves",
           "1"
          ],
          [
           "Brighton",
           "3"
          ],
          [
           "Leeds United",
           "3"
          ],
          [
           "Brentford",
           "2"
          ],
          [
           "West Ham",
           3
          ],
          [
           "Manchester City",
           2
          ],
          [
           "Tottenham",
           1
          ],
          [
           "Manchester Utd",
           "3"
          ],
          [
           "Manchester City",
           1
          ],
          [
           "Leicester City",
           "1"
          ],
          [
           "West Ham",
           4
          ],
          [
           "Crystal Palace",
           3
          ],
          [
           "Arsenal",
           5
          ],
          [
           "Brighton",
           2
          ],
          [
           "Tottenham",
           3
          ],
          [
           "Southampton",
           "3"
          ],
          [
           "Manchester City",
           "6"
          ],
          [
           "Chelsea",
           "3"
          ],
          [
           "Manchester City",
           "4"
          ],
          [
           "Arsenal",
           "4"
          ],
          [
           "Liverpool",
           "3"
          ],
          [
           "Arsenal",
           "2"
          ],
          [
           "Wolves",
           "1"
          ],
          [
           "Manchester City",
           "7"
          ],
          [
           "Aston Villa",
           2
          ],
          [
           "Crystal Palace",
           "3"
          ],
          [
           "Leicester City",
           "4"
          ],
          [
           "Manchester Utd",
           1
          ],
          [
           "Manchester City",
           "1"
          ],
          [
           "Arsenal",
           "3"
          ],
          [
           "Liverpool",
           "1"
          ],
          [
           "Chelsea",
           "3"
          ],
          [
           "Brentford",
           2
          ],
          [
           "Everton",
           2
          ],
          [
           "Aston Villa",
           "2"
          ],
          [
           "Manchester Utd",
           1
          ],
          [
           "Tottenham",
           3
          ],
          [
           "West Ham",
           "3"
          ],
          [
           "Liverpool",
           "1"
          ],
          [
           "Manchester City",
           3
          ],
          [
           "Newcastle Utd",
           "1"
          ],
          [
           "Tottenham",
           2
          ],
          [
           "Manchester Utd",
           3
          ],
          [
           "Manchester City",
           "2"
          ],
          [
           "Chelsea",
           2
          ],
          [
           "Liverpool",
           "4"
          ],
          [
           "Leeds United",
           1
          ],
          [
           "Manchester City",
           "2"
          ],
          [
           "Leicester City",
           4
          ],
          [
           "Brentford",
           "1"
          ],
          [
           "Arsenal",
           "2"
          ],
          [
           "Liverpool",
           "4"
          ],
          [
           "Aston Villa",
           2
          ],
          [
           "Tottenham",
           "2"
          ],
          [
           "Manchester City",
           "3"
          ],
          [
           "Norwich City",
           "2"
          ],
          [
           "Wolves",
           "1"
          ],
          [
           "Watford",
           "4"
          ],
          [
           "Aston Villa",
           "2"
          ],
          [
           "Liverpool",
           4
          ],
          [
           "Chelsea",
           "3"
          ],
          [
           "West Ham",
           "3"
          ],
          [
           "Arsenal",
           1
          ],
          [
           "Norwich City",
           2
          ],
          [
           "Crystal Palace",
           "2"
          ],
          [
           "Manchester City",
           "2"
          ],
          [
           "Southampton",
           "1"
          ],
          [
           "Wolves",
           "2"
          ],
          [
           "Leeds United",
           2
          ],
          [
           "West Ham",
           "4"
          ],
          [
           "Burnley",
           3
          ],
          [
           "Chelsea",
           "3"
          ],
          [
           "Manchester Utd",
           "3"
          ],
          [
           "Crystal Palace",
           "2"
          ],
          [
           "Arsenal",
           "2"
          ],
          [
           "Southampton",
           1
          ],
          [
           "Leicester City",
           2
          ],
          [
           "Liverpool",
           "5"
          ],
          [
           "West Ham",
           "1"
          ],
          [
           "Watford",
           "5"
          ],
          [
           "Manchester City",
           "4"
          ],
          [
           "Chelsea",
           7
          ],
          [
           "Arsenal",
           "3"
          ],
          [
           "Tottenham",
           "3"
          ],
          [
           "West Ham",
           "1"
          ],
          [
           "Wolves",
           "3"
          ],
          [
           "Liverpool",
           5
          ],
          [
           "Southampton",
           "1"
          ],
          [
           "Chelsea",
           1
          ],
          [
           "Manchester City",
           "2"
          ],
          [
           "Leicester City",
           "4"
          ],
          [
           "Tottenham",
           "2"
          ],
          [
           "Brentford",
           "2"
          ],
          [
           "Chelsea",
           "3"
          ],
          [
           "Wolves",
           "2"
          ],
          [
           "Leeds United",
           1
          ],
          [
           "Arsenal",
           "3"
          ],
          [
           "Wolves",
           "1"
          ],
          [
           "Everton",
           2
          ],
          [
           "Aston Villa",
           "1"
          ],
          [
           "West Ham",
           "2"
          ],
          [
           "Manchester City",
           "1"
          ],
          [
           "Manchester Utd",
           "2"
          ],
          [
           "Chelsea",
           "3"
          ],
          [
           "Brighton",
           "2"
          ],
          [
           "Aston Villa",
           "3"
          ],
          [
           "Liverpool",
           3
          ],
          [
           "Watford",
           3
          ],
          [
           "Brentford",
           "2"
          ],
          [
           "Arsenal",
           "1"
          ],
          [
           "Everton",
           "3"
          ],
          [
           "Liverpool",
           "3"
          ],
          [
           "Wolves",
           2
          ],
          [
           "Manchester City",
           "1"
          ],
          [
           "Arsenal",
           1
          ],
          [
           "Brighton",
           1
          ],
          [
           "Chelsea",
           "3"
          ],
          [
           "Manchester Utd",
           "4"
          ],
          [
           "Crystal Palace",
           "3"
          ],
          [
           "Tottenham",
           1
          ],
          [
           "Manchester Utd",
           "1"
          ],
          [
           "Manchester City",
           5
          ],
          [
           "Everton",
           "2"
          ],
          [
           "Leicester City",
           2
          ],
          [
           "West Ham",
           "4"
          ],
          [
           "Tottenham",
           "1"
          ],
          [
           "Chelsea",
           2
          ],
          [
           "Brighton",
           2
          ],
          [
           "Liverpool",
           "2"
          ],
          [
           "Manchester City",
           5
          ],
          [
           "Aston Villa",
           "2"
          ],
          [
           "Tottenham",
           "1"
          ],
          [
           "West Ham",
           "4"
          ],
          [
           "Chelsea",
           3
          ],
          [
           "Manchester Utd",
           "5"
          ],
          [
           "Brighton",
           "2"
          ],
          [
           "Liverpool",
           3
          ],
          [
           "Watford",
           "3"
          ],
          [
           "Everton",
           "3"
          ],
          [
           "Leicester City",
           "1"
          ],
          [
           "Brentford",
           2
          ],
          [
           "Manchester City",
           5
          ],
          [
           "Tottenham",
           4
          ],
          [
           "Aston Villa",
           "2"
          ],
          [
           "Manchester Utd",
           2
          ],
          [
           "West Ham",
           3
          ],
          [
           "Liverpool",
           "2"
          ],
          [
           "Leeds United",
           "3"
          ],
          [
           "Arsenal",
           "2"
          ],
          [
           "Sheffield Utd",
           "1"
          ],
          [
           "Newcastle Utd",
           2
          ],
          [
           "Newcastle Utd",
           "1"
          ],
          [
           "West Ham",
           "3"
          ],
          [
           "Aston Villa",
           "2"
          ],
          [
           "Arsenal",
           "3"
          ],
          [
           "Liverpool",
           "3"
          ],
          [
           "Everton",
           1
          ],
          [
           "Chelsea",
           2
          ],
          [
           "Leeds United",
           2
          ],
          [
           "Brighton",
           3
          ],
          [
           "Sheffield Utd",
           1
          ],
          [
           "Crystal Palace",
           3
          ],
          [
           "Tottenham",
           2
          ],
          [
           "Liverpool",
           "2"
          ],
          [
           "Leeds United",
           "4"
          ],
          [
           "Southampton",
           3
          ],
          [
           "Manchester City",
           "4"
          ],
          [
           "Liverpool",
           "4"
          ],
          [
           "Arsenal",
           "1"
          ],
          [
           "Southampton",
           "3"
          ],
          [
           "Leicester City",
           "2"
          ],
          [
           "Burnley",
           2
          ],
          [
           "Wolves",
           "2"
          ],
          [
           "Everton",
           1
          ],
          [
           "Manchester Utd",
           3
          ],
          [
           "Arsenal",
           "3"
          ],
          [
           "Leeds United",
           "3"
          ],
          [
           "Chelsea",
           2
          ],
          [
           "Liverpool",
           2
          ],
          [
           "Crystal Palace",
           "2"
          ],
          [
           "Newcastle Utd",
           4
          ],
          [
           "West Ham",
           "2"
          ],
          [
           "Arsenal",
           "2"
          ],
          [
           "Tottenham",
           "4"
          ],
          [
           "Manchester City",
           "2"
          ],
          [
           "Chelsea",
           2
          ],
          [
           "Aston Villa",
           2
          ],
          [
           "Brighton",
           "2"
          ],
          [
           "Leicester City",
           "2"
          ],
          [
           "Burnley",
           4
          ],
          [
           "Chelsea",
           1
          ],
          [
           "Sheffield Utd",
           "1"
          ],
          [
           "Everton",
           "1"
          ],
          [
           "Leicester City",
           "3"
          ],
          [
           "Tottenham",
           2
          ],
          [
           "Manchester City",
           2
          ],
          [
           "Manchester Utd",
           "3"
          ],
          [
           "Newcastle Utd",
           3
          ],
          [
           "Wolves",
           "1"
          ],
          [
           "West Brom",
           3
          ],
          [
           "Manchester Utd",
           "3"
          ],
          [
           "West Ham",
           3
          ],
          [
           "Arsenal",
           "3"
          ],
          [
           "Newcastle Utd",
           "2"
          ],
          [
           "Leeds United",
           2
          ],
          [
           "Chelsea",
           "4"
          ],
          [
           "Liverpool",
           2
          ],
          [
           "Wolves",
           1
          ],
          [
           "West Ham",
           3
          ],
          [
           "Manchester Utd",
           "2"
          ],
          [
           "Southampton",
           "3"
          ],
          [
           "Aston Villa",
           3
          ],
          [
           "Liverpool",
           "3"
          ],
          [
           "West Brom",
           "5"
          ],
          [
           "Manchester City",
           2
          ],
          [
           "Leeds United",
           "2"
          ],
          [
           "Tottenham",
           2
          ],
          [
           "Brighton",
           "3"
          ],
          [
           "Leeds United",
           2
          ],
          [
           "Liverpool",
           1
          ],
          [
           "Arsenal",
           "2"
          ],
          [
           "Manchester Utd",
           1
          ],
          [
           "Brighton",
           2
          ],
          [
           "Leicester City",
           "5"
          ],
          [
           "Burnley",
           2
          ],
          [
           "Crystal Palace",
           "1"
          ],
          [
           "Manchester City",
           3
          ],
          [
           "Manchester City",
           5
          ],
          [
           "Chelsea",
           2
          ],
          [
           "West Ham",
           "2"
          ],
          [
           "Fulham",
           "1"
          ],
          [
           "Manchester Utd",
           2
          ],
          [
           "Tottenham",
           "4"
          ],
          [
           "Southampton",
           "2"
          ],
          [
           "Leicester City",
           "2"
          ],
          [
           "Everton",
           "1"
          ],
          [
           "Chelsea",
           "1"
          ],
          [
           "Tottenham",
           1
          ],
          [
           "Sheffield Utd",
           1
          ],
          [
           "Manchester City",
           4
          ],
          [
           "Everton",
           1
          ],
          [
           "Arsenal",
           3
          ],
          [
           "Tottenham",
           "4"
          ],
          [
           "Liverpool",
           "2"
          ],
          [
           "West Brom",
           "1"
          ],
          [
           "Manchester City",
           2
          ],
          [
           "Aston Villa",
           "1"
          ],
          [
           "Leeds United",
           3
          ],
          [
           "Crystal Palace",
           "2"
          ],
          [
           "Manchester Utd",
           "3"
          ],
          [
           "Leicester City",
           2
          ],
          [
           "Manchester City",
           "1"
          ],
          [
           "West Ham",
           "2"
          ],
          [
           "Fulham",
           "1"
          ],
          [
           "Everton",
           "2"
          ],
          [
           "Wolves",
           "1"
          ],
          [
           "Manchester City",
           3
          ],
          [
           "West Ham",
           "3"
          ],
          [
           "Chelsea",
           "2"
          ],
          [
           "Wolves",
           2
          ],
          [
           "Fulham",
           2
          ],
          [
           "Arsenal",
           "4"
          ],
          [
           "Burnley",
           "3"
          ],
          [
           "Manchester City",
           "3"
          ],
          [
           "Leicester City",
           "3"
          ],
          [
           "Leeds United",
           "2"
          ],
          [
           "Tottenham",
           "2"
          ],
          [
           "Manchester City",
           "4"
          ],
          [
           "Chelsea",
           "2"
          ],
          [
           "Newcastle Utd",
           3
          ],
          [
           "Aston Villa",
           "1"
          ],
          [
           "Chelsea",
           "1"
          ],
          [
           "West Ham",
           3
          ],
          [
           "Everton",
           "2"
          ],
          [
           "Leicester City",
           2
          ],
          [
           "Manchester City",
           "2"
          ],
          [
           "Brighton",
           "1"
          ],
          [
           "Wolves",
           "2"
          ],
          [
           "Sheffield Utd",
           "2"
          ],
          [
           "Crystal Palace",
           "2"
          ],
          [
           "Manchester Utd",
           9
          ],
          [
           "Liverpool",
           3
          ],
          [
           "Leeds United",
           3
          ],
          [
           "Brighton",
           "1"
          ],
          [
           "Chelsea",
           "2"
          ],
          [
           "Crystal Palace",
           1
          ],
          [
           "Newcastle Utd",
           2
          ],
          [
           "Manchester City",
           "1"
          ],
          [
           "Aston Villa",
           1
          ],
          [
           "Liverpool",
           "3"
          ],
          [
           "Sheffield Utd",
           "2"
          ],
          [
           "Burnley",
           3
          ],
          [
           "Manchester City",
           "5"
          ],
          [
           "West Ham",
           "3"
          ],
          [
           "Leeds United",
           "2"
          ],
          [
           "Arsenal",
           3
          ],
          [
           "Aston Villa",
           "2"
          ],
          [
           "Burnley",
           "1"
          ],
          [
           "Manchester Utd",
           2
          ],
          [
           "Manchester City",
           2
          ],
          [
           "West Ham",
           "2"
          ],
          [
           "Leicester City",
           "2"
          ],
          [
           "Arsenal",
           "3"
          ],
          [
           "Tottenham",
           "3"
          ],
          [
           "Manchester City",
           "4"
          ],
          [
           "Leicester City",
           2
          ],
          [
           "West Ham",
           "1"
          ],
          [
           "Brighton",
           "1"
          ],
          [
           "Chelsea",
           1
          ],
          [
           "West Brom",
           3
          ],
          [
           "Manchester City",
           "1"
          ],
          [
           "Everton",
           2
          ],
          [
           "Sheffield Utd",
           "1"
          ],
          [
           "Manchester Utd",
           "1"
          ],
          [
           "Southampton",
           "1"
          ],
          [
           "Manchester City",
           "3"
          ],
          [
           "Leicester City",
           "2"
          ],
          [
           "Arsenal",
           "4"
          ],
          [
           "Tottenham",
           "3"
          ],
          [
           "Crystal Palace",
           "2"
          ],
          [
           "West Ham",
           1
          ],
          [
           "Manchester Utd",
           2
          ],
          [
           "Arsenal",
           "1"
          ],
          [
           "Manchester Utd",
           1
          ],
          [
           "Leeds United",
           "5"
          ],
          [
           "Burnley",
           "1"
          ],
          [
           "Leeds United",
           "1"
          ],
          [
           "Aston Villa",
           "3"
          ],
          [
           "Everton",
           "1"
          ],
          [
           "Manchester City",
           "2"
          ],
          [
           "Arsenal",
           "3"
          ],
          [
           "Chelsea",
           3
          ],
          [
           "Burnley",
           2
          ],
          [
           "Manchester Utd",
           "6"
          ],
          [
           "Aston Villa",
           "3"
          ],
          [
           "Leicester City",
           "2"
          ],
          [
           "Liverpool",
           "7"
          ],
          [
           "Everton",
           "2"
          ],
          [
           "Manchester City",
           1
          ],
          [
           "Manchester Utd",
           "3"
          ],
          [
           "Liverpool",
           "2"
          ],
          [
           "Everton",
           2
          ],
          [
           "Leeds United",
           "5"
          ],
          [
           "Wolves",
           "2"
          ],
          [
           "Burnley",
           "1"
          ],
          [
           "Southampton",
           "3"
          ],
          [
           "Leicester City",
           "3"
          ],
          [
           "Aston Villa",
           1
          ],
          [
           "Everton",
           "1"
          ],
          [
           "Newcastle Utd",
           "2"
          ],
          [
           "West Ham",
           "2"
          ],
          [
           "Southampton",
           "2"
          ],
          [
           "Liverpool",
           4
          ],
          [
           "Crystal Palace",
           "5"
          ],
          [
           "Tottenham",
           "2"
          ],
          [
           "Leicester City",
           "2"
          ],
          [
           "Chelsea",
           "3"
          ],
          [
           "Manchester City",
           2
          ],
          [
           "Manchester Utd",
           3
          ],
          [
           "Fulham",
           2
          ],
          [
           "West Ham",
           2
          ],
          [
           "Wolves",
           "2"
          ],
          [
           "Manchester Utd",
           3
          ],
          [
           "Leeds United",
           1
          ],
          [
           "West Brom",
           "1"
          ],
          [
           "Manchester City",
           "5"
          ],
          [
           "Newcastle Utd",
           "2"
          ],
          [
           "Burnley",
           "1"
          ],
          [
           "West Ham",
           "1"
          ],
          [
           "Liverpool",
           3
          ],
          [
           "Everton",
           3
          ],
          [
           "Chelsea",
           "2"
          ],
          [
           "Tottenham",
           2
          ],
          [
           "Brighton",
           2
          ],
          [
           "Manchester Utd",
           "1"
          ],
          [
           "Aston Villa",
           "3"
          ],
          [
           "Tottenham",
           "1"
          ],
          [
           "Leicester City",
           1
          ],
          [
           "West Ham",
           1
          ],
          [
           "Manchester Utd",
           3
          ],
          [
           "Crystal Palace",
           "4"
          ],
          [
           "Chelsea",
           "4"
          ],
          [
           "Southampton",
           "2"
          ],
          [
           "Fulham",
           "2"
          ],
          [
           "Leicester City",
           "4"
          ],
          [
           "Arsenal",
           "1"
          ],
          [
           "Southampton",
           4
          ],
          [
           "Tottenham",
           "2"
          ],
          [
           "Newcastle Utd",
           2
          ],
          [
           "Liverpool",
           2
          ],
          [
           "Manchester City",
           "1"
          ],
          [
           "Chelsea",
           "3"
          ],
          [
           "Wolves",
           "2"
          ],
          [
           "Tottenham",
           "1"
          ],
          [
           "Southampton",
           2
          ],
          [
           "Leicester City",
           "1"
          ],
          [
           "Crystal Palace",
           2
          ],
          [
           "Liverpool",
           "2"
          ],
          [
           "Leeds United",
           3
          ],
          [
           "Wolves",
           "1"
          ],
          [
           "Aston Villa",
           1
          ],
          [
           "Manchester City",
           "1"
          ],
          [
           "Manchester Utd",
           "4"
          ],
          [
           "West Ham",
           3
          ],
          [
           "Aston Villa",
           "7"
          ],
          [
           "Tottenham",
           "6"
          ],
          [
           "Wolves",
           1
          ],
          [
           "Southampton",
           "2"
          ],
          [
           "Arsenal",
           "2"
          ],
          [
           "Chelsea",
           "4"
          ],
          [
           "Everton",
           "4"
          ],
          [
           "Newcastle Utd",
           "3"
          ],
          [
           "Liverpool",
           "3"
          ],
          [
           "Aston Villa",
           3
          ],
          [
           "Leeds United",
           "1"
          ],
          [
           "Leicester City",
           5
          ],
          [
           "West Ham",
           4
          ],
          [
           "Southampton",
           "1"
          ],
          [
           "Manchester Utd",
           "3"
          ],
          [
           "Everton",
           "2"
          ],
          [
           "Manchester City",
           3
          ],
          [
           "Aston Villa",
           "1"
          ],
          [
           "Brighton",
           "3"
          ],
          [
           "Liverpool",
           "2"
          ],
          [
           "Tottenham",
           5
          ],
          [
           "Leicester City",
           "4"
          ],
          [
           "Arsenal",
           2
          ],
          [
           "Crystal Palace",
           "3"
          ],
          [
           "Leeds United",
           4
          ],
          [
           "Everton",
           "5"
          ],
          [
           "Chelsea",
           "3"
          ],
          [
           "Wolves",
           "2"
          ],
          [
           "Everton",
           "1"
          ],
          [
           "Leicester City",
           "3"
          ],
          [
           "Crystal Palace",
           1
          ],
          [
           "Arsenal",
           3
          ],
          [
           "Newcastle Utd",
           2
          ],
          [
           "Liverpool",
           "4"
          ],
          [
           "Brighton",
           2
          ],
          [
           "Manchester Utd",
           "2"
          ],
          [
           "Chelsea",
           "2"
          ],
          [
           "Southampton",
           3
          ],
          [
           "Bournemouth",
           "3"
          ],
          [
           "Liverpool",
           "3"
          ],
          [
           "Arsenal",
           3
          ],
          [
           "Manchester City",
           "5"
          ],
          [
           "Liverpool",
           "5"
          ],
          [
           "Aston Villa",
           "1"
          ],
          [
           "Manchester City",
           4
          ],
          [
           "Wolves",
           "2"
          ],
          [
           "Everton",
           1
          ],
          [
           "Tottenham",
           "3"
          ],
          [
           "Southampton",
           "2"
          ],
          [
           "Burnley",
           "2"
          ],
          [
           "West Ham",
           3
          ],
          [
           "Manchester Utd",
           "2"
          ],
          [
           "Leicester City",
           2
          ],
          [
           "Tottenham",
           "3"
          ],
          [
           "Manchester City",
           "2"
          ],
          [
           "Arsenal",
           "2"
          ],
          [
           "Chelsea",
           "1"
          ],
          [
           "Wolves",
           "3"
          ],
          [
           "Aston Villa",
           "2"
          ],
          [
           "Bournemouth",
           "4"
          ],
          [
           "Tottenham",
           "2"
          ],
          [
           "West Ham",
           "4"
          ],
          [
           "Sheffield Utd",
           "3"
          ],
          [
           "Watford",
           "2"
          ],
          [
           "Manchester City",
           5
          ],
          [
           "Manchester Utd",
           3
          ],
          [
           "Burnley",
           1
          ],
          [
           "Liverpool",
           3
          ],
          [
           "Sheffield Utd",
           "1"
          ],
          [
           "Manchester City",
           "5"
          ],
          [
           "Watford",
           "2"
          ],
          [
           "Chelsea",
           "3"
          ],
          [
           "Tottenham",
           "1"
          ],
          [
           "Liverpool",
           2
          ],
          [
           "Southampton",
           "1"
          ],
          [
           "Arsenal",
           "2"
          ],
          [
           "Chelsea",
           3
          ],
          [
           "Leicester City",
           "3"
          ],
          [
           "Manchester Utd",
           "5"
          ],
          [
           "Brighton",
           "1"
          ],
          [
           "Sheffield Utd",
           "3"
          ],
          [
           "Manchester City",
           "4"
          ],
          [
           "Everton",
           "2"
          ],
          [
           "West Ham",
           "3"
          ],
          [
           "Newcastle Utd",
           "4"
          ],
          [
           "Arsenal",
           "4"
          ],
          [
           "Manchester Utd",
           3
          ],
          [
           "Burnley",
           "1"
          ],
          [
           "Southampton",
           3
          ],
          [
           "Wolves",
           1
          ],
          [
           "Chelsea",
           "2"
          ],
          [
           "Arsenal",
           2
          ],
          [
           "Burnley",
           1
          ],
          [
           "Manchester Utd",
           3
          ],
          [
           "Everton",
           "1"
          ],
          [
           "Wolves",
           "1"
          ],
          [
           "Liverpool",
           "4"
          ],
          [
           "Tottenham",
           2
          ],
          [
           "Manchester City",
           5
          ],
          [
           "Chelsea",
           2
          ],
          [
           "Newcastle Utd",
           3
          ],
          [
           "Brighton",
           "2"
          ],
          [
           "Wolves",
           2
          ],
          [
           "Crystal Palace",
           "2"
          ],
          [
           "Southampton",
           "3"
          ],
          [
           "Manchester City",
           "3"
          ],
          [
           "Leicester City",
           4
          ],
          [
           "Manchester Utd",
           "2"
          ],
          [
           "Chelsea",
           "4"
          ],
          [
           "Arsenal",
           1
          ],
          [
           "Newcastle Utd",
           1
          ],
          [
           "Sheffield Utd",
           "1"
          ],
          [
           "Crystal Palace",
           1
          ],
          [
           "Liverpool",
           "2"
          ],
          [
           "Wolves",
           "3"
          ],
          [
           "Watford",
           "3"
          ],
          [
           "Crystal Palace",
           1
          ],
          [
           "West Ham",
           3
          ],
          [
           "Norwich City",
           "1"
          ],
          [
           "Liverpool",
           3
          ],
          [
           "Manchester Utd",
           3
          ],
          [
           "Arsenal",
           "3"
          ],
          [
           "Wolves",
           "3"
          ],
          [
           "Burnley",
           "3"
          ],
          [
           "Manchester City",
           "1"
          ],
          [
           "Crystal Palace",
           "1"
          ],
          [
           "Chelsea",
           "2"
          ],
          [
           "Southampton",
           2
          ],
          [
           "Manchester City",
           2
          ],
          [
           "Manchester Utd",
           "2"
          ],
          [
           "Arsenal",
           "4"
          ],
          [
           "Tottenham",
           3
          ],
          [
           "Burnley",
           2
          ],
          [
           "Liverpool",
           "1"
          ],
          [
           "Sheffield Utd",
           "2"
          ],
          [
           "Everton",
           "3"
          ],
          [
           "Tottenham",
           "2"
          ],
          [
           "Sheffield Utd",
           "1"
          ],
          [
           "Liverpool",
           4
          ],
          [
           "Bournemouth",
           2
          ],
          [
           "Everton",
           3
          ],
          [
           "Liverpool",
           2
          ],
          [
           "Liverpool",
           "2"
          ],
          [
           "Burnley",
           "2"
          ],
          [
           "Leicester City",
           4
          ],
          [
           "Tottenham",
           "2"
          ],
          [
           "Southampton",
           "2"
          ],
          [
           "Bournemouth",
           3
          ],
          [
           "Aston Villa",
           2
          ],
          [
           "Manchester City",
           1
          ],
          [
           "Burnley",
           "2"
          ],
          [
           "Liverpool",
           "2"
          ],
          [
           "Norwich City",
           "1"
          ],
          [
           "Wolves",
           3
          ],
          [
           "Newcastle Utd",
           "1"
          ],
          [
           "Manchester City",
           6
          ],
          [
           "Watford",
           "3"
          ],
          [
           "Manchester Utd",
           "4"
          ],
          [
           "Southampton",
           "2"
          ],
          [
           "Chelsea",
           3
          ],
          [
           "Everton",
           1
          ],
          [
           "Liverpool",
           "1"
          ],
          [
           "Sheffield Utd",
           1
          ],
          [
           "Liverpool",
           2
          ],
          [
           "Arsenal",
           "2"
          ],
          [
           "Aston Villa",
           2
          ],
          [
           "Southampton",
           "1"
          ],
          [
           "West Ham",
           "4"
          ],
          [
           "Manchester City",
           "2"
          ],
          [
           "Leicester City",
           "3"
          ],
          [
           "Watford",
           "2"
          ],
          [
           "Liverpool",
           "1"
          ],
          [
           "Manchester City",
           2
          ],
          [
           "Chelsea",
           "2"
          ],
          [
           "Everton",
           "2"
          ],
          [
           "Watford",
           3
          ],
          [
           "Brighton",
           "2"
          ],
          [
           "Leicester City",
           2
          ],
          [
           "Manchester Utd",
           2
          ],
          [
           "Wolves",
           "3"
          ],
          [
           "Southampton",
           "2"
          ],
          [
           "Aston Villa",
           "1"
          ],
          [
           "Tottenham",
           2
          ],
          [
           "Manchester Utd",
           "4"
          ],
          [
           "Liverpool",
           "4"
          ],
          [
           "Crystal Palace",
           2
          ],
          [
           "Everton",
           1
          ],
          [
           "Chelsea",
           "2"
          ],
          [
           "Watford",
           "2"
          ],
          [
           "Newcastle Utd",
           "1"
          ],
          [
           "Southampton",
           3
          ],
          [
           "Manchester City",
           "3"
          ],
          [
           "Sheffield Utd",
           1
          ],
          [
           "Burnley",
           "1"
          ],
          [
           "Wolves",
           "2"
          ],
          [
           "Manchester City",
           "3"
          ],
          [
           "Tottenham",
           "2"
          ],
          [
           "Liverpool",
           2
          ],
          [
           "Sheffield Utd",
           2
          ],
          [
           "Bournemouth",
           "1"
          ],
          [
           "Burnley",
           "1"
          ],
          [
           "West Ham",
           1
          ],
          [
           "Arsenal",
           3
          ],
          [
           "Leicester City",
           4
          ],
          [
           "Sheffield Utd",
           "2"
          ],
          [
           "Newcastle Utd",
           2
          ],
          [
           "Liverpool",
           "3"
          ],
          [
           "Tottenham",
           5
          ],
          [
           "Everton",
           "3"
          ],
          [
           "Manchester Utd",
           "2"
          ],
          [
           "Brighton",
           "2"
          ],
          [
           "Newcastle Utd",
           2
          ],
          [
           "Wolves",
           2
          ],
          [
           "Southampton",
           "2"
          ],
          [
           "Chelsea",
           2
          ],
          [
           "Manchester Utd",
           "2"
          ],
          [
           "Leicester City",
           2
          ],
          [
           "Liverpool",
           "5"
          ],
          [
           "Crystal Palace",
           "1"
          ],
          [
           "Manchester City",
           4
          ],
          [
           "Leicester City",
           "2"
          ],
          [
           "Crystal Palace",
           2
          ],
          [
           "Southampton",
           2
          ],
          [
           "Liverpool",
           2
          ],
          [
           "West Ham",
           "1"
          ],
          [
           "Tottenham",
           "3"
          ],
          [
           "Aston Villa",
           "2"
          ],
          [
           "Manchester City",
           "2"
          ],
          [
           "Tottenham",
           3
          ],
          [
           "Wolves",
           "2"
          ],
          [
           "Liverpool",
           "2"
          ],
          [
           "Leicester City",
           2
          ],
          [
           "Burnley",
           3
          ],
          [
           "Norwich City",
           "2"
          ],
          [
           "Manchester Utd",
           3
          ],
          [
           "Liverpool",
           "3"
          ],
          [
           "Wolves",
           2
          ],
          [
           "Chelsea",
           "2"
          ],
          [
           "Leicester City",
           "2"
          ],
          [
           "Burnley",
           3
          ],
          [
           "Everton",
           2
          ],
          [
           "Newcastle Utd",
           "2"
          ],
          [
           "Watford",
           "2"
          ],
          [
           "Leicester City",
           "2"
          ],
          [
           "Brighton",
           "2"
          ],
          [
           "Bournemouth",
           "1"
          ],
          [
           "Newcastle Utd",
           3
          ],
          [
           "Liverpool",
           2
          ],
          [
           "Chelsea",
           2
          ],
          [
           "Manchester City",
           2
          ],
          [
           "Sheffield Utd",
           3
          ],
          [
           "Manchester Utd",
           "3"
          ],
          [
           "Liverpool",
           "2"
          ],
          [
           "Manchester City",
           3
          ],
          [
           "Chelsea",
           4
          ],
          [
           "Brighton",
           "3"
          ],
          [
           "Leicester City",
           9
          ],
          [
           "Sheffield Utd",
           "1"
          ],
          [
           "Leicester City",
           2
          ],
          [
           "Manchester City",
           "2"
          ],
          [
           "Chelsea",
           "1"
          ],
          [
           "Aston Villa",
           2
          ],
          [
           "Everton",
           2
          ],
          [
           "Newcastle Utd",
           "1"
          ],
          [
           "Wolves",
           "2"
          ],
          [
           "Chelsea",
           4
          ],
          [
           "Arsenal",
           "1"
          ],
          [
           "Burnley",
           "1"
          ],
          [
           "Aston Villa",
           "5"
          ],
          [
           "Brighton",
           "3"
          ],
          [
           "Liverpool",
           "2"
          ],
          [
           "Crystal Palace",
           2
          ],
          [
           "Leicester City",
           "5"
          ],
          [
           "Crystal Palace",
           "2"
          ],
          [
           "Chelsea",
           2
          ],
          [
           "Manchester City",
           "3"
          ],
          [
           "Tottenham",
           2
          ],
          [
           "Wolves",
           2
          ],
          [
           "Liverpool",
           1
          ],
          [
           "Liverpool",
           "2"
          ],
          [
           "Arsenal",
           3
          ],
          [
           "West Ham",
           "2"
          ],
          [
           "Leicester City",
           "2"
          ],
          [
           "Burnley",
           "2"
          ],
          [
           "Sheffield Utd",
           "2"
          ],
          [
           "Manchester City",
           8
          ],
          [
           "Bournemouth",
           3
          ],
          [
           "Bournemouth",
           "3"
          ],
          [
           "Norwich City",
           "3"
          ],
          [
           "Manchester Utd",
           "1"
          ],
          [
           "Chelsea",
           "5"
          ],
          [
           "Liverpool",
           "3"
          ],
          [
           "Southampton",
           1
          ],
          [
           "Tottenham",
           "4"
          ],
          [
           "Everton",
           "3"
          ],
          [
           "Liverpool",
           3
          ],
          [
           "Crystal Palace",
           1
          ],
          [
           "Leicester City",
           "3"
          ],
          [
           "Manchester City",
           4
          ],
          [
           "West Ham",
           "2"
          ],
          [
           "Newcastle Utd",
           "1"
          ],
          [
           "Manchester City",
           "3"
          ],
          [
           "Leicester City",
           2
          ],
          [
           "Southampton",
           2
          ],
          [
           "Chelsea",
           "3"
          ],
          [
           "Liverpool",
           "3"
          ],
          [
           "Crystal Palace",
           "2"
          ],
          [
           "West Ham",
           3
          ],
          [
           "Aston Villa",
           "2"
          ],
          [
           "Sheffield Utd",
           "1"
          ],
          [
           "Everton",
           1
          ],
          [
           "Bournemouth",
           2
          ],
          [
           "Arsenal",
           2
          ],
          [
           "Liverpool",
           2
          ],
          [
           "Norwich City",
           "3"
          ],
          [
           "Arsenal",
           "1"
          ],
          [
           "Manchester Utd",
           "4"
          ],
          [
           "Manchester City",
           5
          ],
          [
           "Burnley",
           3
          ],
          [
           "Brighton",
           3
          ],
          [
           "Tottenham",
           3
          ],
          [
           "Liverpool",
           "4"
          ]
         ],
         "hovertemplate": "result=L<br>attendance=%{x}<br>gf=%{y}<br>opponent=%{customdata[0]}<br>ga=%{customdata[1]}<extra></extra>",
         "legendgroup": "L",
         "marker": {
          "color": "#EF553B",
          "symbol": "circle"
         },
         "mode": "markers",
         "name": "L",
         "showlegend": true,
         "type": "scattergl",
         "x": [
          29296,
          41796,
          39953,
          null,
          60164,
          30953,
          null,
          31196,
          null,
          36372,
          62449,
          22012,
          61298,
          30850,
          21798,
          10423,
          29281,
          53453,
          41883,
          17000,
          60033,
          62443,
          73711,
          52245,
          36347,
          39254,
          61732,
          11013,
          25286,
          53395,
          31604,
          16957,
          32089,
          32003,
          53097,
          27022,
          60201,
          25434,
          21361,
          38448,
          31588,
          52274,
          20257,
          38819,
          61729,
          62027,
          36549,
          32000,
          38092,
          41919,
          60108,
          26428,
          53336,
          32001,
          20891,
          24622,
          31637,
          17051,
          73482,
          39256,
          59482,
          59959,
          31243,
          31359,
          35771,
          20738,
          40290,
          52281,
          53213,
          32231,
          19246,
          53013,
          26910,
          60223,
          17384,
          52226,
          51938,
          32249,
          52686,
          52104,
          21045,
          58685,
          31465,
          73381,
          26361,
          17032,
          31896,
          39080,
          41949,
          20957,
          60112,
          31359,
          52164,
          19830,
          25149,
          57553,
          59953,
          39061,
          31012,
          21249,
          53104,
          31830,
          58685,
          41956,
          31842,
          39068,
          31144,
          59968,
          60111,
          59957,
          28863,
          40026,
          39112,
          36321,
          73458,
          17088,
          31474,
          29658,
          26684,
          36400,
          30056,
          59647,
          53165,
          21142,
          41855,
          52214,
          26887,
          32236,
          31395,
          19439,
          59925,
          17825,
          59946,
          31475,
          17039,
          36599,
          39105,
          31182,
          59888,
          53018,
          19488,
          20012,
          31587,
          36715,
          53201,
          31312,
          41936,
          25109,
          53135,
          59249,
          30361,
          73012,
          19563,
          56452,
          52207,
          39150,
          20795,
          27010,
          31523,
          53050,
          54012,
          51658,
          52186,
          59581,
          25002,
          40020,
          73130,
          36405,
          38203,
          16982,
          20782,
          17094,
          31986,
          52824,
          59951,
          30057,
          26629,
          53319,
          59775,
          27383,
          73045,
          38203,
          36083,
          16876,
          24351,
          59757,
          20391,
          73121,
          17009,
          32230,
          20073,
          24433,
          26940,
          30141,
          40539,
          41027,
          53226,
          41907,
          52127,
          36166,
          52951,
          59777,
          30362,
          52401,
          26836,
          24066,
          31959,
          27606,
          52613,
          59653,
          53093,
          39959,
          16861,
          38906,
          41572,
          73172,
          57088,
          59942,
          30729,
          20673,
          51948,
          54202,
          73123,
          41400,
          20388,
          39641,
          35558,
          53245,
          32020,
          16957,
          59886,
          53040,
          25203,
          58989,
          52571,
          26885,
          30667,
          21087,
          41925,
          53092,
          35497,
          59909,
          59833,
          16837,
          24390,
          73086,
          30178,
          30617,
          26913,
          41874,
          18821,
          52208,
          60356,
          53014,
          32209,
          20869,
          16814,
          73088,
          59924,
          38834,
          31215,
          40113,
          59496,
          52214,
          39132,
          41951,
          21085,
          30506,
          16940,
          52711,
          32219,
          53076,
          49940,
          40109,
          30483,
          36261,
          59919,
          28002,
          38821,
          72922,
          36417,
          40036,
          60000,
          60059,
          31078,
          41888,
          52000,
          26649,
          30000,
          20000,
          30000,
          36507,
          20019,
          32087,
          58000,
          16518,
          39969,
          72732,
          26000,
          57672,
          30621,
          52276,
          30548,
          26765,
          59901,
          30368,
          58729,
          29485,
          52591,
          51437,
          41964,
          58262,
          50673,
          38965,
          72732,
          16910,
          27023,
          20051,
          38487,
          31983,
          16479,
          10000,
          8000,
          10000,
          4500,
          10000,
          9901,
          8000,
          10000,
          5000,
          2000,
          10000,
          5371,
          10000,
          6500,
          3387,
          4988,
          8000,
          8000,
          7945,
          null,
          null,
          null,
          null,
          null,
          null,
          null,
          null,
          null,
          null,
          null,
          null,
          null,
          null,
          null,
          null,
          null,
          null,
          null,
          null,
          null,
          null,
          null,
          null,
          null,
          null,
          null,
          null,
          null,
          null,
          null,
          null,
          null,
          null,
          null,
          null,
          null,
          null,
          null,
          null,
          null,
          null,
          null,
          null,
          null,
          null,
          null,
          null,
          null,
          null,
          null,
          null,
          null,
          null,
          null,
          null,
          null,
          null,
          null,
          null,
          null,
          null,
          null,
          null,
          null,
          null,
          null,
          null,
          null,
          null,
          null,
          null,
          null,
          null,
          null,
          null,
          null,
          null,
          null,
          null,
          null,
          null,
          null,
          null,
          null,
          null,
          null,
          null,
          null,
          null,
          null,
          null,
          null,
          null,
          null,
          null,
          null,
          null,
          null,
          null,
          null,
          null,
          null,
          null,
          null,
          null,
          null,
          null,
          null,
          null,
          null,
          null,
          null,
          null,
          null,
          null,
          null,
          null,
          null,
          null,
          null,
          null,
          null,
          null,
          null,
          null,
          null,
          null,
          null,
          null,
          null,
          null,
          null,
          null,
          null,
          null,
          null,
          null,
          null,
          null,
          null,
          null,
          null,
          null,
          null,
          null,
          null,
          null,
          null,
          null,
          null,
          null,
          null,
          null,
          null,
          null,
          null,
          null,
          null,
          null,
          null,
          null,
          null,
          null,
          null,
          null,
          null,
          null,
          null,
          null,
          null,
          null,
          null,
          null,
          null,
          null,
          null,
          null,
          null,
          null,
          2000,
          null,
          null,
          null,
          2000,
          2000,
          null,
          null,
          2000,
          null,
          null,
          2000,
          2000,
          null,
          2000,
          null,
          2000,
          null,
          2000,
          null,
          null,
          null,
          null,
          null,
          null,
          null,
          null,
          null,
          null,
          null,
          null,
          null,
          null,
          null,
          null,
          null,
          null,
          null,
          null,
          null,
          null,
          null,
          null,
          null,
          null,
          null,
          null,
          null,
          null,
          null,
          null,
          null,
          null,
          null,
          null,
          null,
          null,
          null,
          null,
          null,
          null,
          null,
          null,
          null,
          null,
          null,
          null,
          null,
          null,
          null,
          null,
          null,
          null,
          null,
          null,
          null,
          null,
          null,
          null,
          null,
          null,
          null,
          null,
          null,
          null,
          null,
          null,
          null,
          null,
          null,
          null,
          null,
          null,
          null,
          null,
          null,
          null,
          null,
          null,
          null,
          null,
          null,
          null,
          null,
          null,
          null,
          null,
          null,
          null,
          null,
          null,
          null,
          null,
          null,
          null,
          null,
          null,
          null,
          null,
          null,
          null,
          null,
          null,
          null,
          null,
          null,
          null,
          null,
          null,
          null,
          null,
          null,
          null,
          null,
          null,
          null,
          null,
          null,
          null,
          null,
          null,
          null,
          null,
          null,
          null,
          null,
          null,
          null,
          null,
          null,
          null,
          null,
          null,
          null,
          null,
          null,
          null,
          null,
          null,
          null,
          null,
          null,
          null,
          null,
          null,
          null,
          null,
          null,
          null,
          null,
          32125,
          73288,
          40694,
          60335,
          30096,
          31379,
          25461,
          53323,
          58064,
          21634,
          30124,
          59962,
          27010,
          53313,
          73347,
          60296,
          31046,
          18227,
          32068,
          25486,
          40608,
          31478,
          52159,
          40504,
          60188,
          41874,
          26302,
          27110,
          30361,
          38987,
          61022,
          25170,
          53291,
          10722,
          21229,
          59959,
          31746,
          73198,
          31968,
          58182,
          23739,
          10065,
          40867,
          31285,
          19788,
          52916,
          26781,
          31152,
          52217,
          41823,
          10384,
          73271,
          32115,
          40396,
          38772,
          61023,
          30124,
          53321,
          60328,
          19561,
          30976,
          59917,
          54407,
          52178,
          20584,
          53326,
          54512,
          60309,
          52211,
          21348,
          30441,
          59919,
          21924,
          31737,
          40651,
          41289,
          56308,
          73206,
          32211,
          25462,
          39177,
          61104,
          21488,
          45453,
          41834,
          54415,
          30505,
          10020,
          27053,
          60031,
          31674,
          53311,
          30396,
          40243,
          19798,
          27701,
          59936,
          41908,
          26881,
          42303,
          10832,
          58401,
          39114,
          54403,
          60164,
          30409,
          31217,
          27019,
          40628,
          73252,
          31763,
          53094,
          23497,
          20101,
          32144,
          19818,
          26929,
          53319,
          40595,
          59626,
          41821,
          54486,
          59930,
          10539,
          25486,
          30640,
          19711,
          39241,
          73556,
          53324,
          31607,
          40525,
          32209,
          20255,
          29754,
          44424,
          27074,
          25480,
          30539,
          10669,
          59907,
          41878,
          21011,
          53922,
          31131,
          27108,
          53222,
          54506,
          20975,
          30529,
          28762,
          30775,
          32105,
          25480,
          40513,
          41826,
          39263,
          51198,
          54435,
          31473,
          60326,
          20650,
          27045,
          30610,
          53322,
          59912,
          32168,
          25477,
          40683,
          39222,
          59645,
          30711,
          31774,
          40638,
          60331,
          59936,
          32129,
          19712,
          39354,
          54273,
          30168,
          10416,
          27035,
          73689,
          31534,
          51430,
          30985,
          59812,
          39374,
          21762,
          25248,
          31613,
          54386,
          59950,
          59245,
          10486,
          30079,
          30019,
          27032,
          53298,
          73454,
          20035,
          41922,
          30197,
          39066,
          40996,
          60214,
          31712,
          27059,
          47635,
          73620,
          59870,
          19784,
          20245,
          60407,
          53333
         ],
         "xaxis": "x",
         "y": [
          0,
          0,
          "1",
          2,
          1,
          0,
          "0",
          0,
          1,
          0,
          0,
          1,
          0,
          "1",
          2,
          "0",
          0,
          "0",
          1,
          0,
          "2",
          0,
          1,
          0,
          1,
          0,
          1,
          0,
          0,
          "2",
          "1",
          1,
          1,
          "1",
          "1",
          0,
          "1",
          "0",
          "1",
          2,
          "1",
          0,
          1,
          "2",
          "0",
          0,
          "0",
          "1",
          0,
          "1",
          "1",
          0,
          "0",
          "1",
          "1",
          0,
          "0",
          "0",
          0,
          "0",
          "1",
          "1",
          "0",
          "1",
          "0",
          1,
          0,
          "0",
          "0",
          "0",
          "0",
          1,
          0,
          "1",
          "0",
          "0",
          0,
          "2",
          "0",
          "1",
          1,
          "0",
          0,
          2,
          "0",
          "0",
          1,
          "0",
          "0",
          0,
          1,
          "0",
          "0",
          "2",
          0,
          "1",
          "1",
          "1",
          "1",
          "0",
          0,
          1,
          "1",
          "0",
          "2",
          "0",
          "0",
          0,
          "0",
          "1",
          "1",
          "0",
          "0",
          1,
          "2",
          "0",
          "0",
          0,
          1,
          "0",
          "1",
          "0",
          "1",
          2,
          "0",
          "1",
          1,
          "0",
          "0",
          "0",
          "0",
          "0",
          "0",
          "0",
          0,
          "0",
          "0",
          0,
          "1",
          "0",
          "0",
          1,
          "1",
          "2",
          "2",
          "0",
          "0",
          0,
          1,
          1,
          "0",
          "0",
          "0",
          "0",
          "0",
          "0",
          0,
          0,
          "0",
          "0",
          "2",
          0,
          "1",
          0,
          1,
          "0",
          "0",
          "0",
          "0",
          1,
          0,
          1,
          "2",
          0,
          "2",
          "1",
          "1",
          "0",
          0,
          1,
          "0",
          "2",
          "1",
          "1",
          2,
          1,
          0,
          "1",
          0,
          "0",
          1,
          0,
          0,
          0,
          0,
          "2",
          "3",
          "1",
          "0",
          "1",
          "1",
          "0",
          "0",
          "0",
          0,
          "1",
          "0",
          0,
          "0",
          "0",
          "0",
          "2",
          1,
          1,
          "1",
          0,
          0,
          "2",
          "0",
          1,
          "0",
          0,
          2,
          "1",
          1,
          "1",
          0,
          "1",
          2,
          "0",
          "0",
          "0",
          1,
          "1",
          "0",
          "1",
          "0",
          "1",
          "0",
          0,
          "0",
          "2",
          0,
          1,
          "0",
          "0",
          "0",
          "1",
          1,
          "1",
          1,
          "0",
          "0",
          "0",
          "0",
          0,
          1,
          "0",
          "0",
          "2",
          "1",
          0,
          "1",
          "2",
          "0",
          "2",
          0,
          "0",
          0,
          "0",
          "2",
          "1",
          "1",
          "1",
          "1",
          0,
          "1",
          "0",
          0,
          "0",
          "1",
          "0",
          "1",
          "0",
          "1",
          "0",
          0,
          1,
          "0",
          "0",
          "1",
          "0",
          0,
          "0",
          0,
          0,
          "0",
          "1",
          "0",
          0,
          "0",
          0,
          "0",
          1,
          "1",
          "0",
          0,
          0,
          "0",
          0,
          "0",
          "0",
          "2",
          0,
          "1",
          "1",
          0,
          "2",
          "1",
          "0",
          0,
          0,
          2,
          "1",
          1,
          0,
          "0",
          "1",
          "0",
          "0",
          0,
          "0",
          "1",
          "1",
          "1",
          "0",
          0,
          1,
          0,
          2,
          0,
          2,
          0,
          "1",
          "0",
          1,
          "3",
          "2",
          "0",
          "1",
          "1",
          0,
          "1",
          0,
          1,
          "1",
          "1",
          1,
          0,
          "0",
          2,
          "1",
          "0",
          "0",
          "0",
          0,
          1,
          "0",
          "1",
          0,
          0,
          "0",
          "0",
          "0",
          1,
          1,
          "1",
          2,
          "0",
          0,
          "1",
          2,
          "0",
          "1",
          1,
          "1",
          1,
          0,
          2,
          "1",
          "2",
          1,
          "0",
          "2",
          0,
          "1",
          0,
          "0",
          1,
          0,
          "1",
          0,
          1,
          "0",
          1,
          "0",
          0,
          2,
          0,
          "0",
          "0",
          0,
          "1",
          "0",
          "1",
          "0",
          "0",
          0,
          0,
          1,
          0,
          1,
          "0",
          "0",
          "0",
          1,
          "0",
          0,
          "1",
          "1",
          1,
          "0",
          "1",
          "0",
          "0",
          "0",
          1,
          "0",
          "0",
          1,
          0,
          "2",
          "0",
          "0",
          "1",
          "0",
          "0",
          "1",
          "1",
          2,
          "0",
          "0",
          1,
          "1",
          0,
          "0",
          "0",
          "1",
          "1",
          "1",
          0,
          1,
          1,
          "0",
          "0",
          0,
          0,
          "0",
          0,
          "1",
          "1",
          2,
          "0",
          "2",
          "1",
          1,
          "0",
          "0",
          1,
          0,
          "1",
          "0",
          "0",
          "1",
          "0",
          0,
          "0",
          "0",
          0,
          2,
          "0",
          1,
          "0",
          "0",
          "0",
          "1",
          "1",
          "0",
          "0",
          "0",
          0,
          1,
          "0",
          0,
          "0",
          "0",
          "0",
          "0",
          "0",
          "0",
          "1",
          0,
          1,
          "2",
          "0",
          "0",
          "0",
          "1",
          0,
          "2",
          "1",
          0,
          "2",
          "1",
          "0",
          "0",
          "0",
          0,
          "0",
          "1",
          "1",
          "1",
          0,
          "1",
          "0",
          "1",
          "1",
          0,
          1,
          1,
          1,
          "1",
          2,
          0,
          "0",
          "0",
          "0",
          "0",
          "0",
          0,
          2,
          "0",
          0,
          1,
          "0",
          "0",
          "0",
          0,
          0,
          1,
          "1",
          "1",
          "0",
          "0",
          "1",
          "0",
          3,
          "1",
          1,
          1,
          "0",
          "0",
          "0",
          "0",
          0,
          "0",
          1,
          "1",
          0,
          "0",
          0,
          "0",
          "1",
          0,
          "2",
          "1",
          0,
          "0",
          "1",
          "0",
          "2",
          "1",
          "1",
          0,
          "0",
          2,
          0,
          "0",
          "2",
          "1",
          1,
          "0",
          "0",
          "0",
          2,
          "2",
          1,
          "1",
          3,
          "2",
          "1",
          "0",
          "0",
          "0",
          0,
          0,
          0,
          "3",
          1,
          "0",
          "0",
          1,
          "1",
          "1",
          2,
          "0",
          "3",
          "0",
          0,
          "0",
          0,
          "0",
          "0",
          "0",
          1,
          "0",
          0,
          "1",
          "1",
          "1",
          "0",
          "0",
          "0",
          "1",
          "1",
          "0",
          "0",
          "1",
          0,
          0,
          0,
          1,
          "0",
          "0",
          "1",
          "2",
          "0",
          0,
          "0",
          "0",
          0,
          "0",
          "2",
          "0",
          "1",
          "0",
          "1",
          "2",
          "1",
          "0",
          0,
          "0",
          1,
          0,
          "1",
          0,
          0,
          0,
          "0",
          "0",
          "0",
          0,
          0,
          1,
          0,
          "1",
          0,
          "0",
          "0",
          "0",
          0,
          "0",
          "0",
          0,
          0,
          "0",
          0,
          "1",
          "2",
          "0",
          0,
          1,
          "0",
          2,
          0,
          "2",
          "0",
          "0",
          "0",
          "0",
          "1",
          0,
          0,
          "0",
          "0",
          2,
          1,
          "0",
          "1",
          "1",
          "0",
          "0",
          0,
          1,
          2,
          0,
          "1",
          "0",
          1,
          "1",
          "0",
          1,
          1,
          0,
          "1",
          "0",
          "0",
          2,
          "0",
          1,
          "0",
          "0",
          "1",
          0,
          0,
          "0",
          0,
          0,
          "0",
          1,
          "0",
          "0",
          "1",
          "0",
          "1",
          "0",
          0,
          "1",
          "1",
          0,
          "0",
          1,
          0,
          "2",
          "0",
          "0",
          1,
          "1",
          "0",
          1,
          0,
          "0",
          "0",
          "0",
          1,
          "1",
          0,
          "0",
          "1",
          "0",
          "1",
          0,
          0,
          "0",
          "0",
          0,
          1,
          1,
          "1",
          1,
          "0",
          0,
          "1",
          "1",
          "1",
          0,
          0,
          "1",
          1,
          "1",
          0,
          "2",
          "0",
          1,
          "1",
          0,
          1,
          1,
          "0",
          "2",
          "0",
          "1",
          2,
          "1",
          "1",
          0,
          0,
          "0",
          1,
          "1",
          1,
          "0",
          "0",
          0,
          1,
          "1",
          "0",
          "0",
          "0",
          "0",
          2,
          1,
          1,
          1,
          0,
          "1",
          "1",
          0,
          2,
          "2",
          0,
          "0",
          1,
          "0",
          "0",
          1,
          0,
          "0",
          "0",
          1,
          "0",
          "0",
          "1",
          "0",
          "1",
          1,
          "0",
          "0",
          0,
          "1",
          1,
          0,
          0,
          "1",
          2,
          "0",
          "1",
          "0",
          "0",
          0,
          1,
          "1",
          "2",
          "0",
          "2",
          "1",
          0,
          "0",
          "2",
          0,
          0,
          "1",
          0,
          "0",
          "0",
          "1",
          1,
          0,
          "2",
          "1",
          "1",
          1,
          "0",
          "0",
          0,
          1,
          1,
          1,
          "1",
          "0",
          "0",
          0,
          0,
          0,
          1,
          "1"
         ],
         "yaxis": "y"
        },
        {
         "customdata": [
          [
           "Aston Villa",
           0
          ],
          [
           "Nott'ham Forest",
           0
          ],
          [
           "Bournemouth",
           0
          ],
          [
           "Southampton",
           0
          ],
          [
           "Leicester City",
           1
          ],
          [
           "Leeds United",
           0
          ],
          [
           "Fulham",
           1
          ],
          [
           "Crystal Palace",
           2
          ],
          [
           "Liverpool",
           1
          ],
          [
           "Chelsea",
           0
          ],
          [
           "West Ham",
           0
          ],
          [
           "Bournemouth",
           0
          ],
          [
           "Aston Villa",
           1
          ],
          [
           "Brentford",
           2
          ],
          [
           "Wolves",
           0
          ],
          [
           "Leicester City",
           1
          ],
          [
           "West Ham",
           0
          ],
          [
           "Everton",
           1
          ],
          [
           "Manchester Utd",
           0
          ],
          [
           "Bournemouth",
           0
          ],
          [
           "Leicester City",
           2
          ],
          [
           "West Ham",
           0
          ],
          [
           "Manchester Utd",
           1
          ],
          [
           "Southampton",
           1
          ],
          [
           "Wolves",
           1
          ],
          [
           "Everton",
           0
          ],
          [
           "Nott'ham Forest",
           0
          ],
          [
           "Aston Villa",
           "0"
          ],
          [
           "Crystal Palace",
           0
          ],
          [
           "Brentford",
           "1"
          ],
          [
           "Watford",
           "1"
          ],
          [
           "Aston Villa",
           "2"
          ],
          [
           "Wolves",
           "1"
          ],
          [
           "Burnley",
           "1"
          ],
          [
           "Southampton",
           "1"
          ],
          [
           "West Ham",
           "1"
          ],
          [
           "Norwich City",
           "0"
          ],
          [
           "Manchester Utd",
           0
          ],
          [
           "Everton",
           1
          ],
          [
           "Crystal Palace",
           "2"
          ],
          [
           "Southampton",
           "1"
          ],
          [
           "Arsenal",
           "0"
          ],
          [
           "Everton",
           2
          ],
          [
           "Watford",
           "1"
          ],
          [
           "Burnley",
           "0"
          ],
          [
           "Arsenal",
           "0"
          ],
          [
           "Wolves",
           "1"
          ],
          [
           "Leeds United",
           "0"
          ],
          [
           "Norwich City",
           "0"
          ],
          [
           "Aston Villa",
           "1"
          ],
          [
           "Leeds United",
           1
          ],
          [
           "Leicester City",
           "1"
          ],
          [
           "Norwich City",
           "0"
          ],
          [
           "Newcastle Utd",
           "0"
          ],
          [
           "Watford",
           0
          ],
          [
           "Southampton",
           0
          ],
          [
           "Manchester Utd",
           "0"
          ],
          [
           "Burnley",
           "1"
          ],
          [
           "Brentford",
           "0"
          ],
          [
           "Leicester City",
           "1"
          ],
          [
           "West Ham",
           1
          ],
          [
           "Chelsea",
           "0"
          ],
          [
           "Norwich City",
           "0"
          ],
          [
           "Southampton",
           1
          ],
          [
           "Wolves",
           "0"
          ],
          [
           "Newcastle Utd",
           "0"
          ],
          [
           "Watford",
           "1"
          ],
          [
           "Leeds United",
           "0"
          ],
          [
           "Everton",
           "0"
          ],
          [
           "Wolves",
           "0"
          ],
          [
           "West Ham",
           "0"
          ],
          [
           "Watford",
           "1"
          ],
          [
           "Norwich City",
           "0"
          ],
          [
           "Manchester Utd",
           1
          ],
          [
           "Southampton",
           "0"
          ],
          [
           "Chelsea",
           2
          ],
          [
           "Brighton",
           "0"
          ],
          [
           "Crystal Palace",
           "0"
          ],
          [
           "Manchester Utd",
           "0"
          ],
          [
           "Leicester City",
           "1"
          ],
          [
           "Norwich City",
           "2"
          ],
          [
           "Arsenal",
           "0"
          ],
          [
           "Tottenham",
           "0"
          ],
          [
           "Watford",
           1
          ],
          [
           "Crystal Palace",
           "1"
          ],
          [
           "West Ham",
           0
          ],
          [
           "Burnley",
           0
          ],
          [
           "Manchester Utd",
           "0"
          ],
          [
           "Watford",
           "0"
          ],
          [
           "Arsenal",
           "1"
          ],
          [
           "Aston Villa",
           "0"
          ],
          [
           "Southampton",
           "0"
          ],
          [
           "Wolves",
           "0"
          ],
          [
           "Everton",
           "2"
          ],
          [
           "Arsenal",
           0
          ],
          [
           "Everton",
           "1"
          ],
          [
           "Newcastle Utd",
           "1"
          ],
          [
           "Aston Villa",
           "1"
          ],
          [
           "Burnley",
           "0"
          ],
          [
           "Chelsea",
           1
          ],
          [
           "Watford",
           "0"
          ],
          [
           "West Ham",
           "1"
          ],
          [
           "Brentford",
           "1"
          ],
          [
           "Aston Villa",
           0
          ],
          [
           "Wolves",
           "2"
          ],
          [
           "Newcastle Utd",
           "0"
          ],
          [
           "Arsenal",
           "0"
          ],
          [
           "Brighton",
           "0"
          ],
          [
           "Aston Villa",
           "1"
          ],
          [
           "Norwich City",
           "1"
          ],
          [
           "Southampton",
           1
          ],
          [
           "Leicester City",
           0
          ],
          [
           "Newcastle Utd",
           "0"
          ],
          [
           "Everton",
           "0"
          ],
          [
           "Burnley",
           0
          ],
          [
           "Tottenham",
           "2"
          ],
          [
           "Brighton",
           "0"
          ],
          [
           "Southampton",
           "1"
          ],
          [
           "Watford",
           "0"
          ],
          [
           "Leeds United",
           "0"
          ],
          [
           "Norwich City",
           "1"
          ],
          [
           "Everton",
           "0"
          ],
          [
           "Watford",
           2
          ],
          [
           "Manchester Utd",
           "1"
          ],
          [
           "Leeds United",
           "0"
          ],
          [
           "Burnley",
           "0"
          ],
          [
           "Wolves",
           0
          ],
          [
           "Norwich City",
           1
          ],
          [
           "Brighton",
           "1"
          ],
          [
           "West Ham",
           "0"
          ],
          [
           "Southampton",
           "0"
          ],
          [
           "Burnley",
           "0"
          ],
          [
           "Wolves",
           "0"
          ],
          [
           "Brighton",
           "0"
          ],
          [
           "Leeds United",
           "0"
          ],
          [
           "Everton",
           "0"
          ],
          [
           "Brentford",
           "0"
          ],
          [
           "Norwich City",
           "0"
          ],
          [
           "Wolves",
           1
          ],
          [
           "Watford",
           1
          ],
          [
           "Tottenham",
           "0"
          ],
          [
           "Leeds United",
           "0"
          ],
          [
           "Leeds United",
           "2"
          ],
          [
           "Leicester City",
           "1"
          ],
          [
           "Crystal Palace",
           "0"
          ],
          [
           "Brighton",
           "0"
          ],
          [
           "Manchester City",
           "2"
          ],
          [
           "Brentford",
           1
          ],
          [
           "Norwich City",
           "1"
          ],
          [
           "Aston Villa",
           0
          ],
          [
           "Everton",
           "0"
          ],
          [
           "Brighton",
           "0"
          ],
          [
           "Tottenham",
           "0"
          ],
          [
           "Burnley",
           "0"
          ],
          [
           "Aston Villa",
           "0"
          ],
          [
           "Leeds United",
           "0"
          ],
          [
           "Norwich City",
           "0"
          ],
          [
           "Watford",
           "0"
          ],
          [
           "Wolves",
           0
          ],
          [
           "Leicester City",
           "0"
          ],
          [
           "Brentford",
           "0"
          ],
          [
           "Tottenham",
           "2"
          ],
          [
           "Watford",
           "0"
          ],
          [
           "Everton",
           "1"
          ],
          [
           "Crystal Palace",
           "1"
          ],
          [
           "Tottenham",
           "0"
          ],
          [
           "Everton",
           "0"
          ],
          [
           "Leeds United",
           "0"
          ],
          [
           "West Ham",
           "0"
          ],
          [
           "Brentford",
           "1"
          ],
          [
           "Watford",
           0
          ],
          [
           "Leicester City",
           "2"
          ],
          [
           "Brentford",
           "1"
          ],
          [
           "West Ham",
           "2"
          ],
          [
           "Brentford",
           "0"
          ],
          [
           "Everton",
           1
          ],
          [
           "Southampton",
           "1"
          ],
          [
           "Chelsea",
           "0"
          ],
          [
           "Norwich City",
           "0"
          ],
          [
           "Brentford",
           "1"
          ],
          [
           "Manchester Utd",
           "0"
          ],
          [
           "Everton",
           "2"
          ],
          [
           "Burnley",
           "1"
          ],
          [
           "Aston Villa",
           1
          ],
          [
           "Arsenal",
           "1"
          ],
          [
           "Watford",
           "0"
          ],
          [
           "Crystal Palace",
           "2"
          ],
          [
           "Burnley",
           "1"
          ],
          [
           "Brentford",
           "0"
          ],
          [
           "Norwich City",
           0
          ],
          [
           "Liverpool",
           "0"
          ],
          [
           "Watford",
           "1"
          ],
          [
           "Leicester City",
           "3"
          ],
          [
           "Aston Villa",
           "1"
          ],
          [
           "Crystal Palace",
           "0"
          ],
          [
           "West Ham",
           "2"
          ],
          [
           "Brentford",
           "0"
          ],
          [
           "Norwich City",
           0
          ],
          [
           "Newcastle Utd",
           "0"
          ],
          [
           "Leeds United",
           1
          ],
          [
           "Newcastle Utd",
           "1"
          ],
          [
           "Brighton",
           "0"
          ],
          [
           "West Ham",
           0
          ],
          [
           "Leeds United",
           "0"
          ],
          [
           "Norwich City",
           "0"
          ],
          [
           "Everton",
           1
          ],
          [
           "Newcastle Utd",
           "0"
          ],
          [
           "Southampton",
           0
          ],
          [
           "Leeds United",
           "2"
          ],
          [
           "Aston Villa",
           "0"
          ],
          [
           "Wolves",
           "0"
          ],
          [
           "Norwich City",
           "0"
          ],
          [
           "Watford",
           1
          ],
          [
           "Arsenal",
           "1"
          ],
          [
           "Crystal Palace",
           "0"
          ],
          [
           "Norwich City",
           "0"
          ],
          [
           "Leicester City",
           "1"
          ],
          [
           "Watford",
           "1"
          ],
          [
           "Wolves",
           "0"
          ],
          [
           "Burnley",
           "0"
          ],
          [
           "Chelsea",
           "2"
          ],
          [
           "Brentford",
           "0"
          ],
          [
           "Arsenal",
           "2"
          ],
          [
           "Watford",
           "1"
          ],
          [
           "Everton",
           "1"
          ],
          [
           "Aston Villa",
           "1"
          ],
          [
           "Crystal Palace",
           "0"
          ],
          [
           "West Ham",
           "1"
          ],
          [
           "Everton",
           0
          ],
          [
           "Watford",
           "2"
          ],
          [
           "Crystal Palace",
           "1"
          ],
          [
           "Newcastle Utd",
           0
          ],
          [
           "Southampton",
           "0"
          ],
          [
           "Everton",
           "0"
          ],
          [
           "Leeds United",
           "1"
          ],
          [
           "Leicester City",
           "0"
          ],
          [
           "Arsenal",
           "0"
          ],
          [
           "Southampton",
           1
          ],
          [
           "West Ham",
           "0"
          ],
          [
           "Brighton",
           "0"
          ],
          [
           "Manchester Utd",
           1
          ],
          [
           "Watford",
           0
          ],
          [
           "Liverpool",
           "2"
          ],
          [
           "Wolves",
           0
          ],
          [
           "Brentford",
           1
          ],
          [
           "Manchester Utd",
           "0"
          ],
          [
           "Aston Villa",
           "0"
          ],
          [
           "Everton",
           "1"
          ],
          [
           "Aston Villa",
           "1"
          ],
          [
           "Norwich City",
           "1"
          ],
          [
           "Brentford",
           "1"
          ],
          [
           "Leicester City",
           0
          ],
          [
           "Tottenham",
           "0"
          ],
          [
           "Manchester City",
           0
          ],
          [
           "Watford",
           "0"
          ],
          [
           "Newcastle Utd",
           "0"
          ],
          [
           "Manchester Utd",
           "0"
          ],
          [
           "Brentford",
           "1"
          ],
          [
           "Tottenham",
           "0"
          ],
          [
           "Everton",
           2
          ],
          [
           "Brighton",
           "1"
          ],
          [
           "Norwich City",
           "0"
          ],
          [
           "Aston Villa",
           1
          ],
          [
           "Everton",
           "0"
          ],
          [
           "Newcastle Utd",
           "2"
          ],
          [
           "Burnley",
           "0"
          ],
          [
           "Aston Villa",
           "2"
          ],
          [
           "Watford",
           "0"
          ],
          [
           "Leeds United",
           "0"
          ],
          [
           "Brentford",
           "0"
          ],
          [
           "Manchester Utd",
           "2"
          ],
          [
           "West Ham",
           1
          ],
          [
           "Aston Villa",
           "1"
          ],
          [
           "Watford",
           "0"
          ],
          [
           "Newcastle Utd",
           "1"
          ],
          [
           "Southampton",
           "1"
          ],
          [
           "Tottenham",
           1
          ],
          [
           "Southampton",
           "0"
          ],
          [
           "Chelsea",
           "0"
          ],
          [
           "Leeds United",
           "1"
          ],
          [
           "Manchester Utd",
           "0"
          ],
          [
           "Norwich City",
           "0"
          ],
          [
           "Leicester City",
           "1"
          ],
          [
           "West Ham",
           "1"
          ],
          [
           "Tottenham",
           "0"
          ],
          [
           "Burnley",
           0
          ],
          [
           "Crystal Palace",
           "0"
          ],
          [
           "Norwich City",
           1
          ],
          [
           "Wolves",
           0
          ],
          [
           "Everton",
           "0"
          ],
          [
           "Burnley",
           "1"
          ],
          [
           "Leeds United",
           "0"
          ],
          [
           "Brentford",
           "0"
          ],
          [
           "Watford",
           "0"
          ],
          [
           "Norwich City",
           0
          ],
          [
           "Aston Villa",
           "0"
          ],
          [
           "Tottenham",
           0
          ],
          [
           "Leicester City",
           "0"
          ],
          [
           "Newcastle Utd",
           "1"
          ],
          [
           "Watford",
           "0"
          ],
          [
           "Wolves",
           "0"
          ],
          [
           "Norwich City",
           "1"
          ],
          [
           "Brighton",
           "0"
          ],
          [
           "Arsenal",
           "0"
          ],
          [
           "Leicester City",
           "1"
          ],
          [
           "Wolves",
           "0"
          ],
          [
           "Arsenal",
           "0"
          ],
          [
           "Norwich City",
           "0"
          ],
          [
           "Watford",
           "0"
          ],
          [
           "Newcastle Utd",
           "0"
          ],
          [
           "Burnley",
           "0"
          ],
          [
           "Newcastle Utd",
           "2"
          ],
          [
           "Manchester City",
           "0"
          ],
          [
           "Norwich City",
           "0"
          ],
          [
           "Burnley",
           "1"
          ],
          [
           "Aston Villa",
           2
          ],
          [
           "Crystal Palace",
           "0"
          ],
          [
           "Leeds United",
           "1"
          ],
          [
           "Southampton",
           "1"
          ],
          [
           "Wolves",
           "0"
          ],
          [
           "Arsenal",
           0
          ],
          [
           "Brighton",
           "0"
          ],
          [
           "Chelsea",
           1
          ],
          [
           "West Brom",
           "1"
          ],
          [
           "Leicester City",
           "2"
          ],
          [
           "Southampton",
           0
          ],
          [
           "Crystal Palace",
           "0"
          ],
          [
           "Wolves",
           "1"
          ],
          [
           "Fulham",
           "0"
          ],
          [
           "Everton",
           0
          ],
          [
           "Burnley",
           "0"
          ],
          [
           "Burnley",
           "0"
          ],
          [
           "West Brom",
           1
          ],
          [
           "Wolves",
           0
          ],
          [
           "Tottenham",
           1
          ],
          [
           "Sheffield Utd",
           "0"
          ],
          [
           "Crystal Palace",
           "1"
          ],
          [
           "Manchester City",
           "2"
          ],
          [
           "Leicester City",
           "1"
          ],
          [
           "Southampton",
           "0"
          ],
          [
           "Wolves",
           "0"
          ],
          [
           "Everton",
           "0"
          ],
          [
           "Aston Villa",
           "2"
          ],
          [
           "West Brom",
           "1"
          ],
          [
           "Fulham",
           1
          ],
          [
           "Burnley",
           "0"
          ],
          [
           "Newcastle Utd",
           3
          ],
          [
           "Manchester Utd",
           "2"
          ],
          [
           "Chelsea",
           "0"
          ],
          [
           "Crystal Palace",
           1
          ],
          [
           "Manchester Utd",
           1
          ],
          [
           "Fulham",
           "0"
          ],
          [
           "Aston Villa",
           "1"
          ],
          [
           "West Brom",
           "1"
          ],
          [
           "Brighton",
           1
          ],
          [
           "West Ham",
           0
          ],
          [
           "Southampton",
           "0"
          ],
          [
           "Sheffield Utd",
           "0"
          ],
          [
           "Manchester City",
           "1"
          ],
          [
           "Tottenham",
           "1"
          ],
          [
           "Leicester City",
           "2"
          ],
          [
           "Burnley",
           1
          ],
          [
           "Newcastle Utd",
           "0"
          ],
          [
           "Sheffield Utd",
           "0"
          ],
          [
           "Everton",
           1
          ],
          [
           "Crystal Palace",
           0
          ],
          [
           "Fulham",
           "0"
          ],
          [
           "Leeds United",
           "0"
          ],
          [
           "Crystal Palace",
           1
          ],
          [
           "Wolves",
           "0"
          ],
          [
           "West Ham",
           "0"
          ],
          [
           "Brighton",
           "0"
          ],
          [
           "Arsenal",
           0
          ],
          [
           "West Brom",
           0
          ],
          [
           "Southampton",
           "1"
          ],
          [
           "Aston Villa",
           1
          ],
          [
           "Burnley",
           "1"
          ],
          [
           "West Ham",
           "2"
          ],
          [
           "Sheffield Utd",
           0
          ],
          [
           "Southampton",
           "0"
          ],
          [
           "Leicester City",
           2
          ],
          [
           "Sheffield Utd",
           "0"
          ],
          [
           "Burnley",
           "1"
          ],
          [
           "Tottenham",
           "1"
          ],
          [
           "Aston Villa",
           "1"
          ],
          [
           "Manchester City",
           "1"
          ],
          [
           "Crystal Palace",
           "1"
          ],
          [
           "Fulham",
           0
          ],
          [
           "Wolves",
           2
          ],
          [
           "Fulham",
           1
          ],
          [
           "Burnley",
           2
          ],
          [
           "Brighton",
           "1"
          ],
          [
           "Arsenal",
           "0"
          ],
          [
           "Sheffield Utd",
           "1"
          ],
          [
           "Chelsea",
           "2"
          ],
          [
           "Leicester City",
           0
          ],
          [
           "Aston Villa",
           "0"
          ],
          [
           "Newcastle Utd",
           "0"
          ],
          [
           "Fulham",
           "1"
          ],
          [
           "Wolves",
           "0"
          ],
          [
           "Southampton",
           "1"
          ],
          [
           "Sheffield Utd",
           0
          ],
          [
           "West Ham",
           "0"
          ],
          [
           "Tottenham",
           "1"
          ],
          [
           "West Brom",
           "0"
          ],
          [
           "Fulham",
           0
          ],
          [
           "Everton",
           "1"
          ],
          [
           "Southampton",
           2
          ],
          [
           "Everton",
           "0"
          ],
          [
           "Leeds United",
           0
          ],
          [
           "Liverpool",
           0
          ],
          [
           "Crystal Palace",
           "1"
          ],
          [
           "Manchester City",
           "0"
          ],
          [
           "Brighton",
           1
          ],
          [
           "Sheffield Utd",
           0
          ],
          [
           "Liverpool",
           "0"
          ],
          [
           "Fulham",
           "0"
          ],
          [
           "West Brom",
           0
          ],
          [
           "Aston Villa",
           "0"
          ],
          [
           "Wolves",
           1
          ],
          [
           "Southampton",
           0
          ],
          [
           "Burnley",
           "0"
          ],
          [
           "Sheffield Utd",
           "0"
          ],
          [
           "Leicester City",
           "1"
          ],
          [
           "Leeds United",
           0
          ],
          [
           "West Ham",
           1
          ],
          [
           "Brighton",
           "0"
          ],
          [
           "Southampton",
           "0"
          ],
          [
           "Brighton",
           "1"
          ],
          [
           "Newcastle Utd",
           "1"
          ],
          [
           "Arsenal",
           0
          ],
          [
           "Aston Villa",
           1
          ],
          [
           "Tottenham",
           1
          ],
          [
           "Liverpool",
           0
          ],
          [
           "Sheffield Utd",
           0
          ],
          [
           "Leeds United",
           0
          ],
          [
           "Everton",
           1
          ],
          [
           "Sheffield Utd",
           0
          ],
          [
           "Newcastle Utd",
           "0"
          ],
          [
           "Southampton",
           1
          ],
          [
           "Everton",
           0
          ],
          [
           "Leeds United",
           "2"
          ],
          [
           "Tottenham",
           0
          ],
          [
           "Liverpool",
           1
          ],
          [
           "Crystal Palace",
           "0"
          ],
          [
           "Crystal Palace",
           "0"
          ],
          [
           "Sheffield Utd",
           "1"
          ],
          [
           "Liverpool",
           1
          ],
          [
           "West Brom",
           "0"
          ],
          [
           "Arsenal",
           0
          ],
          [
           "Southampton",
           "2"
          ],
          [
           "Tottenham",
           "0"
          ],
          [
           "Liverpool",
           "0"
          ],
          [
           "Fulham",
           0
          ],
          [
           "Burnley",
           0
          ],
          [
           "Leeds United",
           1
          ],
          [
           "Aston Villa",
           1
          ],
          [
           "Newcastle Utd",
           "1"
          ],
          [
           "Southampton",
           "0"
          ],
          [
           "Arsenal",
           1
          ],
          [
           "West Brom",
           "1"
          ],
          [
           "Burnley",
           "0"
          ],
          [
           "Tottenham",
           "0"
          ],
          [
           "West Ham",
           "1"
          ],
          [
           "Leicester City",
           "1"
          ],
          [
           "Sheffield Utd",
           0
          ],
          [
           "Everton",
           "0"
          ],
          [
           "Wolves",
           "0"
          ],
          [
           "Southampton",
           0
          ],
          [
           "Tottenham",
           "1"
          ],
          [
           "Manchester Utd",
           "1"
          ],
          [
           "Aston Villa",
           "2"
          ],
          [
           "Crystal Palace",
           2
          ],
          [
           "West Brom",
           0
          ],
          [
           "Southampton",
           "1"
          ],
          [
           "Newcastle Utd",
           "1"
          ],
          [
           "Newcastle Utd",
           0
          ],
          [
           "Liverpool",
           "0"
          ],
          [
           "Aston Villa",
           0
          ],
          [
           "Fulham",
           "1"
          ],
          [
           "Chelsea",
           0
          ],
          [
           "West Brom",
           1
          ],
          [
           "Newcastle Utd",
           "0"
          ],
          [
           "Sheffield Utd",
           "1"
          ],
          [
           "Crystal Palace",
           0
          ],
          [
           "Leeds United",
           "0"
          ],
          [
           "Southampton",
           0
          ],
          [
           "Burnley",
           0
          ],
          [
           "Wolves",
           "2"
          ],
          [
           "Fulham",
           "0"
          ],
          [
           "Brighton",
           0
          ],
          [
           "Burnley",
           "0"
          ],
          [
           "Newcastle Utd",
           "0"
          ],
          [
           "Wolves",
           1
          ],
          [
           "Liverpool",
           0
          ],
          [
           "Newcastle Utd",
           1
          ],
          [
           "Chelsea",
           1
          ],
          [
           "West Brom",
           "0"
          ],
          [
           "Leeds United",
           "0"
          ],
          [
           "Sheffield Utd",
           "0"
          ],
          [
           "Aston Villa",
           "1"
          ],
          [
           "Everton",
           0
          ],
          [
           "Sheffield Utd",
           "0"
          ],
          [
           "Wolves",
           "0"
          ],
          [
           "West Brom",
           "0"
          ],
          [
           "Brighton",
           "0"
          ],
          [
           "Burnley",
           "0"
          ],
          [
           "Crystal Palace",
           0
          ],
          [
           "Sheffield Utd",
           0
          ],
          [
           "Newcastle Utd",
           0
          ],
          [
           "Chelsea",
           "1"
          ],
          [
           "Wolves",
           "1"
          ],
          [
           "West Ham",
           "0"
          ],
          [
           "Leeds United",
           "2"
          ],
          [
           "West Brom",
           0
          ],
          [
           "Tottenham",
           0
          ],
          [
           "Southampton",
           0
          ],
          [
           "Arsenal",
           1
          ],
          [
           "Crystal Palace",
           "0"
          ],
          [
           "Sheffield Utd",
           "2"
          ],
          [
           "Leicester City",
           0
          ],
          [
           "Newcastle Utd",
           "2"
          ],
          [
           "Tottenham",
           "1"
          ],
          [
           "Chelsea",
           1
          ],
          [
           "Sheffield Utd",
           0
          ],
          [
           "Brighton",
           0
          ],
          [
           "Arsenal",
           "0"
          ],
          [
           "Chelsea",
           0
          ],
          [
           "West Brom",
           "1"
          ],
          [
           "Wolves",
           0
          ],
          [
           "Leeds United",
           1
          ],
          [
           "Brighton",
           1
          ],
          [
           "Sheffield Utd",
           1
          ],
          [
           "Arsenal",
           "0"
          ],
          [
           "West Brom",
           "1"
          ],
          [
           "Wolves",
           "0"
          ],
          [
           "West Ham",
           "1"
          ],
          [
           "Fulham",
           0
          ],
          [
           "Leeds United",
           "1"
          ],
          [
           "Aston Villa",
           1
          ],
          [
           "Leicester City",
           1
          ],
          [
           "Southampton",
           "2"
          ],
          [
           "Arsenal",
           1
          ],
          [
           "Sheffield Utd",
           "0"
          ],
          [
           "Burnley",
           0
          ],
          [
           "Everton",
           "0"
          ],
          [
           "Crystal Palace",
           "0"
          ],
          [
           "Crystal Palace",
           "0"
          ],
          [
           "Sheffield Utd",
           0
          ],
          [
           "Fulham",
           2
          ],
          [
           "Leicester City",
           "0"
          ],
          [
           "Manchester City",
           "0"
          ],
          [
           "West Brom",
           "0"
          ],
          [
           "Newcastle Utd",
           "0"
          ],
          [
           "Aston Villa",
           "1"
          ],
          [
           "Arsenal",
           0
          ],
          [
           "Wolves",
           0
          ],
          [
           "West Brom",
           "0"
          ],
          [
           "Sheffield Utd",
           "1"
          ],
          [
           "Leeds United",
           "1"
          ],
          [
           "Fulham",
           0
          ],
          [
           "Everton",
           "1"
          ],
          [
           "Newcastle Utd",
           0
          ],
          [
           "Leeds United",
           1
          ],
          [
           "West Brom",
           0
          ],
          [
           "Everton",
           "1"
          ],
          [
           "Manchester Utd",
           "0"
          ],
          [
           "Brighton",
           "1"
          ],
          [
           "Aston Villa",
           3
          ],
          [
           "West Ham",
           "1"
          ],
          [
           "Burnley",
           "0"
          ],
          [
           "Sheffield Utd",
           0
          ],
          [
           "Crystal Palace",
           0
          ],
          [
           "Burnley",
           "0"
          ],
          [
           "Arsenal",
           0
          ],
          [
           "Everton",
           0
          ],
          [
           "Sheffield Utd",
           "1"
          ],
          [
           "Fulham",
           "1"
          ],
          [
           "Aston Villa",
           "0"
          ],
          [
           "Leeds United",
           0
          ],
          [
           "Leicester City",
           0
          ],
          [
           "Arsenal",
           0
          ],
          [
           "Newcastle Utd",
           "1"
          ],
          [
           "Liverpool",
           2
          ],
          [
           "West Brom",
           0
          ],
          [
           "Fulham",
           0
          ],
          [
           "Manchester Utd",
           "1"
          ],
          [
           "Leicester City",
           0
          ],
          [
           "Sheffield Utd",
           "1"
          ],
          [
           "Burnley",
           "1"
          ],
          [
           "Crystal Palace",
           "0"
          ],
          [
           "Brighton",
           2
          ],
          [
           "Fulham",
           0
          ],
          [
           "Arsenal",
           "1"
          ],
          [
           "Wolves",
           0
          ],
          [
           "Sheffield Utd",
           "0"
          ],
          [
           "Manchester City",
           2
          ],
          [
           "Brighton",
           "2"
          ],
          [
           "Crystal Palace",
           1
          ],
          [
           "Burnley",
           0
          ],
          [
           "Wolves",
           1
          ],
          [
           "Sheffield Utd",
           0
          ],
          [
           "Chelsea",
           "0"
          ],
          [
           "Newcastle Utd",
           "0"
          ],
          [
           "Burnley",
           2
          ],
          [
           "Southampton",
           "2"
          ],
          [
           "West Brom",
           2
          ],
          [
           "West Ham",
           "1"
          ],
          [
           "Fulham",
           "3"
          ],
          [
           "Manchester Utd",
           "1"
          ],
          [
           "Sheffield Utd",
           0
          ],
          [
           "Brighton",
           "1"
          ],
          [
           "West Brom",
           0
          ],
          [
           "Tottenham",
           0
          ],
          [
           "Fulham",
           "0"
          ],
          [
           "Leeds United",
           "3"
          ],
          [
           "Southampton",
           "0"
          ],
          [
           "West Ham",
           "0"
          ],
          [
           "Norwich City",
           "0"
          ],
          [
           "Leicester City",
           "0"
          ],
          [
           "Wolves",
           "0"
          ],
          [
           "Watford",
           "2"
          ],
          [
           "Burnley",
           1
          ],
          [
           "Sheffield Utd",
           1
          ],
          [
           "Everton",
           "1"
          ],
          [
           "Newcastle Utd",
           "1"
          ],
          [
           "Chelsea",
           "3"
          ],
          [
           "Arsenal",
           0
          ],
          [
           "Watford",
           "0"
          ],
          [
           "Crystal Palace",
           "0"
          ],
          [
           "Sheffield Utd",
           "0"
          ],
          [
           "Bournemouth",
           0
          ],
          [
           "Leicester City",
           "0"
          ],
          [
           "Norwich City",
           0
          ],
          [
           "Watford",
           1
          ],
          [
           "Crystal Palace",
           "0"
          ],
          [
           "Sheffield Utd",
           "0"
          ],
          [
           "Newcastle Utd",
           "1"
          ],
          [
           "Bournemouth",
           "1"
          ],
          [
           "Liverpool",
           "1"
          ],
          [
           "Norwich City",
           "0"
          ],
          [
           "Leicester City",
           "1"
          ],
          [
           "Crystal Palace",
           0
          ],
          [
           "Arsenal",
           "1"
          ],
          [
           "Everton",
           "0"
          ],
          [
           "Chelsea",
           0
          ],
          [
           "Norwich City",
           0
          ],
          [
           "Brighton",
           "0"
          ],
          [
           "Newcastle Utd",
           1
          ],
          [
           "Aston Villa",
           "0"
          ],
          [
           "Brighton",
           "1"
          ],
          [
           "West Ham",
           0
          ],
          [
           "Wolves",
           0
          ],
          [
           "Newcastle Utd",
           "0"
          ],
          [
           "Crystal Palace",
           "2"
          ],
          [
           "Norwich City",
           1
          ],
          [
           "Everton",
           "0"
          ],
          [
           "Aston Villa",
           "0"
          ],
          [
           "Manchester City",
           0
          ],
          [
           "Crystal Palace",
           "0"
          ],
          [
           "Bournemouth",
           "2"
          ],
          [
           "Norwich City",
           0
          ],
          [
           "Watford",
           "0"
          ],
          [
           "Wolves",
           "0"
          ],
          [
           "Tottenham",
           1
          ],
          [
           "Liverpool",
           "0"
          ],
          [
           "Norwich City",
           "0"
          ],
          [
           "Leicester City",
           "1"
          ],
          [
           "Bournemouth",
           "1"
          ],
          [
           "Chelsea",
           2
          ],
          [
           "Brighton",
           "0"
          ],
          [
           "Crystal Palace",
           0
          ],
          [
           "Watford",
           1
          ],
          [
           "Aston Villa",
           "0"
          ],
          [
           "Southampton",
           "0"
          ],
          [
           "Manchester City",
           "1"
          ],
          [
           "Watford",
           0
          ],
          [
           "Sheffield Utd",
           "0"
          ],
          [
           "Crystal Palace",
           "0"
          ],
          [
           "Norwich City",
           "0"
          ],
          [
           "Bournemouth",
           "0"
          ],
          [
           "West Ham",
           "0"
          ],
          [
           "Burnley",
           "0"
          ],
          [
           "Sheffield Utd",
           "0"
          ],
          [
           "Aston Villa",
           "1"
          ],
          [
           "Arsenal",
           1
          ],
          [
           "West Ham",
           "0"
          ],
          [
           "Bournemouth",
           "0"
          ],
          [
           "Norwich City",
           0
          ],
          [
           "Arsenal",
           "0"
          ],
          [
           "Aston Villa",
           "0"
          ],
          [
           "Manchester City",
           "0"
          ],
          [
           "Everton",
           "0"
          ],
          [
           "Southampton",
           "0"
          ],
          [
           "Norwich City",
           0
          ],
          [
           "West Ham",
           "0"
          ],
          [
           "Bournemouth",
           "1"
          ],
          [
           "Watford",
           "0"
          ],
          [
           "Tottenham",
           "2"
          ],
          [
           "Southampton",
           1
          ],
          [
           "Brighton",
           "0"
          ],
          [
           "Liverpool",
           0
          ],
          [
           "Leicester City",
           "0"
          ],
          [
           "West Ham",
           "2"
          ],
          [
           "Watford",
           "0"
          ],
          [
           "Norwich City",
           "0"
          ],
          [
           "Everton",
           "2"
          ],
          [
           "Bournemouth",
           0
          ],
          [
           "Newcastle Utd",
           "0"
          ],
          [
           "Aston Villa",
           0
          ],
          [
           "Leicester City",
           "0"
          ],
          [
           "Tottenham",
           "1"
          ],
          [
           "West Ham",
           "0"
          ],
          [
           "Chelsea",
           "0"
          ],
          [
           "Newcastle Utd",
           "0"
          ],
          [
           "Aston Villa",
           "2"
          ],
          [
           "Norwich City",
           "0"
          ],
          [
           "Southampton",
           1
          ],
          [
           "Bournemouth",
           1
          ],
          [
           "Crystal Palace",
           "1"
          ],
          [
           "Manchester City",
           "0"
          ],
          [
           "Crystal Palace",
           0
          ],
          [
           "Southampton",
           "0"
          ],
          [
           "Watford",
           "2"
          ],
          [
           "Aston Villa",
           "1"
          ],
          [
           "West Ham",
           "0"
          ],
          [
           "Wolves",
           "1"
          ],
          [
           "West Ham",
           "1"
          ],
          [
           "Manchester Utd",
           0
          ],
          [
           "Norwich City",
           "1"
          ],
          [
           "Watford",
           1
          ],
          [
           "Crystal Palace",
           0
          ],
          [
           "Brighton",
           "1"
          ],
          [
           "Sheffield Utd",
           "0"
          ],
          [
           "Manchester Utd",
           "0"
          ],
          [
           "Leicester City",
           1
          ],
          [
           "Chelsea",
           "0"
          ],
          [
           "Southampton",
           "2"
          ],
          [
           "Bournemouth",
           "0"
          ],
          [
           "Bournemouth",
           0
          ],
          [
           "Aston Villa",
           "1"
          ],
          [
           "Norwich City",
           "0"
          ],
          [
           "Tottenham",
           "0"
          ],
          [
           "Burnley",
           "0"
          ],
          [
           "Leicester City",
           1
          ],
          [
           "Brighton",
           "0"
          ],
          [
           "West Ham",
           0
          ],
          [
           "Sheffield Utd",
           "0"
          ],
          [
           "Wolves",
           1
          ],
          [
           "Tottenham",
           0
          ],
          [
           "Bournemouth",
           0
          ],
          [
           "Burnley",
           1
          ],
          [
           "Manchester Utd",
           "0"
          ],
          [
           "Newcastle Utd",
           "0"
          ],
          [
           "Everton",
           "1"
          ],
          [
           "Arsenal",
           "1"
          ],
          [
           "Sheffield Utd",
           "0"
          ],
          [
           "Wolves",
           "0"
          ],
          [
           "Aston Villa",
           0
          ],
          [
           "West Ham",
           "1"
          ],
          [
           "Newcastle Utd",
           "1"
          ],
          [
           "Burnley",
           "0"
          ],
          [
           "Bournemouth",
           0
          ],
          [
           "Manchester City",
           "2"
          ],
          [
           "Chelsea",
           0
          ],
          [
           "Newcastle Utd",
           "1"
          ],
          [
           "Burnley",
           "0"
          ],
          [
           "Leicester City",
           "0"
          ],
          [
           "Norwich City",
           0
          ],
          [
           "Brighton",
           "1"
          ],
          [
           "West Ham",
           "1"
          ],
          [
           "Manchester Utd",
           0
          ],
          [
           "Tottenham",
           "0"
          ],
          [
           "Norwich City",
           "1"
          ],
          [
           "Crystal Palace",
           "0"
          ],
          [
           "Brighton",
           0
          ],
          [
           "Aston Villa",
           1
          ],
          [
           "Leicester City",
           "1"
          ],
          [
           "Bournemouth",
           0
          ],
          [
           "Wolves",
           "1"
          ],
          [
           "Arsenal",
           "0"
          ],
          [
           "Aston Villa",
           0
          ],
          [
           "Newcastle Utd",
           0
          ],
          [
           "Chelsea",
           "0"
          ],
          [
           "Watford",
           "0"
          ],
          [
           "Southampton",
           0
          ],
          [
           "West Ham",
           "1"
          ],
          [
           "Norwich City",
           1
          ],
          [
           "Southampton",
           "1"
          ],
          [
           "Aston Villa",
           "1"
          ],
          [
           "Manchester City",
           "1"
          ],
          [
           "Bournemouth",
           "0"
          ],
          [
           "Chelsea",
           "1"
          ],
          [
           "Burnley",
           "0"
          ],
          [
           "Arsenal",
           1
          ],
          [
           "Sheffield Utd",
           "0"
          ],
          [
           "West Ham",
           "0"
          ],
          [
           "Watford",
           "0"
          ],
          [
           "Everton",
           "2"
          ],
          [
           "Norwich City",
           1
          ],
          [
           "Aston Villa",
           "1"
          ],
          [
           "Tottenham",
           "1"
          ],
          [
           "Bournemouth",
           "0"
          ],
          [
           "Burnley",
           "1"
          ],
          [
           "Everton",
           "1"
          ],
          [
           "Brighton",
           "1"
          ],
          [
           "Bournemouth",
           "2"
          ],
          [
           "Chelsea",
           0
          ],
          [
           "Burnley",
           "0"
          ],
          [
           "Watford",
           1
          ],
          [
           "Newcastle Utd",
           0
          ],
          [
           "Watford",
           0
          ],
          [
           "Bournemouth",
           "1"
          ],
          [
           "Everton",
           "0"
          ],
          [
           "Chelsea",
           "1"
          ],
          [
           "West Ham",
           "2"
          ],
          [
           "Crystal Palace",
           "1"
          ],
          [
           "Brighton",
           "0"
          ],
          [
           "Brighton",
           "1"
          ],
          [
           "Aston Villa",
           "1"
          ],
          [
           "Manchester City",
           "1"
          ],
          [
           "Crystal Palace",
           "0"
          ],
          [
           "West Ham",
           0
          ],
          [
           "Bournemouth",
           "1"
          ],
          [
           "Arsenal",
           "0"
          ],
          [
           "Southampton",
           "1"
          ],
          [
           "Norwich City",
           0
          ],
          [
           "Crystal Palace",
           "0"
          ],
          [
           "Manchester Utd",
           "0"
          ],
          [
           "Watford",
           "1"
          ],
          [
           "Southampton",
           "1"
          ],
          [
           "Aston Villa",
           "1"
          ],
          [
           "West Ham",
           "2"
          ],
          [
           "Norwich City",
           0
          ],
          [
           "Burnley",
           0
          ],
          [
           "Tottenham",
           "1"
          ],
          [
           "Norwich City",
           "1"
          ],
          [
           "Burnley",
           "2"
          ],
          [
           "Aston Villa",
           "0"
          ],
          [
           "Everton",
           2
          ],
          [
           "Southampton",
           "0"
          ],
          [
           "Arsenal",
           0
          ],
          [
           "Burnley",
           "1"
          ],
          [
           "Newcastle Utd",
           "0"
          ],
          [
           "Brighton",
           1
          ],
          [
           "Crystal Palace",
           "0"
          ],
          [
           "West Ham",
           "0"
          ],
          [
           "Southampton",
           "1"
          ],
          [
           "Manchester City",
           "0"
          ],
          [
           "Bournemouth",
           "0"
          ],
          [
           "Manchester Utd",
           "0"
          ],
          [
           "Leicester City",
           "1"
          ],
          [
           "Norwich City",
           1
          ],
          [
           "Tottenham",
           0
          ],
          [
           "Everton",
           0
          ],
          [
           "West Ham",
           "1"
          ],
          [
           "Newcastle Utd",
           "0"
          ],
          [
           "Norwich City",
           "0"
          ],
          [
           "Everton",
           "1"
          ],
          [
           "Brighton",
           "0"
          ],
          [
           "Southampton",
           "1"
          ],
          [
           "Watford",
           "0"
          ],
          [
           "Sheffield Utd",
           "0"
          ],
          [
           "Aston Villa",
           "2"
          ],
          [
           "Manchester Utd",
           0
          ],
          [
           "Chelsea",
           "1"
          ],
          [
           "Everton",
           0
          ],
          [
           "Watford",
           "0"
          ],
          [
           "Tottenham",
           "1"
          ],
          [
           "Norwich City",
           0
          ],
          [
           "Southampton",
           "1"
          ],
          [
           "Everton",
           "1"
          ],
          [
           "Crystal Palace",
           "0"
          ],
          [
           "Leicester City",
           "0"
          ],
          [
           "Newcastle Utd",
           "1"
          ],
          [
           "Manchester City",
           "2"
          ],
          [
           "Wolves",
           "2"
          ],
          [
           "Sheffield Utd",
           0
          ],
          [
           "Wolves",
           "2"
          ],
          [
           "Aston Villa",
           "0"
          ],
          [
           "Burnley",
           "0"
          ],
          [
           "Brighton",
           "0"
          ],
          [
           "Norwich City",
           0
          ],
          [
           "Bournemouth",
           "1"
          ],
          [
           "Bournemouth",
           "1"
          ],
          [
           "Tottenham",
           "0"
          ],
          [
           "Norwich City",
           "2"
          ],
          [
           "Watford",
           1
          ],
          [
           "Sheffield Utd",
           "1"
          ],
          [
           "Manchester Utd",
           "1"
          ],
          [
           "Brighton",
           0
          ],
          [
           "Arsenal",
           "1"
          ],
          [
           "Everton",
           0
          ],
          [
           "Crystal Palace",
           0
          ],
          [
           "Southampton",
           "1"
          ],
          [
           "Watford",
           "0"
          ],
          [
           "Aston Villa",
           "1"
          ],
          [
           "Newcastle Utd",
           "1"
          ],
          [
           "Burnley",
           "1"
          ],
          [
           "Newcastle Utd",
           "0"
          ],
          [
           "Chelsea",
           "0"
          ],
          [
           "West Ham",
           "0"
          ],
          [
           "Aston Villa",
           "1"
          ],
          [
           "Southampton",
           0
          ],
          [
           "Watford",
           0
          ],
          [
           "Norwich City",
           "1"
          ]
         ],
         "hovertemplate": "result=W<br>attendance=%{x}<br>gf=%{y}<br>opponent=%{customdata[0]}<br>ga=%{customdata[1]}<extra></extra>",
         "legendgroup": "W",
         "marker": {
          "color": "#00cc96",
          "symbol": "circle"
         },
         "mode": "markers",
         "name": "W",
         "showlegend": true,
         "type": "scattergl",
         "x": [
          41796,
          29296,
          null,
          31196,
          39953,
          30953,
          60164,
          null,
          null,
          36372,
          62449,
          10423,
          22012,
          21798,
          61298,
          30850,
          29281,
          41883,
          17000,
          53453,
          60033,
          62443,
          73711,
          61732,
          36347,
          39254,
          52245,
          11013,
          25286,
          16957,
          32089,
          53395,
          53097,
          21361,
          32003,
          31604,
          27022,
          25434,
          60201,
          38448,
          31588,
          52274,
          38819,
          20257,
          61729,
          62027,
          32000,
          36549,
          38092,
          41919,
          60108,
          32001,
          26428,
          53336,
          24622,
          17051,
          31637,
          20891,
          73482,
          59482,
          59959,
          39256,
          40290,
          31359,
          31243,
          52281,
          20738,
          35771,
          53213,
          19246,
          32231,
          53013,
          26910,
          60223,
          17384,
          32249,
          52226,
          51938,
          52686,
          52104,
          73381,
          31465,
          58685,
          21045,
          31896,
          17032,
          26361,
          39080,
          20957,
          60112,
          41949,
          31359,
          52164,
          19830,
          25149,
          59953,
          57553,
          31012,
          21249,
          39061,
          53104,
          58685,
          31830,
          41956,
          31842,
          39068,
          59968,
          31144,
          59957,
          36321,
          28863,
          60111,
          40026,
          39112,
          17088,
          73458,
          31474,
          30056,
          29658,
          36400,
          26684,
          59647,
          21142,
          53165,
          32236,
          19439,
          31395,
          26887,
          52214,
          59925,
          41855,
          17825,
          59946,
          31475,
          36599,
          39105,
          17039,
          31182,
          59888,
          20012,
          19488,
          53018,
          36715,
          31587,
          25109,
          30361,
          53201,
          59249,
          53135,
          41936,
          31312,
          73012,
          56452,
          19563,
          52207,
          39150,
          27010,
          20795,
          31523,
          53050,
          51658,
          54012,
          59581,
          52186,
          25002,
          40020,
          38203,
          36405,
          73130,
          16982,
          20782,
          31986,
          17094,
          59951,
          52824,
          26629,
          30057,
          53319,
          59775,
          27383,
          73045,
          38203,
          36083,
          16876,
          59757,
          20391,
          24351,
          73121,
          17009,
          24433,
          32230,
          20073,
          53226,
          41907,
          40539,
          41027,
          30141,
          26940,
          52127,
          36166,
          52951,
          30362,
          59777,
          52401,
          26836,
          24066,
          31959,
          59653,
          39959,
          53093,
          52613,
          27606,
          16861,
          38906,
          73172,
          57088,
          41572,
          20673,
          30729,
          51948,
          59942,
          54202,
          73123,
          20388,
          39641,
          41400,
          35558,
          53245,
          16957,
          32020,
          25203,
          59886,
          53040,
          52571,
          58989,
          35497,
          53092,
          26885,
          30667,
          41925,
          21087,
          59833,
          59909,
          24390,
          16837,
          73086,
          30178,
          30617,
          41874,
          26913,
          18821,
          32209,
          60356,
          53014,
          20869,
          52208,
          73088,
          16814,
          59924,
          38834,
          31215,
          40113,
          59496,
          39132,
          52214,
          52711,
          41951,
          21085,
          30506,
          16940,
          32219,
          49940,
          53076,
          36261,
          30483,
          40109,
          59919,
          28002,
          40036,
          36417,
          72922,
          38821,
          31078,
          60000,
          60059,
          20000,
          52000,
          26649,
          30000,
          41888,
          30000,
          36507,
          16518,
          20019,
          58000,
          39969,
          26000,
          32087,
          72732,
          57672,
          30621,
          26765,
          30548,
          52276,
          59901,
          30368,
          58729,
          51437,
          29485,
          41964,
          52591,
          50673,
          58262,
          27023,
          16910,
          20051,
          38965,
          72732,
          38487,
          31983,
          16479,
          10000,
          10000,
          8000,
          8000,
          10000,
          9901,
          4500,
          2000,
          10000,
          5000,
          3387,
          5371,
          4988,
          10000,
          10000,
          6500,
          7945,
          8000,
          8000,
          null,
          null,
          null,
          null,
          null,
          null,
          null,
          null,
          null,
          null,
          null,
          null,
          null,
          null,
          null,
          null,
          null,
          null,
          null,
          null,
          null,
          null,
          null,
          null,
          null,
          null,
          null,
          null,
          null,
          null,
          null,
          null,
          null,
          null,
          null,
          null,
          null,
          null,
          null,
          null,
          null,
          null,
          null,
          null,
          null,
          null,
          null,
          null,
          null,
          null,
          null,
          null,
          null,
          null,
          null,
          null,
          null,
          null,
          null,
          null,
          null,
          null,
          null,
          null,
          null,
          null,
          null,
          null,
          null,
          null,
          null,
          null,
          null,
          null,
          null,
          null,
          null,
          null,
          null,
          null,
          null,
          null,
          null,
          null,
          null,
          null,
          null,
          null,
          null,
          null,
          null,
          null,
          null,
          null,
          null,
          null,
          null,
          null,
          null,
          null,
          null,
          null,
          null,
          null,
          null,
          null,
          null,
          null,
          null,
          null,
          null,
          null,
          null,
          null,
          null,
          null,
          null,
          null,
          null,
          null,
          null,
          null,
          null,
          null,
          null,
          null,
          null,
          null,
          null,
          null,
          null,
          null,
          null,
          null,
          null,
          null,
          null,
          null,
          null,
          null,
          null,
          null,
          null,
          null,
          null,
          null,
          null,
          null,
          null,
          null,
          null,
          null,
          null,
          null,
          null,
          null,
          null,
          null,
          null,
          null,
          null,
          null,
          null,
          null,
          null,
          null,
          null,
          null,
          null,
          null,
          null,
          null,
          null,
          null,
          null,
          null,
          null,
          null,
          null,
          null,
          null,
          null,
          2000,
          null,
          2000,
          null,
          2000,
          2000,
          null,
          null,
          null,
          2000,
          null,
          2000,
          null,
          2000,
          2000,
          null,
          2000,
          null,
          null,
          null,
          null,
          null,
          null,
          null,
          null,
          null,
          null,
          null,
          null,
          null,
          null,
          null,
          null,
          null,
          null,
          null,
          null,
          null,
          null,
          null,
          null,
          null,
          null,
          null,
          null,
          null,
          null,
          null,
          null,
          null,
          null,
          null,
          null,
          null,
          null,
          null,
          null,
          null,
          null,
          null,
          null,
          null,
          null,
          null,
          null,
          null,
          null,
          null,
          null,
          null,
          null,
          null,
          null,
          null,
          null,
          null,
          null,
          null,
          null,
          null,
          null,
          null,
          null,
          null,
          null,
          null,
          null,
          null,
          null,
          null,
          null,
          null,
          null,
          null,
          null,
          null,
          null,
          null,
          null,
          null,
          null,
          null,
          null,
          null,
          null,
          null,
          null,
          null,
          null,
          null,
          null,
          null,
          null,
          null,
          null,
          null,
          null,
          null,
          null,
          null,
          null,
          null,
          null,
          null,
          null,
          null,
          null,
          null,
          null,
          null,
          null,
          null,
          null,
          null,
          null,
          null,
          null,
          null,
          null,
          null,
          null,
          null,
          null,
          null,
          null,
          null,
          null,
          null,
          null,
          null,
          null,
          null,
          null,
          null,
          null,
          null,
          null,
          null,
          null,
          null,
          null,
          null,
          null,
          null,
          null,
          null,
          null,
          null,
          32125,
          73288,
          40694,
          30096,
          31379,
          60335,
          53323,
          25461,
          58064,
          59962,
          30124,
          21634,
          27010,
          53313,
          73347,
          31046,
          60296,
          18227,
          25486,
          31478,
          32068,
          40608,
          52159,
          40504,
          60188,
          41874,
          27110,
          26302,
          30361,
          38987,
          61022,
          25170,
          53291,
          21229,
          10722,
          59959,
          31746,
          31968,
          73198,
          58182,
          40867,
          23739,
          10065,
          31285,
          52916,
          19788,
          52217,
          31152,
          26781,
          10384,
          41823,
          73271,
          61023,
          40396,
          32115,
          38772,
          30124,
          53321,
          20584,
          30976,
          59917,
          19561,
          60328,
          52178,
          54407,
          60309,
          54512,
          53326,
          21348,
          59919,
          52211,
          21924,
          30441,
          31737,
          40651,
          73206,
          39177,
          32211,
          41289,
          56308,
          25462,
          21488,
          61104,
          27053,
          45453,
          30505,
          41834,
          54415,
          10020,
          31674,
          60031,
          30396,
          19798,
          40243,
          53311,
          27701,
          59936,
          26881,
          42303,
          41908,
          54403,
          10832,
          39114,
          58401,
          60164,
          30409,
          31217,
          31763,
          53094,
          27019,
          40628,
          73252,
          23497,
          20101,
          32144,
          53319,
          59626,
          40595,
          19818,
          26929,
          41821,
          19711,
          10539,
          39241,
          54486,
          59930,
          25486,
          30640,
          73556,
          31607,
          53324,
          40525,
          20255,
          44424,
          32209,
          29754,
          27074,
          25480,
          10669,
          21011,
          53922,
          41878,
          59907,
          30539,
          31131,
          53222,
          27108,
          20975,
          54506,
          30529,
          28762,
          30775,
          32105,
          40513,
          41826,
          25480,
          39263,
          31473,
          54435,
          60326,
          51198,
          53322,
          27045,
          30610,
          20650,
          59912,
          32168,
          25477,
          39222,
          40683,
          59645,
          30711,
          31774,
          60331,
          59936,
          40638,
          39354,
          54273,
          32129,
          19712,
          30168,
          10416,
          59812,
          73689,
          51430,
          27035,
          31534,
          30985,
          39374,
          25248,
          21762,
          54386,
          59950,
          31613,
          10486,
          59245,
          27032,
          20035,
          30079,
          73454,
          30019,
          53298,
          41922,
          30197,
          31712,
          39066,
          40996,
          27059,
          60214,
          47635,
          73620,
          59870,
          60407,
          19784,
          20245,
          53333
         ],
         "xaxis": "x",
         "y": [
          1,
          2,
          9,
          1,
          2,
          1,
          2,
          4,
          2,
          3,
          2,
          3,
          3,
          3,
          1,
          2,
          1,
          2,
          4,
          4,
          4,
          2,
          2,
          4,
          2,
          1,
          2,
          "2",
          2,
          "2",
          "2",
          "3",
          "3",
          "2",
          "4",
          "3",
          "5",
          1,
          5,
          "3",
          "2",
          "2",
          3,
          "5",
          "1",
          "3",
          "5",
          "3",
          "3",
          "2",
          2,
          "2",
          "4",
          "5",
          1,
          3,
          "4",
          "3",
          "3",
          "3",
          2,
          "1",
          "2",
          2,
          "3",
          "1",
          "2",
          "4",
          "2",
          "1",
          "1",
          "5",
          "3",
          3,
          "2",
          4,
          "3",
          "1",
          "4",
          "2",
          "3",
          "1",
          "1",
          2,
          "2",
          2,
          2,
          "1",
          "3",
          "2",
          "4",
          "6",
          "1",
          "3",
          3,
          "2",
          "5",
          "2",
          "2",
          4,
          "2",
          "3",
          "2",
          1,
          "3",
          "1",
          "2",
          "2",
          "2",
          "2",
          2,
          2,
          "1",
          "1",
          2,
          "3",
          "2",
          "2",
          "4",
          "3",
          "3",
          "5",
          3,
          "4",
          "1",
          "4",
          2,
          3,
          "2",
          "1",
          "4",
          "2",
          "1",
          "2",
          "4",
          "1",
          "2",
          "2",
          2,
          4,
          "1",
          "6",
          "4",
          "2",
          "1",
          "3",
          "3",
          2,
          "3",
          1,
          "2",
          "2",
          "2",
          "1",
          "1",
          "3",
          "4",
          "2",
          1,
          "2",
          "2",
          "3",
          "1",
          "3",
          "3",
          "2",
          "1",
          "1",
          "1",
          "2",
          3,
          "3",
          "3",
          "3",
          "3",
          2,
          "3",
          "1",
          "2",
          "4",
          "1",
          "3",
          "3",
          2,
          "2",
          "1",
          "3",
          "3",
          "1",
          3,
          "1",
          "4",
          "6",
          "3",
          "3",
          "3",
          "2",
          5,
          "4",
          4,
          "3",
          "1",
          2,
          "7",
          "2",
          3,
          "4",
          3,
          "3",
          "1",
          "1",
          "1",
          2,
          "2",
          "1",
          "3",
          "2",
          "3",
          "1",
          "1",
          "3",
          "2",
          "3",
          "2",
          "4",
          "2",
          "1",
          "2",
          1,
          "4",
          "2",
          2,
          "4",
          "3",
          "2",
          "3",
          "4",
          2,
          "1",
          "2",
          4,
          1,
          "3",
          2,
          2,
          "2",
          "1",
          "2",
          "4",
          "2",
          "3",
          2,
          "3",
          2,
          "1",
          "3",
          "5",
          "2",
          "1",
          5,
          "4",
          "7",
          3,
          "1",
          "3",
          "2",
          "3",
          "5",
          "1",
          "1",
          "4",
          2,
          "2",
          "1",
          "2",
          "3",
          3,
          "1",
          "1",
          "2",
          "1",
          "2",
          "2",
          "2",
          "3",
          1,
          "3",
          3,
          2,
          "3",
          "3",
          "3",
          "1",
          "2",
          1,
          "3",
          3,
          "1",
          "4",
          "1",
          "1",
          "2",
          "2",
          "5",
          "4",
          "1",
          "2",
          "5",
          "2",
          "2",
          "2",
          "4",
          "1",
          "3",
          "2",
          3,
          "3",
          "5",
          "3",
          "1",
          2,
          "2",
          2,
          "3",
          "4",
          3,
          "2",
          "2",
          "2",
          5,
          "1",
          "3",
          3,
          1,
          2,
          "1",
          "3",
          "3",
          "2",
          "2",
          "2",
          "1",
          "3",
          "2",
          3,
          "4",
          4,
          "4",
          "1",
          3,
          2,
          "2",
          "3",
          "3",
          2,
          1,
          "2",
          "2",
          "2",
          "3",
          "4",
          2,
          "2",
          "4",
          2,
          2,
          "2",
          "2",
          2,
          "4",
          "1",
          "1",
          1,
          3,
          "2",
          2,
          "3",
          "3",
          1,
          "3",
          3,
          "3",
          "2",
          "3",
          "2",
          "2",
          "4",
          1,
          3,
          3,
          3,
          "2",
          "3",
          "2",
          "5",
          2,
          "2",
          "3",
          "2",
          "1",
          "2",
          5,
          "1",
          "2",
          "1",
          3,
          "2",
          5,
          "2",
          2,
          1,
          "4",
          "2",
          2,
          2,
          "1",
          "1",
          1,
          "1",
          4,
          1,
          "4",
          "2",
          "3",
          1,
          2,
          "1",
          "3",
          "2",
          "3",
          1,
          2,
          2,
          2,
          1,
          1,
          3,
          3,
          "2",
          2,
          2,
          "4",
          3,
          3,
          "3",
          "2",
          "2",
          4,
          "2",
          1,
          "3",
          "1",
          "1",
          2,
          2,
          2,
          3,
          "2",
          "9",
          2,
          "2",
          "2",
          "1",
          "3",
          "3",
          1,
          "2",
          "1",
          1,
          "3",
          "2",
          "3",
          3,
          5,
          "3",
          "2",
          2,
          "1",
          2,
          "2",
          2,
          2,
          "3",
          "3",
          4,
          "1",
          2,
          1,
          "3",
          "1",
          1,
          "1",
          "1",
          2,
          1,
          2,
          3,
          "4",
          "3",
          "2",
          "2",
          1,
          "1",
          "1",
          "5",
          "1",
          "1",
          3,
          1,
          2,
          "3",
          "2",
          "3",
          "6",
          3,
          2,
          1,
          2,
          "7",
          "3",
          2,
          "5",
          "2",
          2,
          3,
          3,
          "1",
          1,
          "2",
          1,
          2,
          2,
          2,
          "2",
          "5",
          "4",
          "3",
          2,
          "3",
          2,
          2,
          "3",
          2,
          "1",
          5,
          "1",
          "2",
          "1",
          1,
          3,
          "3",
          "2",
          "1",
          "2",
          "2",
          3,
          1,
          "1",
          "4",
          "4",
          1,
          "3",
          2,
          4,
          2,
          "2",
          "1",
          "2",
          4,
          "2",
          "3",
          1,
          2,
          "1",
          1,
          2,
          "2",
          "2",
          "3",
          1,
          1,
          1,
          "4",
          7,
          2,
          1,
          "6",
          3,
          "2",
          "3",
          "4",
          4,
          3,
          "3",
          4,
          "1",
          5,
          "3",
          2,
          1,
          3,
          1,
          "2",
          "3",
          4,
          "5",
          5,
          "2",
          "4",
          "3",
          2,
          "3",
          3,
          1,
          "3",
          "4",
          "1",
          "2",
          "5",
          "2",
          "2",
          "3",
          2,
          3,
          "3",
          "3",
          "5",
          1,
          "4",
          "2",
          "1",
          2,
          "3",
          2,
          3,
          "2",
          "2",
          "3",
          "2",
          "2",
          "1",
          "4",
          2,
          "2",
          "3",
          3,
          4,
          "5",
          2,
          "3",
          "3",
          1,
          1,
          "5",
          "3",
          2,
          "1",
          "2",
          1,
          "3",
          "5",
          1,
          "3",
          "2",
          3,
          "4",
          "4",
          "2",
          "4",
          3,
          "3",
          1,
          3,
          "1",
          "2",
          "2",
          1,
          "3",
          "4",
          "1",
          "1",
          "2",
          "5",
          "3",
          "2",
          2,
          "2",
          "2",
          3,
          "3",
          "4",
          "2",
          "4",
          "1",
          1,
          "1",
          "2",
          "1",
          "3",
          3,
          "1",
          3,
          "1",
          "3",
          "3",
          "3",
          "3",
          3,
          "1",
          2,
          "1",
          "2",
          "2",
          "2",
          "4",
          "3",
          "1",
          2,
          2,
          "3",
          "2",
          1,
          "4",
          "3",
          "2",
          "2",
          "2",
          "4",
          2,
          "2",
          2,
          2,
          "3",
          "1",
          "2",
          2,
          "1",
          "3",
          "1",
          3,
          "6",
          "4",
          "1",
          "3",
          2,
          "1",
          1,
          "2",
          2,
          1,
          4,
          2,
          "2",
          "3",
          "2",
          "2",
          "2",
          "1",
          3,
          "2",
          "2",
          "2",
          2,
          "3",
          2,
          "4",
          "1",
          "4",
          1,
          "2",
          "2",
          2,
          "2",
          "2",
          "1",
          1,
          3,
          "3",
          1,
          "2",
          "3",
          2,
          1,
          "1",
          "2",
          1,
          "3",
          2,
          "2",
          "4",
          "2",
          "3",
          "3",
          "5",
          2,
          "2",
          "2",
          "2",
          "5",
          2,
          "2",
          "2",
          "1",
          "4",
          "2",
          "2",
          "3",
          1,
          "2",
          2,
          2,
          3,
          "2",
          "2",
          "2",
          "3",
          "2",
          "2",
          "3",
          "2",
          "3",
          "2",
          3,
          "2",
          "2",
          "2",
          2,
          "2",
          "1",
          "2",
          "2",
          "2",
          "3",
          2,
          3,
          "2",
          "3",
          "4",
          "3",
          3,
          "9",
          1,
          "2",
          "1",
          2,
          "2",
          "2",
          "4",
          "2",
          "1",
          "1",
          "2",
          5,
          3,
          1,
          "2",
          "5",
          "2",
          "3",
          "2",
          "2",
          "2",
          "1",
          "3",
          2,
          "2",
          2,
          "8",
          "2",
          2,
          "3",
          "3",
          "4",
          "1",
          "3",
          "3",
          "5",
          1,
          "3",
          "1",
          "3",
          "4",
          2,
          "3",
          "3",
          "1",
          "3",
          3,
          "2",
          "2",
          2,
          "3",
          2,
          1,
          "2",
          "1",
          "2",
          "3",
          "2",
          "1",
          "4",
          "5",
          "3",
          3,
          3,
          "4"
         ],
         "yaxis": "y"
        }
       ],
       "layout": {
        "legend": {
         "title": {
          "text": "result"
         },
         "tracegroupgap": 0
        },
        "margin": {
         "t": 60
        },
        "template": {
         "data": {
          "bar": [
           {
            "error_x": {
             "color": "#2a3f5f"
            },
            "error_y": {
             "color": "#2a3f5f"
            },
            "marker": {
             "line": {
              "color": "#E5ECF6",
              "width": 0.5
             },
             "pattern": {
              "fillmode": "overlay",
              "size": 10,
              "solidity": 0.2
             }
            },
            "type": "bar"
           }
          ],
          "barpolar": [
           {
            "marker": {
             "line": {
              "color": "#E5ECF6",
              "width": 0.5
             },
             "pattern": {
              "fillmode": "overlay",
              "size": 10,
              "solidity": 0.2
             }
            },
            "type": "barpolar"
           }
          ],
          "carpet": [
           {
            "aaxis": {
             "endlinecolor": "#2a3f5f",
             "gridcolor": "white",
             "linecolor": "white",
             "minorgridcolor": "white",
             "startlinecolor": "#2a3f5f"
            },
            "baxis": {
             "endlinecolor": "#2a3f5f",
             "gridcolor": "white",
             "linecolor": "white",
             "minorgridcolor": "white",
             "startlinecolor": "#2a3f5f"
            },
            "type": "carpet"
           }
          ],
          "choropleth": [
           {
            "colorbar": {
             "outlinewidth": 0,
             "ticks": ""
            },
            "type": "choropleth"
           }
          ],
          "contour": [
           {
            "colorbar": {
             "outlinewidth": 0,
             "ticks": ""
            },
            "colorscale": [
             [
              0,
              "#0d0887"
             ],
             [
              0.1111111111111111,
              "#46039f"
             ],
             [
              0.2222222222222222,
              "#7201a8"
             ],
             [
              0.3333333333333333,
              "#9c179e"
             ],
             [
              0.4444444444444444,
              "#bd3786"
             ],
             [
              0.5555555555555556,
              "#d8576b"
             ],
             [
              0.6666666666666666,
              "#ed7953"
             ],
             [
              0.7777777777777778,
              "#fb9f3a"
             ],
             [
              0.8888888888888888,
              "#fdca26"
             ],
             [
              1,
              "#f0f921"
             ]
            ],
            "type": "contour"
           }
          ],
          "contourcarpet": [
           {
            "colorbar": {
             "outlinewidth": 0,
             "ticks": ""
            },
            "type": "contourcarpet"
           }
          ],
          "heatmap": [
           {
            "colorbar": {
             "outlinewidth": 0,
             "ticks": ""
            },
            "colorscale": [
             [
              0,
              "#0d0887"
             ],
             [
              0.1111111111111111,
              "#46039f"
             ],
             [
              0.2222222222222222,
              "#7201a8"
             ],
             [
              0.3333333333333333,
              "#9c179e"
             ],
             [
              0.4444444444444444,
              "#bd3786"
             ],
             [
              0.5555555555555556,
              "#d8576b"
             ],
             [
              0.6666666666666666,
              "#ed7953"
             ],
             [
              0.7777777777777778,
              "#fb9f3a"
             ],
             [
              0.8888888888888888,
              "#fdca26"
             ],
             [
              1,
              "#f0f921"
             ]
            ],
            "type": "heatmap"
           }
          ],
          "heatmapgl": [
           {
            "colorbar": {
             "outlinewidth": 0,
             "ticks": ""
            },
            "colorscale": [
             [
              0,
              "#0d0887"
             ],
             [
              0.1111111111111111,
              "#46039f"
             ],
             [
              0.2222222222222222,
              "#7201a8"
             ],
             [
              0.3333333333333333,
              "#9c179e"
             ],
             [
              0.4444444444444444,
              "#bd3786"
             ],
             [
              0.5555555555555556,
              "#d8576b"
             ],
             [
              0.6666666666666666,
              "#ed7953"
             ],
             [
              0.7777777777777778,
              "#fb9f3a"
             ],
             [
              0.8888888888888888,
              "#fdca26"
             ],
             [
              1,
              "#f0f921"
             ]
            ],
            "type": "heatmapgl"
           }
          ],
          "histogram": [
           {
            "marker": {
             "pattern": {
              "fillmode": "overlay",
              "size": 10,
              "solidity": 0.2
             }
            },
            "type": "histogram"
           }
          ],
          "histogram2d": [
           {
            "colorbar": {
             "outlinewidth": 0,
             "ticks": ""
            },
            "colorscale": [
             [
              0,
              "#0d0887"
             ],
             [
              0.1111111111111111,
              "#46039f"
             ],
             [
              0.2222222222222222,
              "#7201a8"
             ],
             [
              0.3333333333333333,
              "#9c179e"
             ],
             [
              0.4444444444444444,
              "#bd3786"
             ],
             [
              0.5555555555555556,
              "#d8576b"
             ],
             [
              0.6666666666666666,
              "#ed7953"
             ],
             [
              0.7777777777777778,
              "#fb9f3a"
             ],
             [
              0.8888888888888888,
              "#fdca26"
             ],
             [
              1,
              "#f0f921"
             ]
            ],
            "type": "histogram2d"
           }
          ],
          "histogram2dcontour": [
           {
            "colorbar": {
             "outlinewidth": 0,
             "ticks": ""
            },
            "colorscale": [
             [
              0,
              "#0d0887"
             ],
             [
              0.1111111111111111,
              "#46039f"
             ],
             [
              0.2222222222222222,
              "#7201a8"
             ],
             [
              0.3333333333333333,
              "#9c179e"
             ],
             [
              0.4444444444444444,
              "#bd3786"
             ],
             [
              0.5555555555555556,
              "#d8576b"
             ],
             [
              0.6666666666666666,
              "#ed7953"
             ],
             [
              0.7777777777777778,
              "#fb9f3a"
             ],
             [
              0.8888888888888888,
              "#fdca26"
             ],
             [
              1,
              "#f0f921"
             ]
            ],
            "type": "histogram2dcontour"
           }
          ],
          "mesh3d": [
           {
            "colorbar": {
             "outlinewidth": 0,
             "ticks": ""
            },
            "type": "mesh3d"
           }
          ],
          "parcoords": [
           {
            "line": {
             "colorbar": {
              "outlinewidth": 0,
              "ticks": ""
             }
            },
            "type": "parcoords"
           }
          ],
          "pie": [
           {
            "automargin": true,
            "type": "pie"
           }
          ],
          "scatter": [
           {
            "fillpattern": {
             "fillmode": "overlay",
             "size": 10,
             "solidity": 0.2
            },
            "type": "scatter"
           }
          ],
          "scatter3d": [
           {
            "line": {
             "colorbar": {
              "outlinewidth": 0,
              "ticks": ""
             }
            },
            "marker": {
             "colorbar": {
              "outlinewidth": 0,
              "ticks": ""
             }
            },
            "type": "scatter3d"
           }
          ],
          "scattercarpet": [
           {
            "marker": {
             "colorbar": {
              "outlinewidth": 0,
              "ticks": ""
             }
            },
            "type": "scattercarpet"
           }
          ],
          "scattergeo": [
           {
            "marker": {
             "colorbar": {
              "outlinewidth": 0,
              "ticks": ""
             }
            },
            "type": "scattergeo"
           }
          ],
          "scattergl": [
           {
            "marker": {
             "colorbar": {
              "outlinewidth": 0,
              "ticks": ""
             }
            },
            "type": "scattergl"
           }
          ],
          "scattermapbox": [
           {
            "marker": {
             "colorbar": {
              "outlinewidth": 0,
              "ticks": ""
             }
            },
            "type": "scattermapbox"
           }
          ],
          "scatterpolar": [
           {
            "marker": {
             "colorbar": {
              "outlinewidth": 0,
              "ticks": ""
             }
            },
            "type": "scatterpolar"
           }
          ],
          "scatterpolargl": [
           {
            "marker": {
             "colorbar": {
              "outlinewidth": 0,
              "ticks": ""
             }
            },
            "type": "scatterpolargl"
           }
          ],
          "scatterternary": [
           {
            "marker": {
             "colorbar": {
              "outlinewidth": 0,
              "ticks": ""
             }
            },
            "type": "scatterternary"
           }
          ],
          "surface": [
           {
            "colorbar": {
             "outlinewidth": 0,
             "ticks": ""
            },
            "colorscale": [
             [
              0,
              "#0d0887"
             ],
             [
              0.1111111111111111,
              "#46039f"
             ],
             [
              0.2222222222222222,
              "#7201a8"
             ],
             [
              0.3333333333333333,
              "#9c179e"
             ],
             [
              0.4444444444444444,
              "#bd3786"
             ],
             [
              0.5555555555555556,
              "#d8576b"
             ],
             [
              0.6666666666666666,
              "#ed7953"
             ],
             [
              0.7777777777777778,
              "#fb9f3a"
             ],
             [
              0.8888888888888888,
              "#fdca26"
             ],
             [
              1,
              "#f0f921"
             ]
            ],
            "type": "surface"
           }
          ],
          "table": [
           {
            "cells": {
             "fill": {
              "color": "#EBF0F8"
             },
             "line": {
              "color": "white"
             }
            },
            "header": {
             "fill": {
              "color": "#C8D4E3"
             },
             "line": {
              "color": "white"
             }
            },
            "type": "table"
           }
          ]
         },
         "layout": {
          "annotationdefaults": {
           "arrowcolor": "#2a3f5f",
           "arrowhead": 0,
           "arrowwidth": 1
          },
          "autotypenumbers": "strict",
          "coloraxis": {
           "colorbar": {
            "outlinewidth": 0,
            "ticks": ""
           }
          },
          "colorscale": {
           "diverging": [
            [
             0,
             "#8e0152"
            ],
            [
             0.1,
             "#c51b7d"
            ],
            [
             0.2,
             "#de77ae"
            ],
            [
             0.3,
             "#f1b6da"
            ],
            [
             0.4,
             "#fde0ef"
            ],
            [
             0.5,
             "#f7f7f7"
            ],
            [
             0.6,
             "#e6f5d0"
            ],
            [
             0.7,
             "#b8e186"
            ],
            [
             0.8,
             "#7fbc41"
            ],
            [
             0.9,
             "#4d9221"
            ],
            [
             1,
             "#276419"
            ]
           ],
           "sequential": [
            [
             0,
             "#0d0887"
            ],
            [
             0.1111111111111111,
             "#46039f"
            ],
            [
             0.2222222222222222,
             "#7201a8"
            ],
            [
             0.3333333333333333,
             "#9c179e"
            ],
            [
             0.4444444444444444,
             "#bd3786"
            ],
            [
             0.5555555555555556,
             "#d8576b"
            ],
            [
             0.6666666666666666,
             "#ed7953"
            ],
            [
             0.7777777777777778,
             "#fb9f3a"
            ],
            [
             0.8888888888888888,
             "#fdca26"
            ],
            [
             1,
             "#f0f921"
            ]
           ],
           "sequentialminus": [
            [
             0,
             "#0d0887"
            ],
            [
             0.1111111111111111,
             "#46039f"
            ],
            [
             0.2222222222222222,
             "#7201a8"
            ],
            [
             0.3333333333333333,
             "#9c179e"
            ],
            [
             0.4444444444444444,
             "#bd3786"
            ],
            [
             0.5555555555555556,
             "#d8576b"
            ],
            [
             0.6666666666666666,
             "#ed7953"
            ],
            [
             0.7777777777777778,
             "#fb9f3a"
            ],
            [
             0.8888888888888888,
             "#fdca26"
            ],
            [
             1,
             "#f0f921"
            ]
           ]
          },
          "colorway": [
           "#636efa",
           "#EF553B",
           "#00cc96",
           "#ab63fa",
           "#FFA15A",
           "#19d3f3",
           "#FF6692",
           "#B6E880",
           "#FF97FF",
           "#FECB52"
          ],
          "font": {
           "color": "#2a3f5f"
          },
          "geo": {
           "bgcolor": "white",
           "lakecolor": "white",
           "landcolor": "#E5ECF6",
           "showlakes": true,
           "showland": true,
           "subunitcolor": "white"
          },
          "hoverlabel": {
           "align": "left"
          },
          "hovermode": "closest",
          "mapbox": {
           "style": "light"
          },
          "paper_bgcolor": "white",
          "plot_bgcolor": "#E5ECF6",
          "polar": {
           "angularaxis": {
            "gridcolor": "white",
            "linecolor": "white",
            "ticks": ""
           },
           "bgcolor": "#E5ECF6",
           "radialaxis": {
            "gridcolor": "white",
            "linecolor": "white",
            "ticks": ""
           }
          },
          "scene": {
           "xaxis": {
            "backgroundcolor": "#E5ECF6",
            "gridcolor": "white",
            "gridwidth": 2,
            "linecolor": "white",
            "showbackground": true,
            "ticks": "",
            "zerolinecolor": "white"
           },
           "yaxis": {
            "backgroundcolor": "#E5ECF6",
            "gridcolor": "white",
            "gridwidth": 2,
            "linecolor": "white",
            "showbackground": true,
            "ticks": "",
            "zerolinecolor": "white"
           },
           "zaxis": {
            "backgroundcolor": "#E5ECF6",
            "gridcolor": "white",
            "gridwidth": 2,
            "linecolor": "white",
            "showbackground": true,
            "ticks": "",
            "zerolinecolor": "white"
           }
          },
          "shapedefaults": {
           "line": {
            "color": "#2a3f5f"
           }
          },
          "ternary": {
           "aaxis": {
            "gridcolor": "white",
            "linecolor": "white",
            "ticks": ""
           },
           "baxis": {
            "gridcolor": "white",
            "linecolor": "white",
            "ticks": ""
           },
           "bgcolor": "#E5ECF6",
           "caxis": {
            "gridcolor": "white",
            "linecolor": "white",
            "ticks": ""
           }
          },
          "title": {
           "x": 0.05
          },
          "xaxis": {
           "automargin": true,
           "gridcolor": "white",
           "linecolor": "white",
           "ticks": "",
           "title": {
            "standoff": 15
           },
           "zerolinecolor": "white",
           "zerolinewidth": 2
          },
          "yaxis": {
           "automargin": true,
           "gridcolor": "white",
           "linecolor": "white",
           "ticks": "",
           "title": {
            "standoff": 15
           },
           "zerolinecolor": "white",
           "zerolinewidth": 2
          }
         }
        },
        "xaxis": {
         "anchor": "y",
         "domain": [
          0,
          1
         ],
         "title": {
          "text": "attendance"
         }
        },
        "yaxis": {
         "anchor": "x",
         "domain": [
          0,
          1
         ],
         "title": {
          "text": "gf"
         }
        }
       }
      }
     },
     "metadata": {},
     "output_type": "display_data"
    }
   ],
   "source": [
    "import plotly.express as px\n",
    "fig = px.scatter(\n",
    "    match_df, \n",
    "    x=\"attendance\", \n",
    "    y=\"gf\", \n",
    "    color='result', \n",
    "    hover_data=['opponent', 'ga']\n",
    ")\n",
    "fig.show()"
   ]
  }
 ],
 "metadata": {
  "kernelspec": {
   "display_name": "Python 3.8.8 ('base')",
   "language": "python",
   "name": "python3"
  },
  "language_info": {
   "codemirror_mode": {
    "name": "ipython",
    "version": 3
   },
   "file_extension": ".py",
   "mimetype": "text/x-python",
   "name": "python",
   "nbconvert_exporter": "python",
   "pygments_lexer": "ipython3",
   "version": "3.8.8"
  },
  "orig_nbformat": 4,
  "vscode": {
   "interpreter": {
    "hash": "b49bb7862da9a7f712fac20bbb252538ac446c2e9d9243e7afbb3682ce9d6a68"
   }
  }
 },
 "nbformat": 4,
 "nbformat_minor": 2
}
