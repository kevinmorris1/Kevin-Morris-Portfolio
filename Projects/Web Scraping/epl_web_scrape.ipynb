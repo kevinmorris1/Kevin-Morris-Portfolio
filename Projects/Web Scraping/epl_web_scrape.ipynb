{
 "cells": [
  {
   "cell_type": "code",
   "execution_count": 2,
   "metadata": {},
   "outputs": [],
   "source": [
    "import requests\n",
    "from bs4 import BeautifulSoup\n",
    "import pandas as pd\n",
    "import time"
   ]
  },
  {
   "cell_type": "code",
   "execution_count": 1,
   "metadata": {},
   "outputs": [
    {
     "name": "stdout",
     "output_type": "stream",
     "text": [
      "[2022]\n"
     ]
    }
   ],
   "source": [
    "years = list(range(2022, 2021, -1))\n",
    "print(years)\n",
    "all_matches = []\n",
    "standings_url = \"https://fbref.com/en/comps/9/Premier-League-Stats\""
   ]
  },
  {
   "cell_type": "code",
   "execution_count": 4,
   "metadata": {},
   "outputs": [
    {
     "name": "stdout",
     "output_type": "stream",
     "text": [
      "2022\n"
     ]
    }
   ],
   "source": [
    "for year in years:  # loop for all years in range\n",
    "    print(year)\n",
    "    data = requests.get(standings_url) # request page\n",
    "    soup = BeautifulSoup(data.text) # extract all information form page\n",
    "    standings_table = soup.select('table.stats_table')[0] # log the standings table for the current year\n",
    "\n",
    "    links = [l.get(\"href\") for l in standings_table.find_all('a')] # get the reference to all the links from all links on page\n",
    "    links = [l for l in links if '/squads/' in l] # all links with '/squads/' in order to find the team pages for all clubs\n",
    "    team_urls = [f\"https://fbref.com{l}\" for l in links] # absolute links for club specific pages\n",
    "    \n",
    "    previous_season = soup.select(\"a.prev\")[0].get(\"href\") # set new standings page to the previous season for next loop\n",
    "    standings_url = f\"https://fbref.com{previous_season}\"\n",
    "    \n",
    "    for team_url in team_urls: # loop for all team links on standings page\n",
    "        team_name = team_url.split(\"/\")[-1].replace(\"-Stats\", \"\").replace(\"-\", \" \") # parse team name\n",
    "        data = requests.get(team_url)\n",
    "        \n",
    "        matches = pd.read_html(data.text, match=\"Scores & Fixtures\")[0] # Scores and fixtures dataframe for the club\n",
    "        matches = matches[['Date', 'Time', 'Comp', 'Round', 'Day', 'Venue', 'Result', 'GF', 'GA', 'Opponent', 'Attendance', 'Captain', 'Formation','Referee']]\n",
    "\n",
    "        soup = BeautifulSoup(data.text) # extract all information from page\n",
    "        links = soup.find_all('a') # find all links on page for the club\n",
    "        links = [l.get(\"href\") for l in links] # get reference urls for those links\n",
    "        links = [l for l in links if l and (('all_comps/shooting/' in l) or ('all_comps/possession/' in l) or ('all_comps/passing/' in l) or ('all_comps/defense/' in l))] # filter to only shooting stats links\n",
    "        links = [*set(links)]\n",
    "\n",
    "        df_info = {\n",
    "            'matches': {\n",
    "                'name': 'Matches',\n",
    "                'column_levels': [],\n",
    "                'df': matches,\n",
    "            },\n",
    "            'shooting': {\n",
    "                'name': 'Shooting',\n",
    "                'column_levels': ['Expected', '', 'Standard', ''],\n",
    "                'df': pd.DataFrame()\n",
    "            },\n",
    "            'possession': {\n",
    "                'name': 'Possession',\n",
    "                'column_levels': ['Carries', 'Dribbles', '', 'Receiving', 'Touches', ''],\n",
    "                'df': pd.DataFrame()\n",
    "            },\n",
    "            'passing': {\n",
    "                'name': 'Passing',\n",
    "                'column_levels': ['', 'Long', 'Medium', 'Short', 'Total', '', '', '', '', '', '', '', ''],\n",
    "                'df': pd.DataFrame()\n",
    "            },\n",
    "            'defense': {\n",
    "                'name': 'Defensive Actions',\n",
    "                'column_levels': ['Blocks', '', 'Pressures', 'Tackles', '', '', '', '', '', 'Vs Dribbles'],\n",
    "                'df': pd.DataFrame()\n",
    "            }\n",
    "        }\n",
    "\n",
    "        # Update dataframes in our dictionary to pull web page tables\n",
    "        for l in links:\n",
    "            for key, webster in df_info.items():\n",
    "\n",
    "                if (key != 'matches') and ('all_comps/'+ key in l):\n",
    "                        data = requests.get(f\"https://fbref.com{l}\") # pull that data for the stats link\n",
    "                        webster['df'] = pd.read_html(data.text, match=webster['name'])[0] # read the link's data from the table\n",
    "                        d = dict(zip(webster['df'].columns.levels[0], webster['column_levels'])) # Clear out unecessary multi indexed column names and rename columns to specify features\n",
    "                        webster['df'] = webster['df'].rename(columns=d, level=0)\n",
    "\n",
    "        # Clean dataframe structure\n",
    "        for key, webster in df_info.items():\n",
    "            if (key != 'matches'):\n",
    "                webster['df'].columns = ['_'.join(col).strip() for col in webster['df'].columns.values]\n",
    "            webster['df'].columns = webster['df'].columns.str.lstrip(\"_\")\n",
    "            webster['df'].columns = webster['df'].columns.str.replace(' ', '_')\n",
    "            webster['df'].columns = webster['df'].columns.str.replace('-', '_')\n",
    "            webster['df'].columns = webster['df'].columns.str.replace(':', '_')\n",
    "            webster['df'].columns = webster['df'].columns.str.lower()\n",
    "            webster['df'] = webster['df'].set_index(['date', 'time', 'comp', 'round', 'day', 'venue', 'result', 'gf', 'ga', 'opponent'])\n",
    "            webster['df'] = webster['df'].add_prefix(key + '_')\n",
    "            webster['df'] = webster['df'].reset_index()\n",
    "        \n",
    "        try:\n",
    "            team_data = df_info['matches']['df'].copy()\n",
    "            for key, webseter in df_info.items():\n",
    "                if (key != 'matches'):\n",
    "                    team_data = team_data.merge(df_info[key]['df'], on=['date', 'time', 'comp', 'round', 'day', 'venue', 'result', 'gf', 'ga', 'opponent'])\n",
    "\n",
    "        except ValueError:\n",
    "            continue\n",
    "\n",
    "        team_data = team_data[team_data[\"comp\"] == \"Premier League\"]\n",
    "        \n",
    "        team_data[\"team\"] = team_name\n",
    "        all_matches.append(team_data)\n",
    "        time.sleep(1)\n",
    "\n",
    "\n",
    "match_df = pd.concat(all_matches).reset_index(drop=True)\n",
    "match_df = match_df.sort_values('date', ascending=False)"
   ]
  },
  {
   "cell_type": "code",
   "execution_count": 5,
   "metadata": {},
   "outputs": [],
   "source": []
  },
  {
   "cell_type": "code",
   "execution_count": 6,
   "metadata": {},
   "outputs": [
    {
     "data": {
      "text/plain": [
       "(760, 103)"
      ]
     },
     "execution_count": 6,
     "metadata": {},
     "output_type": "execute_result"
    }
   ],
   "source": [
    "match_df.shape"
   ]
  },
  {
   "cell_type": "code",
   "execution_count": 9,
   "metadata": {},
   "outputs": [
    {
     "data": {
      "text/html": [
       "<div>\n",
       "<style scoped>\n",
       "    .dataframe tbody tr th:only-of-type {\n",
       "        vertical-align: middle;\n",
       "    }\n",
       "\n",
       "    .dataframe tbody tr th {\n",
       "        vertical-align: top;\n",
       "    }\n",
       "\n",
       "    .dataframe thead th {\n",
       "        text-align: right;\n",
       "    }\n",
       "</style>\n",
       "<table border=\"1\" class=\"dataframe\">\n",
       "  <thead>\n",
       "    <tr style=\"text-align: right;\">\n",
       "      <th></th>\n",
       "      <th>date</th>\n",
       "      <th>time</th>\n",
       "      <th>comp</th>\n",
       "      <th>round</th>\n",
       "      <th>day</th>\n",
       "      <th>venue</th>\n",
       "      <th>result</th>\n",
       "      <th>gf</th>\n",
       "      <th>ga</th>\n",
       "      <th>opponent</th>\n",
       "      <th>...</th>\n",
       "      <th>defense_blocks_blocks</th>\n",
       "      <th>defense_blocks_sh</th>\n",
       "      <th>defense_blocks_shsv</th>\n",
       "      <th>defense_blocks_pass</th>\n",
       "      <th>defense_int</th>\n",
       "      <th>defense_tkl+int</th>\n",
       "      <th>defense_clr</th>\n",
       "      <th>defense_err</th>\n",
       "      <th>defense_match_report</th>\n",
       "      <th>team</th>\n",
       "    </tr>\n",
       "  </thead>\n",
       "  <tbody>\n",
       "    <tr>\n",
       "      <th>759</th>\n",
       "      <td>2022-05-22</td>\n",
       "      <td>16:00</td>\n",
       "      <td>Premier League</td>\n",
       "      <td>Matchweek 38</td>\n",
       "      <td>Sun</td>\n",
       "      <td>Home</td>\n",
       "      <td>L</td>\n",
       "      <td>0</td>\n",
       "      <td>5</td>\n",
       "      <td>Tottenham</td>\n",
       "      <td>...</td>\n",
       "      <td>8.0</td>\n",
       "      <td>4.0</td>\n",
       "      <td>1.0</td>\n",
       "      <td>4.0</td>\n",
       "      <td>16.0</td>\n",
       "      <td>NaN</td>\n",
       "      <td>7.0</td>\n",
       "      <td>1.0</td>\n",
       "      <td>Match Report</td>\n",
       "      <td>Norwich City</td>\n",
       "    </tr>\n",
       "    <tr>\n",
       "      <th>265</th>\n",
       "      <td>2022-05-22</td>\n",
       "      <td>16:00</td>\n",
       "      <td>Premier League</td>\n",
       "      <td>Matchweek 38</td>\n",
       "      <td>Sun</td>\n",
       "      <td>Away</td>\n",
       "      <td>L</td>\n",
       "      <td>1</td>\n",
       "      <td>3</td>\n",
       "      <td>Brighton</td>\n",
       "      <td>...</td>\n",
       "      <td>21.0</td>\n",
       "      <td>8.0</td>\n",
       "      <td>0.0</td>\n",
       "      <td>13.0</td>\n",
       "      <td>5.0</td>\n",
       "      <td>NaN</td>\n",
       "      <td>19.0</td>\n",
       "      <td>1.0</td>\n",
       "      <td>Match Report</td>\n",
       "      <td>West Ham United</td>\n",
       "    </tr>\n",
       "    <tr>\n",
       "      <th>37</th>\n",
       "      <td>2022-05-22</td>\n",
       "      <td>16:00</td>\n",
       "      <td>Premier League</td>\n",
       "      <td>Matchweek 38</td>\n",
       "      <td>Sun</td>\n",
       "      <td>Home</td>\n",
       "      <td>W</td>\n",
       "      <td>3</td>\n",
       "      <td>2</td>\n",
       "      <td>Aston Villa</td>\n",
       "      <td>...</td>\n",
       "      <td>5.0</td>\n",
       "      <td>1.0</td>\n",
       "      <td>0.0</td>\n",
       "      <td>4.0</td>\n",
       "      <td>7.0</td>\n",
       "      <td>NaN</td>\n",
       "      <td>7.0</td>\n",
       "      <td>0.0</td>\n",
       "      <td>Match Report</td>\n",
       "      <td>Manchester City</td>\n",
       "    </tr>\n",
       "  </tbody>\n",
       "</table>\n",
       "<p>3 rows × 103 columns</p>\n",
       "</div>"
      ],
      "text/plain": [
       "           date   time            comp         round  day venue result gf ga  \\\n",
       "759  2022-05-22  16:00  Premier League  Matchweek 38  Sun  Home      L  0  5   \n",
       "265  2022-05-22  16:00  Premier League  Matchweek 38  Sun  Away      L  1  3   \n",
       "37   2022-05-22  16:00  Premier League  Matchweek 38  Sun  Home      W  3  2   \n",
       "\n",
       "        opponent  ...  defense_blocks_blocks defense_blocks_sh  \\\n",
       "759    Tottenham  ...                    8.0               4.0   \n",
       "265     Brighton  ...                   21.0               8.0   \n",
       "37   Aston Villa  ...                    5.0               1.0   \n",
       "\n",
       "    defense_blocks_shsv defense_blocks_pass  defense_int  defense_tkl+int  \\\n",
       "759                 1.0                 4.0         16.0              NaN   \n",
       "265                 0.0                13.0          5.0              NaN   \n",
       "37                  0.0                 4.0          7.0              NaN   \n",
       "\n",
       "     defense_clr  defense_err  defense_match_report             team  \n",
       "759          7.0          1.0          Match Report     Norwich City  \n",
       "265         19.0          1.0          Match Report  West Ham United  \n",
       "37           7.0          0.0          Match Report  Manchester City  \n",
       "\n",
       "[3 rows x 103 columns]"
      ]
     },
     "execution_count": 9,
     "metadata": {},
     "output_type": "execute_result"
    }
   ],
   "source": [
    "# pd.set_option('max_columns', None) # set to see all columns in df\n",
    "pd.reset_option('max_columns')\n",
    "match_df.head(3)"
   ]
  },
  {
   "cell_type": "code",
   "execution_count": 57,
   "metadata": {},
   "outputs": [
    {
     "data": {
      "text/plain": [
       "103"
      ]
     },
     "execution_count": 57,
     "metadata": {},
     "output_type": "execute_result"
    }
   ],
   "source": [
    "len(pd.read_csv('dictionary.csv').loc[:,'description'])"
   ]
  },
  {
   "cell_type": "code",
   "execution_count": 63,
   "metadata": {},
   "outputs": [
    {
     "data": {
      "text/html": [
       "<div>\n",
       "<style scoped>\n",
       "    .dataframe tbody tr th:only-of-type {\n",
       "        vertical-align: middle;\n",
       "    }\n",
       "\n",
       "    .dataframe tbody tr th {\n",
       "        vertical-align: top;\n",
       "    }\n",
       "\n",
       "    .dataframe thead th {\n",
       "        text-align: right;\n",
       "    }\n",
       "</style>\n",
       "<table border=\"1\" class=\"dataframe\">\n",
       "  <thead>\n",
       "    <tr style=\"text-align: right;\">\n",
       "      <th></th>\n",
       "      <th>feature</th>\n",
       "      <th>data_type</th>\n",
       "      <th>description</th>\n",
       "    </tr>\n",
       "  </thead>\n",
       "  <tbody>\n",
       "    <tr>\n",
       "      <th>0</th>\n",
       "      <td>date</td>\n",
       "      <td>object</td>\n",
       "      <td>Date listed is local to the match</td>\n",
       "    </tr>\n",
       "    <tr>\n",
       "      <th>1</th>\n",
       "      <td>time</td>\n",
       "      <td>object</td>\n",
       "      <td>Time listed is local to the match venue (24 ho...</td>\n",
       "    </tr>\n",
       "    <tr>\n",
       "      <th>2</th>\n",
       "      <td>comp</td>\n",
       "      <td>object</td>\n",
       "      <td>Competition - Number next to competition state...</td>\n",
       "    </tr>\n",
       "    <tr>\n",
       "      <th>3</th>\n",
       "      <td>round</td>\n",
       "      <td>object</td>\n",
       "      <td>Round or Phase of Competition</td>\n",
       "    </tr>\n",
       "    <tr>\n",
       "      <th>4</th>\n",
       "      <td>day</td>\n",
       "      <td>object</td>\n",
       "      <td>Day of week</td>\n",
       "    </tr>\n",
       "  </tbody>\n",
       "</table>\n",
       "</div>"
      ],
      "text/plain": [
       "  feature data_type                                        description\n",
       "0    date    object                  Date listed is local to the match\n",
       "1    time    object  Time listed is local to the match venue (24 ho...\n",
       "2    comp    object  Competition - Number next to competition state...\n",
       "3   round    object                      Round or Phase of Competition\n",
       "4     day    object                                        Day of week"
      ]
     },
     "execution_count": 63,
     "metadata": {},
     "output_type": "execute_result"
    }
   ],
   "source": [
    "# pd.set_option('max_rows', None) # set this to seee all columns\n",
    "# pd.reset_option('max_rows')\n",
    "pd.DataFrame({\n",
    "    'feature': list(match_df.columns), \n",
    "    'data_type': list(match_df.dtypes), \n",
    "    'description': list(pd.read_csv('dictionary.csv')['description'])\n",
    "}).head(5)"
   ]
  },
  {
   "cell_type": "code",
   "execution_count": 68,
   "metadata": {},
   "outputs": [
    {
     "data": {
      "application/vnd.plotly.v1+json": {
       "config": {
        "plotlyServerURL": "https://plot.ly"
       },
       "data": [
        {
         "customdata": [
          [
           "Norwich City",
           "Tottenham",
           5
          ],
          [
           "Norwich City",
           "Wolves",
           1
          ],
          [
           "Norwich City",
           "Leicester City",
           3
          ],
          [
           "Norwich City",
           "West Ham",
           4
          ],
          [
           "Norwich City",
           "Aston Villa",
           2
          ],
          [
           "Norwich City",
           "Newcastle Utd",
           3
          ],
          [
           "Norwich City",
           "Manchester Utd",
           3
          ],
          [
           "Norwich City",
           "Burnley",
           0
          ],
          [
           "Norwich City",
           "Brighton",
           0
          ],
          [
           "Norwich City",
           "Leeds United",
           2
          ],
          [
           "Norwich City",
           "Chelsea",
           3
          ],
          [
           "Norwich City",
           "Brentford",
           3
          ],
          [
           "Norwich City",
           "Southampton",
           2
          ],
          [
           "Norwich City",
           "Liverpool",
           3
          ],
          [
           "Norwich City",
           "Manchester City",
           4
          ],
          [
           "Norwich City",
           "Crystal Palace",
           1
          ],
          [
           "Norwich City",
           "Watford",
           0
          ],
          [
           "Norwich City",
           "Everton",
           1
          ],
          [
           "Norwich City",
           "West Ham",
           2
          ],
          [
           "Norwich City",
           "Crystal Palace",
           3
          ],
          [
           "Norwich City",
           "Arsenal",
           5
          ],
          [
           "Norwich City",
           "Aston Villa",
           2
          ],
          [
           "Norwich City",
           "Manchester Utd",
           1
          ],
          [
           "Norwich City",
           "Tottenham",
           3
          ],
          [
           "Norwich City",
           "Newcastle Utd",
           1
          ],
          [
           "Norwich City",
           "Wolves",
           0
          ],
          [
           "Norwich City",
           "Southampton",
           1
          ],
          [
           "Norwich City",
           "Brentford",
           1
          ],
          [
           "Norwich City",
           "Leeds United",
           2
          ],
          [
           "Norwich City",
           "Chelsea",
           7
          ],
          [
           "Norwich City",
           "Brighton",
           0
          ],
          [
           "Norwich City",
           "Burnley",
           0
          ],
          [
           "Norwich City",
           "Everton",
           2
          ],
          [
           "Norwich City",
           "Watford",
           3
          ],
          [
           "Norwich City",
           "Arsenal",
           1
          ],
          [
           "Norwich City",
           "Leicester City",
           2
          ],
          [
           "Norwich City",
           "Manchester City",
           5
          ],
          [
           "Norwich City",
           "Liverpool",
           3
          ]
         ],
         "hovertemplate": "team=%{customdata[0]}<br>passing_short_cmp=%{x}<br>passing_total_cmp=%{y}<br>shooting_standard_gls=%{marker.size}<br>opponent=%{customdata[1]}<br>ga=%{customdata[2]}<extra></extra>",
         "legendgroup": "Norwich City",
         "marker": {
          "color": "#636efa",
          "size": [
           0,
           1,
           0,
           0,
           0,
           0,
           2,
           2,
           0,
           1,
           1,
           1,
           0,
           1,
           0,
           1,
           2,
           1,
           0,
           0,
           0,
           0,
           0,
           0,
           1,
           0,
           2,
           2,
           1,
           0,
           0,
           0,
           0,
           1,
           0,
           1,
           0,
           0
          ],
          "sizemode": "area",
          "sizeref": 0.0175,
          "symbol": "circle"
         },
         "mode": "markers",
         "name": "Norwich City",
         "orientation": "v",
         "showlegend": true,
         "type": "scatter",
         "x": [
          99,
          125,
          132,
          140,
          169,
          143,
          138,
          114,
          96,
          122,
          143,
          160,
          119,
          114,
          72,
          64,
          97,
          98,
          93,
          129,
          87,
          117,
          155,
          173,
          191,
          158,
          110,
          114,
          89,
          109,
          82,
          105,
          149,
          134,
          146,
          111,
          126,
          182
         ],
         "xaxis": "x",
         "y": [
          335,
          275,
          295,
          335,
          424,
          348,
          326,
          241,
          207,
          311,
          309,
          387,
          297,
          231,
          217,
          175,
          187,
          221,
          277,
          313,
          244,
          407,
          369,
          599,
          523,
          394,
          250,
          239,
          243,
          301,
          237,
          271,
          436,
          324,
          349,
          307,
          317,
          453
         ],
         "yaxis": "y"
        },
        {
         "customdata": [
          [
           "West Ham United",
           "Brighton",
           "3"
          ],
          [
           "West Ham United",
           "Manchester City",
           "2"
          ],
          [
           "West Ham United",
           "Norwich City",
           "0"
          ],
          [
           "West Ham United",
           "Arsenal",
           "2"
          ],
          [
           "West Ham United",
           "Chelsea",
           "1"
          ],
          [
           "West Ham United",
           "Burnley",
           "1"
          ],
          [
           "West Ham United",
           "Brentford",
           "2"
          ],
          [
           "West Ham United",
           "Everton",
           "1"
          ],
          [
           "West Ham United",
           "Tottenham",
           "3"
          ],
          [
           "West Ham United",
           "Aston Villa",
           "1"
          ],
          [
           "West Ham United",
           "Liverpool",
           "1"
          ],
          [
           "West Ham United",
           "Wolves",
           "0"
          ],
          [
           "West Ham United",
           "Newcastle Utd",
           "1"
          ],
          [
           "West Ham United",
           "Leicester City",
           "2"
          ],
          [
           "West Ham United",
           "Watford",
           "0"
          ],
          [
           "West Ham United",
           "Manchester Utd",
           "1"
          ],
          [
           "West Ham United",
           "Leeds United",
           "3"
          ],
          [
           "West Ham United",
           "Norwich City",
           "0"
          ],
          [
           "West Ham United",
           "Crystal Palace",
           "2"
          ],
          [
           "West Ham United",
           "Watford",
           "1"
          ],
          [
           "West Ham United",
           "Southampton",
           "3"
          ],
          [
           "West Ham United",
           "Arsenal",
           "2"
          ],
          [
           "West Ham United",
           "Burnley",
           "0"
          ],
          [
           "West Ham United",
           "Chelsea",
           "2"
          ],
          [
           "West Ham United",
           "Brighton",
           "1"
          ],
          [
           "West Ham United",
           "Manchester City",
           "2"
          ],
          [
           "West Ham United",
           "Wolves",
           "1"
          ],
          [
           "West Ham United",
           "Liverpool",
           "2"
          ],
          [
           "West Ham United",
           "Aston Villa",
           "1"
          ],
          [
           "West Ham United",
           "Tottenham",
           "0"
          ],
          [
           "West Ham United",
           "Everton",
           "0"
          ],
          [
           "West Ham United",
           "Brentford",
           "2"
          ],
          [
           "West Ham United",
           "Leeds United",
           "1"
          ],
          [
           "West Ham United",
           "Manchester Utd",
           "2"
          ],
          [
           "West Ham United",
           "Southampton",
           "0"
          ],
          [
           "West Ham United",
           "Crystal Palace",
           "2"
          ],
          [
           "West Ham United",
           "Leicester City",
           "1"
          ],
          [
           "West Ham United",
           "Newcastle Utd",
           "2"
          ]
         ],
         "hovertemplate": "team=%{customdata[0]}<br>passing_short_cmp=%{x}<br>passing_total_cmp=%{y}<br>shooting_standard_gls=%{marker.size}<br>opponent=%{customdata[1]}<br>ga=%{customdata[2]}<extra></extra>",
         "legendgroup": "West Ham United",
         "marker": {
          "color": "#EF553B",
          "size": [
           1,
           2,
           4,
           1,
           0,
           1,
           0,
           2,
           1,
           2,
           0,
           1,
           1,
           2,
           1,
           0,
           2,
           2,
           3,
           4,
           2,
           0,
           0,
           3,
           1,
           1,
           0,
           2,
           4,
           1,
           1,
           1,
           1,
           1,
           0,
           2,
           4,
           4
          ],
          "sizemode": "area",
          "sizeref": 0.0175,
          "symbol": "circle"
         },
         "mode": "markers",
         "name": "West Ham United",
         "orientation": "v",
         "showlegend": true,
         "type": "scatter",
         "x": [
          173,
          55,
          286,
          218,
          108,
          205,
          188,
          194,
          193,
          188,
          106,
          175,
          138,
          152,
          217,
          137,
          132,
          184,
          122,
          146,
          150,
          132,
          187,
          122,
          98,
          113,
          180,
          99,
          154,
          120,
          179,
          113,
          129,
          135,
          178,
          139,
          175,
          163
         ],
         "xaxis": "x",
         "y": [
          403,
          132,
          636,
          519,
          271,
          456,
          474,
          452,
          490,
          399,
          245,
          339,
          315,
          354,
          533,
          335,
          312,
          491,
          282,
          342,
          385,
          344,
          371,
          270,
          217,
          274,
          426,
          234,
          401,
          326,
          478,
          331,
          301,
          340,
          483,
          330,
          465,
          420
         ],
         "yaxis": "y"
        },
        {
         "customdata": [
          [
           "Manchester City",
           "Aston Villa",
           "2"
          ],
          [
           "Manchester City",
           "West Ham",
           "2"
          ],
          [
           "Manchester City",
           "Wolves",
           "1"
          ],
          [
           "Manchester City",
           "Newcastle Utd",
           "0"
          ],
          [
           "Manchester City",
           "Leeds United",
           "0"
          ],
          [
           "Manchester City",
           "Watford",
           "1"
          ],
          [
           "Manchester City",
           "Brighton",
           "0"
          ],
          [
           "Manchester City",
           "Liverpool",
           "2"
          ],
          [
           "Manchester City",
           "Burnley",
           "0"
          ],
          [
           "Manchester City",
           "Crystal Palace",
           "0"
          ],
          [
           "Manchester City",
           "Manchester Utd",
           "1"
          ],
          [
           "Manchester City",
           "Everton",
           "0"
          ],
          [
           "Manchester City",
           "Tottenham",
           "3"
          ],
          [
           "Manchester City",
           "Norwich City",
           "0"
          ],
          [
           "Manchester City",
           "Brentford",
           "0"
          ],
          [
           "Manchester City",
           "Southampton",
           "1"
          ],
          [
           "Manchester City",
           "Chelsea",
           "0"
          ],
          [
           "Manchester City",
           "Arsenal",
           "1"
          ],
          [
           "Manchester City",
           "Brentford",
           "0"
          ],
          [
           "Manchester City",
           "Leicester City",
           "3"
          ],
          [
           "Manchester City",
           "Newcastle Utd",
           "0"
          ],
          [
           "Manchester City",
           "Leeds United",
           "0"
          ],
          [
           "Manchester City",
           "Wolves",
           "0"
          ],
          [
           "Manchester City",
           "Watford",
           "1"
          ],
          [
           "Manchester City",
           "Aston Villa",
           "1"
          ],
          [
           "Manchester City",
           "West Ham",
           "1"
          ],
          [
           "Manchester City",
           "Everton",
           "0"
          ],
          [
           "Manchester City",
           "Manchester Utd",
           "0"
          ],
          [
           "Manchester City",
           "Crystal Palace",
           "2"
          ],
          [
           "Manchester City",
           "Brighton",
           "1"
          ],
          [
           "Manchester City",
           "Burnley",
           "0"
          ],
          [
           "Manchester City",
           "Liverpool",
           "2"
          ],
          [
           "Manchester City",
           "Chelsea",
           "0"
          ],
          [
           "Manchester City",
           "Southampton",
           "0"
          ],
          [
           "Manchester City",
           "Leicester City",
           "0"
          ],
          [
           "Manchester City",
           "Arsenal",
           "0"
          ],
          [
           "Manchester City",
           "Norwich City",
           "0"
          ],
          [
           "Manchester City",
           "Tottenham",
           "1"
          ]
         ],
         "hovertemplate": "team=%{customdata[0]}<br>passing_short_cmp=%{x}<br>passing_total_cmp=%{y}<br>shooting_standard_gls=%{marker.size}<br>opponent=%{customdata[1]}<br>ga=%{customdata[2]}<extra></extra>",
         "legendgroup": "Manchester City",
         "marker": {
          "color": "#00cc96",
          "size": [
           3,
           1,
           5,
           5,
           4,
           5,
           3,
           2,
           2,
           0,
           4,
           1,
           2,
           4,
           2,
           1,
           1,
           2,
           1,
           6,
           4,
           7,
           1,
           3,
           2,
           2,
           3,
           1,
           0,
           4,
           2,
           2,
           1,
           0,
           1,
           5,
           4,
           0
          ],
          "sizemode": "area",
          "sizeref": 0.0175,
          "symbol": "circle"
         },
         "mode": "markers",
         "name": "Manchester City",
         "orientation": "v",
         "showlegend": true,
         "type": "scatter",
         "x": [
          186,
          303,
          329,
          321,
          236,
          259,
          244,
          201,
          296,
          290,
          263,
          217,
          262,
          262,
          300,
          299,
          204,
          255,
          324,
          317,
          266,
          247,
          280,
          331,
          204,
          278,
          342,
          327,
          242,
          227,
          355,
          200,
          191,
          201,
          185,
          330,
          281,
          201
         ],
         "xaxis": "x",
         "y": [
          561,
          629,
          722,
          663,
          566,
          635,
          611,
          505,
          693,
          685,
          696,
          611,
          707,
          654,
          651,
          708,
          530,
          582,
          655,
          713,
          661,
          577,
          716,
          766,
          558,
          663,
          820,
          763,
          601,
          502,
          707,
          452,
          544,
          512,
          525,
          717,
          695,
          476
         ],
         "yaxis": "y"
        },
        {
         "customdata": [
          [
           "Everton",
           "Arsenal",
           "5"
          ],
          [
           "Everton",
           "Crystal Palace",
           "2"
          ],
          [
           "Everton",
           "Brentford",
           "3"
          ],
          [
           "Everton",
           "Watford",
           "0"
          ],
          [
           "Everton",
           "Leicester City",
           "1"
          ],
          [
           "Everton",
           "Chelsea",
           "0"
          ],
          [
           "Everton",
           "Liverpool",
           "2"
          ],
          [
           "Everton",
           "Leicester City",
           "1"
          ],
          [
           "Everton",
           "Manchester Utd",
           "0"
          ],
          [
           "Everton",
           "Burnley",
           "3"
          ],
          [
           "Everton",
           "West Ham",
           "2"
          ],
          [
           "Everton",
           "Newcastle Utd",
           "0"
          ],
          [
           "Everton",
           "Wolves",
           "1"
          ],
          [
           "Everton",
           "Tottenham",
           "5"
          ],
          [
           "Everton",
           "Manchester City",
           "1"
          ],
          [
           "Everton",
           "Southampton",
           "2"
          ],
          [
           "Everton",
           "Leeds United",
           "0"
          ],
          [
           "Everton",
           "Newcastle Utd",
           "3"
          ],
          [
           "Everton",
           "Aston Villa",
           "1"
          ],
          [
           "Everton",
           "Norwich City",
           "2"
          ],
          [
           "Everton",
           "Brighton",
           "3"
          ],
          [
           "Everton",
           "Chelsea",
           "1"
          ],
          [
           "Everton",
           "Crystal Palace",
           "3"
          ],
          [
           "Everton",
           "Arsenal",
           "1"
          ],
          [
           "Everton",
           "Liverpool",
           "4"
          ],
          [
           "Everton",
           "Brentford",
           "1"
          ],
          [
           "Everton",
           "Manchester City",
           "3"
          ],
          [
           "Everton",
           "Tottenham",
           "0"
          ],
          [
           "Everton",
           "Wolves",
           "2"
          ],
          [
           "Everton",
           "Watford",
           "5"
          ],
          [
           "Everton",
           "West Ham",
           "1"
          ],
          [
           "Everton",
           "Manchester Utd",
           "1"
          ],
          [
           "Everton",
           "Norwich City",
           "0"
          ],
          [
           "Everton",
           "Aston Villa",
           "3"
          ],
          [
           "Everton",
           "Burnley",
           "1"
          ],
          [
           "Everton",
           "Brighton",
           "0"
          ],
          [
           "Everton",
           "Leeds United",
           "2"
          ],
          [
           "Everton",
           "Southampton",
           "1"
          ]
         ],
         "hovertemplate": "team=%{customdata[0]}<br>passing_short_cmp=%{x}<br>passing_total_cmp=%{y}<br>shooting_standard_gls=%{marker.size}<br>opponent=%{customdata[1]}<br>ga=%{customdata[2]}<extra></extra>",
         "legendgroup": "Everton",
         "marker": {
          "color": "#ab63fa",
          "size": [
           1,
           3,
           2,
           0,
           2,
           1,
           0,
           1,
           1,
           2,
           1,
           1,
           0,
           0,
           0,
           0,
           3,
           0,
           0,
           1,
           2,
           1,
           1,
           2,
           1,
           0,
           0,
           0,
           1,
           2,
           0,
           1,
           2,
           0,
           3,
           2,
           2,
           3
          ],
          "sizemode": "area",
          "sizeref": 0.0175,
          "symbol": "circle"
         },
         "mode": "markers",
         "name": "Everton",
         "orientation": "v",
         "showlegend": true,
         "type": "scatter",
         "x": [
          70,
          114,
          60,
          171,
          126,
          71,
          47,
          111,
          100,
          115,
          155,
          96,
          121,
          188,
          112,
          153,
          113,
          196,
          78,
          174,
          112,
          52,
          92,
          92,
          75,
          228,
          82,
          119,
          138,
          121,
          94,
          78,
          134,
          92,
          135,
          124,
          84,
          91
         ],
         "xaxis": "x",
         "y": [
          164,
          271,
          158,
          421,
          255,
          144,
          106,
          281,
          230,
          230,
          352,
          211,
          299,
          459,
          257,
          305,
          282,
          379,
          262,
          374,
          319,
          115,
          228,
          255,
          182,
          467,
          185,
          371,
          297,
          336,
          262,
          189,
          372,
          239,
          337,
          270,
          197,
          264
         ],
         "yaxis": "y"
        },
        {
         "customdata": [
          [
           "Arsenal",
           "Everton",
           1
          ],
          [
           "Arsenal",
           "Newcastle Utd",
           2
          ],
          [
           "Arsenal",
           "Tottenham",
           3
          ],
          [
           "Arsenal",
           "Leeds United",
           1
          ],
          [
           "Arsenal",
           "West Ham",
           1
          ],
          [
           "Arsenal",
           "Manchester Utd",
           1
          ],
          [
           "Arsenal",
           "Chelsea",
           2
          ],
          [
           "Arsenal",
           "Southampton",
           1
          ],
          [
           "Arsenal",
           "Brighton",
           2
          ],
          [
           "Arsenal",
           "Crystal Palace",
           3
          ],
          [
           "Arsenal",
           "Aston Villa",
           0
          ],
          [
           "Arsenal",
           "Liverpool",
           2
          ],
          [
           "Arsenal",
           "Leicester City",
           0
          ],
          [
           "Arsenal",
           "Watford",
           2
          ],
          [
           "Arsenal",
           "Wolves",
           1
          ],
          [
           "Arsenal",
           "Brentford",
           1
          ],
          [
           "Arsenal",
           "Wolves",
           0
          ],
          [
           "Arsenal",
           "Burnley",
           0
          ],
          [
           "Arsenal",
           "Manchester City",
           2
          ],
          [
           "Arsenal",
           "Norwich City",
           0
          ],
          [
           "Arsenal",
           "Leeds United",
           1
          ],
          [
           "Arsenal",
           "West Ham",
           0
          ],
          [
           "Arsenal",
           "Southampton",
           0
          ],
          [
           "Arsenal",
           "Everton",
           2
          ],
          [
           "Arsenal",
           "Manchester Utd",
           3
          ],
          [
           "Arsenal",
           "Newcastle Utd",
           0
          ],
          [
           "Arsenal",
           "Liverpool",
           4
          ],
          [
           "Arsenal",
           "Watford",
           0
          ],
          [
           "Arsenal",
           "Leicester City",
           0
          ],
          [
           "Arsenal",
           "Aston Villa",
           1
          ],
          [
           "Arsenal",
           "Crystal Palace",
           2
          ],
          [
           "Arsenal",
           "Brighton",
           0
          ],
          [
           "Arsenal",
           "Tottenham",
           1
          ],
          [
           "Arsenal",
           "Burnley",
           0
          ],
          [
           "Arsenal",
           "Norwich City",
           0
          ],
          [
           "Arsenal",
           "Manchester City",
           5
          ],
          [
           "Arsenal",
           "Chelsea",
           2
          ],
          [
           "Arsenal",
           "Brentford",
           2
          ]
         ],
         "hovertemplate": "team=%{customdata[0]}<br>passing_short_cmp=%{x}<br>passing_total_cmp=%{y}<br>shooting_standard_gls=%{marker.size}<br>opponent=%{customdata[1]}<br>ga=%{customdata[2]}<extra></extra>",
         "legendgroup": "Arsenal",
         "marker": {
          "color": "#FFA15A",
          "size": [
           5,
           0,
           0,
           2,
           2,
           3,
           4,
           0,
           1,
           0,
           1,
           0,
           2,
           3,
           1,
           2,
           1,
           0,
           1,
           5,
           4,
           2,
           3,
           1,
           2,
           2,
           0,
           1,
           2,
           3,
           2,
           0,
           3,
           1,
           1,
           0,
           0,
           0
          ],
          "sizemode": "area",
          "sizeref": 0.0175,
          "symbol": "circle"
         },
         "mode": "markers",
         "name": "Arsenal",
         "orientation": "v",
         "showlegend": true,
         "type": "scatter",
         "x": [
          255,
          134,
          151,
          239,
          178,
          225,
          143,
          269,
          168,
          276,
          195,
          198,
          172,
          237,
          207,
          209,
          109,
          273,
          69,
          202,
          129,
          178,
          189,
          210,
          206,
          268,
          122,
          121,
          117,
          171,
          238,
          123,
          129,
          193,
          193,
          42,
          134,
          214
         ],
         "xaxis": "x",
         "y": [
          610,
          278,
          362,
          597,
          393,
          447,
          282,
          612,
          443,
          582,
          476,
          433,
          436,
          495,
          454,
          520,
          277,
          591,
          192,
          513,
          330,
          439,
          433,
          519,
          462,
          586,
          299,
          421,
          285,
          396,
          508,
          290,
          363,
          449,
          396,
          134,
          281,
          526
         ],
         "yaxis": "y"
        },
        {
         "customdata": [
          [
           "Southampton",
           "Leicester City",
           "4"
          ],
          [
           "Southampton",
           "Liverpool",
           "2"
          ],
          [
           "Southampton",
           "Brentford",
           "3"
          ],
          [
           "Southampton",
           "Crystal Palace",
           "2"
          ],
          [
           "Southampton",
           "Brighton",
           "2"
          ],
          [
           "Southampton",
           "Burnley",
           "2"
          ],
          [
           "Southampton",
           "Arsenal",
           "0"
          ],
          [
           "Southampton",
           "Chelsea",
           "6"
          ],
          [
           "Southampton",
           "Leeds United",
           "1"
          ],
          [
           "Southampton",
           "Watford",
           "2"
          ],
          [
           "Southampton",
           "Newcastle Utd",
           "2"
          ],
          [
           "Southampton",
           "Aston Villa",
           "4"
          ],
          [
           "Southampton",
           "Norwich City",
           "0"
          ],
          [
           "Southampton",
           "Everton",
           "0"
          ],
          [
           "Southampton",
           "Manchester Utd",
           "1"
          ],
          [
           "Southampton",
           "Tottenham",
           "2"
          ],
          [
           "Southampton",
           "Manchester City",
           "1"
          ],
          [
           "Southampton",
           "Wolves",
           "3"
          ],
          [
           "Southampton",
           "Brentford",
           "1"
          ],
          [
           "Southampton",
           "Tottenham",
           "1"
          ],
          [
           "Southampton",
           "West Ham",
           "2"
          ],
          [
           "Southampton",
           "Crystal Palace",
           "2"
          ],
          [
           "Southampton",
           "Arsenal",
           "3"
          ],
          [
           "Southampton",
           "Brighton",
           "1"
          ],
          [
           "Southampton",
           "Leicester City",
           "2"
          ],
          [
           "Southampton",
           "Liverpool",
           "4"
          ],
          [
           "Southampton",
           "Norwich City",
           "2"
          ],
          [
           "Southampton",
           "Aston Villa",
           "0"
          ],
          [
           "Southampton",
           "Watford",
           "0"
          ],
          [
           "Southampton",
           "Burnley",
           "2"
          ],
          [
           "Southampton",
           "Leeds United",
           "0"
          ],
          [
           "Southampton",
           "Chelsea",
           "3"
          ],
          [
           "Southampton",
           "Wolves",
           "1"
          ],
          [
           "Southampton",
           "Manchester City",
           "0"
          ],
          [
           "Southampton",
           "West Ham",
           "0"
          ],
          [
           "Southampton",
           "Newcastle Utd",
           "2"
          ],
          [
           "Southampton",
           "Manchester Utd",
           "1"
          ],
          [
           "Southampton",
           "Everton",
           "3"
          ]
         ],
         "hovertemplate": "team=%{customdata[0]}<br>passing_short_cmp=%{x}<br>passing_total_cmp=%{y}<br>shooting_standard_gls=%{marker.size}<br>opponent=%{customdata[1]}<br>ga=%{customdata[2]}<extra></extra>",
         "legendgroup": "Southampton",
         "marker": {
          "color": "#19d3f3",
          "size": [
           1,
           1,
           0,
           1,
           2,
           0,
           1,
           0,
           1,
           1,
           1,
           0,
           2,
           2,
           1,
           3,
           1,
           1,
           3,
           1,
           3,
           2,
           0,
           1,
           2,
           0,
           1,
           1,
           1,
           2,
           1,
           1,
           0,
           0,
           0,
           2,
           0,
           1
          ],
          "sizemode": "area",
          "sizeref": 0.0175,
          "symbol": "circle"
         },
         "mode": "markers",
         "name": "Southampton",
         "orientation": "v",
         "showlegend": true,
         "type": "scatter",
         "x": [
          161,
          81,
          186,
          116,
          143,
          179,
          58,
          98,
          117,
          174,
          292,
          201,
          223,
          187,
          160,
          179,
          70,
          172,
          137,
          93,
          136,
          97,
          107,
          113,
          141,
          107,
          216,
          147,
          144,
          166,
          146,
          139,
          196,
          109,
          110,
          238,
          95,
          122
         ],
         "xaxis": "x",
         "y": [
          359,
          242,
          394,
          246,
          296,
          408,
          133,
          242,
          258,
          419,
          579,
          495,
          453,
          422,
          361,
          402,
          205,
          365,
          314,
          217,
          313,
          212,
          254,
          231,
          278,
          243,
          502,
          374,
          390,
          380,
          309,
          273,
          442,
          253,
          327,
          473,
          224,
          283
         ],
         "yaxis": "y"
        },
        {
         "customdata": [
          [
           "Liverpool",
           "Wolves",
           "1"
          ],
          [
           "Liverpool",
           "Southampton",
           "1"
          ],
          [
           "Liverpool",
           "Aston Villa",
           "1"
          ],
          [
           "Liverpool",
           "Tottenham",
           "1"
          ],
          [
           "Liverpool",
           "Newcastle Utd",
           "0"
          ],
          [
           "Liverpool",
           "Everton",
           "0"
          ],
          [
           "Liverpool",
           "Manchester Utd",
           "0"
          ],
          [
           "Liverpool",
           "Manchester City",
           "2"
          ],
          [
           "Liverpool",
           "Watford",
           "0"
          ],
          [
           "Liverpool",
           "Arsenal",
           "0"
          ],
          [
           "Liverpool",
           "Brighton",
           "0"
          ],
          [
           "Liverpool",
           "West Ham",
           "0"
          ],
          [
           "Liverpool",
           "Leeds United",
           "0"
          ],
          [
           "Liverpool",
           "Norwich City",
           "1"
          ],
          [
           "Liverpool",
           "Burnley",
           "0"
          ],
          [
           "Liverpool",
           "Leicester City",
           "0"
          ],
          [
           "Liverpool",
           "Crystal Palace",
           "1"
          ],
          [
           "Liverpool",
           "Brentford",
           "0"
          ],
          [
           "Liverpool",
           "Chelsea",
           "2"
          ],
          [
           "Liverpool",
           "Leicester City",
           "1"
          ],
          [
           "Liverpool",
           "Tottenham",
           "2"
          ],
          [
           "Liverpool",
           "Newcastle Utd",
           "1"
          ],
          [
           "Liverpool",
           "Aston Villa",
           "0"
          ],
          [
           "Liverpool",
           "Wolves",
           "0"
          ],
          [
           "Liverpool",
           "Everton",
           "1"
          ],
          [
           "Liverpool",
           "Southampton",
           "0"
          ],
          [
           "Liverpool",
           "Arsenal",
           "0"
          ],
          [
           "Liverpool",
           "West Ham",
           "3"
          ],
          [
           "Liverpool",
           "Brighton",
           "2"
          ],
          [
           "Liverpool",
           "Manchester Utd",
           "0"
          ],
          [
           "Liverpool",
           "Watford",
           "0"
          ],
          [
           "Liverpool",
           "Manchester City",
           "2"
          ],
          [
           "Liverpool",
           "Brentford",
           "3"
          ],
          [
           "Liverpool",
           "Crystal Palace",
           "0"
          ],
          [
           "Liverpool",
           "Leeds United",
           "0"
          ],
          [
           "Liverpool",
           "Chelsea",
           "1"
          ],
          [
           "Liverpool",
           "Burnley",
           "0"
          ],
          [
           "Liverpool",
           "Norwich City",
           "0"
          ]
         ],
         "hovertemplate": "team=%{customdata[0]}<br>passing_short_cmp=%{x}<br>passing_total_cmp=%{y}<br>shooting_standard_gls=%{marker.size}<br>opponent=%{customdata[1]}<br>ga=%{customdata[2]}<extra></extra>",
         "legendgroup": "Liverpool",
         "marker": {
          "color": "#FF6692",
          "size": [
           3,
           2,
           2,
           1,
           1,
           2,
           4,
           2,
           2,
           2,
           2,
           1,
           6,
           3,
           1,
           2,
           3,
           3,
           2,
           0,
           2,
           3,
           1,
           1,
           4,
           4,
           4,
           2,
           2,
           5,
           5,
           2,
           3,
           3,
           3,
           1,
           2,
           3
          ],
          "sizemode": "area",
          "sizeref": 0.0175,
          "symbol": "circle"
         },
         "mode": "markers",
         "name": "Liverpool",
         "orientation": "v",
         "showlegend": true,
         "type": "scatter",
         "x": [
          233,
          287,
          179,
          204,
          164,
          274,
          312,
          150,
          216,
          176,
          125,
          247,
          230,
          265,
          234,
          191,
          187,
          262,
          124,
          205,
          181,
          257,
          181,
          220,
          176,
          205,
          207,
          246,
          216,
          346,
          259,
          133,
          171,
          157,
          163,
          286,
          179,
          150
         ],
         "xaxis": "x",
         "y": [
          629,
          685,
          451,
          569,
          454,
          723,
          833,
          396,
          652,
          452,
          348,
          641,
          608,
          640,
          559,
          586,
          491,
          619,
          366,
          515,
          446,
          648,
          494,
          568,
          502,
          536,
          576,
          598,
          561,
          665,
          723,
          424,
          480,
          429,
          471,
          618,
          448,
          452
         ],
         "yaxis": "y"
        },
        {
         "customdata": [
          [
           "Aston Villa",
           "Manchester City",
           "3"
          ],
          [
           "Aston Villa",
           "Burnley",
           "1"
          ],
          [
           "Aston Villa",
           "Crystal Palace",
           "1"
          ],
          [
           "Aston Villa",
           "Liverpool",
           "2"
          ],
          [
           "Aston Villa",
           "Burnley",
           "1"
          ],
          [
           "Aston Villa",
           "Norwich City",
           "0"
          ],
          [
           "Aston Villa",
           "Leicester City",
           "0"
          ],
          [
           "Aston Villa",
           "Tottenham",
           "4"
          ],
          [
           "Aston Villa",
           "Wolves",
           "2"
          ],
          [
           "Aston Villa",
           "Arsenal",
           "1"
          ],
          [
           "Aston Villa",
           "West Ham",
           "2"
          ],
          [
           "Aston Villa",
           "Leeds United",
           "0"
          ],
          [
           "Aston Villa",
           "Southampton",
           "0"
          ],
          [
           "Aston Villa",
           "Brighton",
           "0"
          ],
          [
           "Aston Villa",
           "Watford",
           "1"
          ],
          [
           "Aston Villa",
           "Newcastle Utd",
           "1"
          ],
          [
           "Aston Villa",
           "Leeds United",
           "3"
          ],
          [
           "Aston Villa",
           "Everton",
           "0"
          ],
          [
           "Aston Villa",
           "Manchester Utd",
           "2"
          ],
          [
           "Aston Villa",
           "Brentford",
           "2"
          ],
          [
           "Aston Villa",
           "Chelsea",
           "3"
          ],
          [
           "Aston Villa",
           "Norwich City",
           "0"
          ],
          [
           "Aston Villa",
           "Liverpool",
           "1"
          ],
          [
           "Aston Villa",
           "Leicester City",
           "1"
          ],
          [
           "Aston Villa",
           "Manchester City",
           "2"
          ],
          [
           "Aston Villa",
           "Crystal Palace",
           "1"
          ],
          [
           "Aston Villa",
           "Brighton",
           "0"
          ],
          [
           "Aston Villa",
           "Southampton",
           "1"
          ],
          [
           "Aston Villa",
           "West Ham",
           "4"
          ],
          [
           "Aston Villa",
           "Arsenal",
           "3"
          ],
          [
           "Aston Villa",
           "Wolves",
           "3"
          ],
          [
           "Aston Villa",
           "Tottenham",
           "2"
          ],
          [
           "Aston Villa",
           "Manchester Utd",
           "0"
          ],
          [
           "Aston Villa",
           "Everton",
           "0"
          ],
          [
           "Aston Villa",
           "Chelsea",
           "3"
          ],
          [
           "Aston Villa",
           "Brentford",
           "1"
          ],
          [
           "Aston Villa",
           "Newcastle Utd",
           "0"
          ],
          [
           "Aston Villa",
           "Watford",
           "3"
          ]
         ],
         "hovertemplate": "team=%{customdata[0]}<br>passing_short_cmp=%{x}<br>passing_total_cmp=%{y}<br>shooting_standard_gls=%{marker.size}<br>opponent=%{customdata[1]}<br>ga=%{customdata[2]}<extra></extra>",
         "legendgroup": "Aston Villa",
         "marker": {
          "color": "#B6E880",
          "size": [
           2,
           1,
           1,
           1,
           3,
           2,
           0,
           0,
           1,
           0,
           1,
           3,
           4,
           2,
           0,
           0,
           3,
           1,
           2,
           1,
           0,
           2,
           0,
           2,
           1,
           2,
           2,
           0,
           1,
           1,
           2,
           1,
           1,
           2,
           0,
           1,
           2,
           2
          ],
          "sizemode": "area",
          "sizeref": 0.0175,
          "symbol": "circle"
         },
         "mode": "markers",
         "name": "Aston Villa",
         "orientation": "v",
         "showlegend": true,
         "type": "scatter",
         "x": [
          70,
          209,
          186,
          122,
          192,
          165,
          100,
          169,
          160,
          175,
          211,
          161,
          110,
          100,
          182,
          162,
          100,
          121,
          180,
          168,
          156,
          174,
          117,
          150,
          128,
          123,
          133,
          82,
          91,
          117,
          125,
          72,
          90,
          91,
          91,
          101,
          86,
          141
         ],
         "xaxis": "x",
         "y": [
          187,
          552,
          402,
          278,
          390,
          334,
          219,
          429,
          383,
          388,
          428,
          353,
          276,
          252,
          490,
          357,
          252,
          283,
          459,
          428,
          388,
          386,
          245,
          288,
          284,
          283,
          305,
          261,
          269,
          327,
          317,
          235,
          214,
          324,
          280,
          287,
          254,
          434
         ],
         "yaxis": "y"
        },
        {
         "customdata": [
          [
           "Brentford",
           "Leeds United",
           2
          ],
          [
           "Brentford",
           "Everton",
           2
          ],
          [
           "Brentford",
           "Southampton",
           0
          ],
          [
           "Brentford",
           "Manchester Utd",
           3
          ],
          [
           "Brentford",
           "Tottenham",
           0
          ],
          [
           "Brentford",
           "Watford",
           1
          ],
          [
           "Brentford",
           "West Ham",
           0
          ],
          [
           "Brentford",
           "Chelsea",
           1
          ],
          [
           "Brentford",
           "Leicester City",
           2
          ],
          [
           "Brentford",
           "Burnley",
           0
          ],
          [
           "Brentford",
           "Norwich City",
           1
          ],
          [
           "Brentford",
           "Newcastle Utd",
           2
          ],
          [
           "Brentford",
           "Arsenal",
           2
          ],
          [
           "Brentford",
           "Crystal Palace",
           0
          ],
          [
           "Brentford",
           "Manchester City",
           2
          ],
          [
           "Brentford",
           "Wolves",
           2
          ],
          [
           "Brentford",
           "Manchester Utd",
           3
          ],
          [
           "Brentford",
           "Liverpool",
           3
          ],
          [
           "Brentford",
           "Southampton",
           4
          ],
          [
           "Brentford",
           "Aston Villa",
           1
          ],
          [
           "Brentford",
           "Manchester City",
           1
          ],
          [
           "Brentford",
           "Brighton",
           2
          ],
          [
           "Brentford",
           "Watford",
           1
          ],
          [
           "Brentford",
           "Leeds United",
           2
          ],
          [
           "Brentford",
           "Tottenham",
           2
          ],
          [
           "Brentford",
           "Everton",
           0
          ],
          [
           "Brentford",
           "Newcastle Utd",
           3
          ],
          [
           "Brentford",
           "Norwich City",
           2
          ],
          [
           "Brentford",
           "Burnley",
           3
          ],
          [
           "Brentford",
           "Leicester City",
           2
          ],
          [
           "Brentford",
           "Chelsea",
           1
          ],
          [
           "Brentford",
           "West Ham",
           1
          ],
          [
           "Brentford",
           "Liverpool",
           3
          ],
          [
           "Brentford",
           "Wolves",
           0
          ],
          [
           "Brentford",
           "Brighton",
           1
          ],
          [
           "Brentford",
           "Aston Villa",
           1
          ],
          [
           "Brentford",
           "Crystal Palace",
           0
          ],
          [
           "Brentford",
           "Arsenal",
           0
          ]
         ],
         "hovertemplate": "team=%{customdata[0]}<br>passing_short_cmp=%{x}<br>passing_total_cmp=%{y}<br>shooting_standard_gls=%{marker.size}<br>opponent=%{customdata[1]}<br>ga=%{customdata[2]}<extra></extra>",
         "legendgroup": "Brentford",
         "marker": {
          "color": "#FF97FF",
          "size": [
           1,
           2,
           3,
           0,
           0,
           2,
           2,
           4,
           1,
           2,
           3,
           0,
           1,
           0,
           0,
           1,
           1,
           0,
           1,
           2,
           0,
           0,
           2,
           2,
           0,
           1,
           2,
           1,
           1,
           1,
           0,
           2,
           3,
           2,
           0,
           1,
           0,
           2
          ],
          "sizemode": "area",
          "sizeref": 0.0175,
          "symbol": "circle"
         },
         "mode": "markers",
         "name": "Brentford",
         "orientation": "v",
         "showlegend": true,
         "type": "scatter",
         "x": [
          131,
          149,
          106,
          139,
          110,
          134,
          177,
          78,
          134,
          151,
          97,
          86,
          98,
          119,
          81,
          133,
          130,
          95,
          118,
          105,
          56,
          141,
          124,
          95,
          134,
          90,
          98,
          174,
          189,
          134,
          136,
          77,
          88,
          98,
          120,
          105,
          132,
          81
         ],
         "xaxis": "x",
         "y": [
          340,
          521,
          241,
          315,
          324,
          325,
          429,
          215,
          385,
          367,
          236,
          223,
          228,
          284,
          156,
          369,
          304,
          220,
          351,
          320,
          148,
          371,
          388,
          222,
          430,
          257,
          248,
          471,
          418,
          371,
          329,
          199,
          196,
          250,
          272,
          334,
          287,
          207
         ],
         "yaxis": "y"
        },
        {
         "customdata": [
          [
           "Leeds United",
           "Brentford",
           "1"
          ],
          [
           "Leeds United",
           "Brighton",
           "1"
          ],
          [
           "Leeds United",
           "Chelsea",
           "3"
          ],
          [
           "Leeds United",
           "Arsenal",
           "2"
          ],
          [
           "Leeds United",
           "Manchester City",
           "4"
          ],
          [
           "Leeds United",
           "Crystal Palace",
           "0"
          ],
          [
           "Leeds United",
           "Watford",
           "0"
          ],
          [
           "Leeds United",
           "Southampton",
           "1"
          ],
          [
           "Leeds United",
           "Wolves",
           "2"
          ],
          [
           "Leeds United",
           "Norwich City",
           "1"
          ],
          [
           "Leeds United",
           "Aston Villa",
           "3"
          ],
          [
           "Leeds United",
           "Leicester City",
           "1"
          ],
          [
           "Leeds United",
           "Tottenham",
           "4"
          ],
          [
           "Leeds United",
           "Liverpool",
           "6"
          ],
          [
           "Leeds United",
           "Manchester Utd",
           "4"
          ],
          [
           "Leeds United",
           "Everton",
           "3"
          ],
          [
           "Leeds United",
           "Aston Villa",
           "3"
          ],
          [
           "Leeds United",
           "Newcastle Utd",
           "1"
          ],
          [
           "Leeds United",
           "West Ham",
           "2"
          ],
          [
           "Leeds United",
           "Burnley",
           "1"
          ],
          [
           "Leeds United",
           "Arsenal",
           "4"
          ],
          [
           "Leeds United",
           "Manchester City",
           "7"
          ],
          [
           "Leeds United",
           "Chelsea",
           "3"
          ],
          [
           "Leeds United",
           "Brentford",
           "2"
          ],
          [
           "Leeds United",
           "Crystal Palace",
           "0"
          ],
          [
           "Leeds United",
           "Brighton",
           "0"
          ],
          [
           "Leeds United",
           "Tottenham",
           "2"
          ],
          [
           "Leeds United",
           "Leicester City",
           "1"
          ],
          [
           "Leeds United",
           "Norwich City",
           "1"
          ],
          [
           "Leeds United",
           "Wolves",
           "1"
          ],
          [
           "Leeds United",
           "Southampton",
           "1"
          ],
          [
           "Leeds United",
           "Watford",
           "0"
          ],
          [
           "Leeds United",
           "West Ham",
           "2"
          ],
          [
           "Leeds United",
           "Newcastle Utd",
           "1"
          ],
          [
           "Leeds United",
           "Liverpool",
           "3"
          ],
          [
           "Leeds United",
           "Burnley",
           "1"
          ],
          [
           "Leeds United",
           "Everton",
           "2"
          ],
          [
           "Leeds United",
           "Manchester Utd",
           "5"
          ]
         ],
         "hovertemplate": "team=%{customdata[0]}<br>passing_short_cmp=%{x}<br>passing_total_cmp=%{y}<br>shooting_standard_gls=%{marker.size}<br>opponent=%{customdata[1]}<br>ga=%{customdata[2]}<extra></extra>",
         "legendgroup": "Leeds United",
         "marker": {
          "color": "#FECB52",
          "size": [
           2,
           1,
           0,
           1,
           0,
           0,
           3,
           1,
           3,
           2,
           0,
           0,
           0,
           0,
           2,
           0,
           3,
           0,
           3,
           3,
           1,
           0,
           2,
           2,
           1,
           0,
           1,
           1,
           2,
           1,
           0,
           1,
           1,
           1,
           0,
           1,
           2,
           1
          ],
          "sizemode": "area",
          "sizeref": 0.0175,
          "symbol": "circle"
         },
         "mode": "markers",
         "name": "Leeds United",
         "orientation": "v",
         "showlegend": true,
         "type": "scatter",
         "x": [
          154,
          116,
          148,
          132,
          154,
          128,
          121,
          161,
          158,
          157,
          149,
          151,
          142,
          110,
          143,
          166,
          145,
          142,
          155,
          127,
          145,
          107,
          107,
          188,
          154,
          127,
          163,
          151,
          113,
          155,
          138,
          155,
          140,
          199,
          122,
          168,
          214,
          130
         ],
         "xaxis": "x",
         "y": [
          344,
          308,
          330,
          286,
          341,
          308,
          296,
          368,
          377,
          351,
          349,
          389,
          392,
          280,
          338,
          421,
          413,
          405,
          351,
          291,
          344,
          285,
          248,
          440,
          397,
          277,
          452,
          376,
          289,
          438,
          364,
          434,
          357,
          493,
          336,
          456,
          546,
          360
         ],
         "yaxis": "y"
        },
        {
         "customdata": [
          [
           "Crystal Palace",
           "Manchester Utd",
           0
          ],
          [
           "Crystal Palace",
           "Everton",
           3
          ],
          [
           "Crystal Palace",
           "Aston Villa",
           1
          ],
          [
           "Crystal Palace",
           "Watford",
           0
          ],
          [
           "Crystal Palace",
           "Southampton",
           1
          ],
          [
           "Crystal Palace",
           "Leeds United",
           0
          ],
          [
           "Crystal Palace",
           "Newcastle Utd",
           1
          ],
          [
           "Crystal Palace",
           "Leicester City",
           2
          ],
          [
           "Crystal Palace",
           "Arsenal",
           0
          ],
          [
           "Crystal Palace",
           "Manchester City",
           0
          ],
          [
           "Crystal Palace",
           "Wolves",
           0
          ],
          [
           "Crystal Palace",
           "Burnley",
           1
          ],
          [
           "Crystal Palace",
           "Watford",
           1
          ],
          [
           "Crystal Palace",
           "Chelsea",
           1
          ],
          [
           "Crystal Palace",
           "Brentford",
           0
          ],
          [
           "Crystal Palace",
           "Norwich City",
           1
          ],
          [
           "Crystal Palace",
           "Liverpool",
           3
          ],
          [
           "Crystal Palace",
           "Brighton",
           1
          ],
          [
           "Crystal Palace",
           "West Ham",
           3
          ],
          [
           "Crystal Palace",
           "Norwich City",
           0
          ],
          [
           "Crystal Palace",
           "Tottenham",
           3
          ],
          [
           "Crystal Palace",
           "Southampton",
           2
          ],
          [
           "Crystal Palace",
           "Everton",
           1
          ],
          [
           "Crystal Palace",
           "Manchester Utd",
           1
          ],
          [
           "Crystal Palace",
           "Leeds United",
           1
          ],
          [
           "Crystal Palace",
           "Aston Villa",
           2
          ],
          [
           "Crystal Palace",
           "Burnley",
           3
          ],
          [
           "Crystal Palace",
           "Wolves",
           0
          ],
          [
           "Crystal Palace",
           "Manchester City",
           0
          ],
          [
           "Crystal Palace",
           "Newcastle Utd",
           1
          ],
          [
           "Crystal Palace",
           "Arsenal",
           2
          ],
          [
           "Crystal Palace",
           "Leicester City",
           2
          ],
          [
           "Crystal Palace",
           "Brighton",
           1
          ],
          [
           "Crystal Palace",
           "Liverpool",
           3
          ],
          [
           "Crystal Palace",
           "Tottenham",
           0
          ],
          [
           "Crystal Palace",
           "West Ham",
           2
          ],
          [
           "Crystal Palace",
           "Brentford",
           0
          ],
          [
           "Crystal Palace",
           "Chelsea",
           3
          ]
         ],
         "hovertemplate": "team=%{customdata[0]}<br>passing_short_cmp=%{x}<br>passing_total_cmp=%{y}<br>shooting_standard_gls=%{marker.size}<br>opponent=%{customdata[1]}<br>ga=%{customdata[2]}<extra></extra>",
         "legendgroup": "Crystal Palace",
         "marker": {
          "color": "#636efa",
          "size": [
           1,
           2,
           1,
           1,
           2,
           0,
           0,
           1,
           3,
           0,
           2,
           1,
           4,
           0,
           0,
           1,
           1,
           1,
           2,
           3,
           0,
           2,
           3,
           0,
           0,
           1,
           3,
           2,
           2,
           1,
           2,
           2,
           1,
           0,
           3,
           2,
           0,
           0
          ],
          "sizemode": "area",
          "sizeref": 0.0175,
          "symbol": "circle"
         },
         "mode": "markers",
         "name": "Crystal Palace",
         "orientation": "v",
         "showlegend": true,
         "type": "scatter",
         "x": [
          92,
          128,
          140,
          162,
          172,
          143,
          234,
          156,
          95,
          71,
          104,
          176,
          168,
          109,
          175,
          226,
          136,
          106,
          167,
          109,
          146,
          143,
          129,
          118,
          99,
          167,
          186,
          193,
          81,
          256,
          149,
          175,
          217,
          104,
          176,
          170,
          139,
          152
         ],
         "xaxis": "x",
         "y": [
          267,
          379,
          422,
          481,
          470,
          381,
          525,
          438,
          230,
          191,
          246,
          416,
          483,
          304,
          422,
          584,
          349,
          255,
          507,
          338,
          353,
          365,
          424,
          256,
          224,
          525,
          435,
          488,
          249,
          611,
          417,
          474,
          436,
          267,
          428,
          413,
          356,
          371
         ],
         "yaxis": "y"
        },
        {
         "customdata": [
          [
           "Chelsea",
           "Watford",
           "1"
          ],
          [
           "Chelsea",
           "Leicester City",
           "1"
          ],
          [
           "Chelsea",
           "Leeds United",
           "0"
          ],
          [
           "Chelsea",
           "Wolves",
           "2"
          ],
          [
           "Chelsea",
           "Everton",
           "1"
          ],
          [
           "Chelsea",
           "Manchester Utd",
           "1"
          ],
          [
           "Chelsea",
           "West Ham",
           "0"
          ],
          [
           "Chelsea",
           "Arsenal",
           "4"
          ],
          [
           "Chelsea",
           "Southampton",
           "0"
          ],
          [
           "Chelsea",
           "Brentford",
           "4"
          ],
          [
           "Chelsea",
           "Newcastle Utd",
           "0"
          ],
          [
           "Chelsea",
           "Norwich City",
           "1"
          ],
          [
           "Chelsea",
           "Burnley",
           "0"
          ],
          [
           "Chelsea",
           "Crystal Palace",
           "0"
          ],
          [
           "Chelsea",
           "Tottenham",
           "0"
          ],
          [
           "Chelsea",
           "Brighton",
           "1"
          ],
          [
           "Chelsea",
           "Manchester City",
           "1"
          ],
          [
           "Chelsea",
           "Liverpool",
           "2"
          ],
          [
           "Chelsea",
           "Brighton",
           "1"
          ],
          [
           "Chelsea",
           "Aston Villa",
           "1"
          ],
          [
           "Chelsea",
           "Wolves",
           "0"
          ],
          [
           "Chelsea",
           "Everton",
           "1"
          ],
          [
           "Chelsea",
           "Leeds United",
           "2"
          ],
          [
           "Chelsea",
           "West Ham",
           "3"
          ],
          [
           "Chelsea",
           "Watford",
           "1"
          ],
          [
           "Chelsea",
           "Manchester Utd",
           "1"
          ],
          [
           "Chelsea",
           "Leicester City",
           "0"
          ],
          [
           "Chelsea",
           "Burnley",
           "1"
          ],
          [
           "Chelsea",
           "Newcastle Utd",
           "0"
          ],
          [
           "Chelsea",
           "Norwich City",
           "0"
          ],
          [
           "Chelsea",
           "Brentford",
           "0"
          ],
          [
           "Chelsea",
           "Southampton",
           "1"
          ],
          [
           "Chelsea",
           "Manchester City",
           "1"
          ],
          [
           "Chelsea",
           "Tottenham",
           "0"
          ],
          [
           "Chelsea",
           "Aston Villa",
           "0"
          ],
          [
           "Chelsea",
           "Liverpool",
           "1"
          ],
          [
           "Chelsea",
           "Arsenal",
           "0"
          ],
          [
           "Chelsea",
           "Crystal Palace",
           "0"
          ]
         ],
         "hovertemplate": "team=%{customdata[0]}<br>passing_short_cmp=%{x}<br>passing_total_cmp=%{y}<br>shooting_standard_gls=%{marker.size}<br>opponent=%{customdata[1]}<br>ga=%{customdata[2]}<extra></extra>",
         "legendgroup": "Chelsea",
         "marker": {
          "color": "#EF553B",
          "size": [
           2,
           1,
           3,
           2,
           0,
           1,
           1,
           2,
           6,
           1,
           1,
           3,
           4,
           1,
           2,
           1,
           0,
           2,
           1,
           3,
           0,
           1,
           3,
           2,
           2,
           1,
           3,
           1,
           3,
           6,
           1,
           3,
           0,
           3,
           3,
           1,
           2,
           3
          ],
          "sizemode": "area",
          "sizeref": 0.0175,
          "symbol": "circle"
         },
         "mode": "markers",
         "name": "Chelsea",
         "orientation": "v",
         "showlegend": true,
         "type": "scatter",
         "x": [
          327,
          326,
          347,
          183,
          254,
          266,
          263,
          262,
          304,
          279,
          200,
          301,
          342,
          178,
          194,
          213,
          193,
          196,
          172,
          189,
          304,
          332,
          151,
          228,
          135,
          201,
          236,
          255,
          320,
          279,
          211,
          206,
          124,
          177,
          178,
          133,
          271,
          280
         ],
         "xaxis": "x",
         "y": [
          685,
          735,
          748,
          432,
          663,
          570,
          642,
          615,
          669,
          606,
          493,
          666,
          725,
          461,
          545,
          525,
          403,
          478,
          365,
          563,
          665,
          738,
          377,
          520,
          312,
          532,
          541,
          596,
          697,
          583,
          472,
          502,
          346,
          472,
          416,
          286,
          597,
          637
         ],
         "yaxis": "y"
        },
        {
         "customdata": [
          [
           "Newcastle United",
           "Burnley",
           "1"
          ],
          [
           "Newcastle United",
           "Arsenal",
           "0"
          ],
          [
           "Newcastle United",
           "Manchester City",
           "5"
          ],
          [
           "Newcastle United",
           "Liverpool",
           "1"
          ],
          [
           "Newcastle United",
           "Norwich City",
           "0"
          ],
          [
           "Newcastle United",
           "Crystal Palace",
           "0"
          ],
          [
           "Newcastle United",
           "Leicester City",
           "1"
          ],
          [
           "Newcastle United",
           "Wolves",
           "0"
          ],
          [
           "Newcastle United",
           "Tottenham",
           "5"
          ],
          [
           "Newcastle United",
           "Everton",
           "1"
          ],
          [
           "Newcastle United",
           "Chelsea",
           "1"
          ],
          [
           "Newcastle United",
           "Southampton",
           "1"
          ],
          [
           "Newcastle United",
           "Brighton",
           "1"
          ],
          [
           "Newcastle United",
           "Brentford",
           "0"
          ],
          [
           "Newcastle United",
           "West Ham",
           "1"
          ],
          [
           "Newcastle United",
           "Aston Villa",
           "0"
          ],
          [
           "Newcastle United",
           "Everton",
           "1"
          ],
          [
           "Newcastle United",
           "Leeds United",
           "0"
          ],
          [
           "Newcastle United",
           "Watford",
           "1"
          ],
          [
           "Newcastle United",
           "Manchester Utd",
           "1"
          ],
          [
           "Newcastle United",
           "Manchester City",
           "4"
          ],
          [
           "Newcastle United",
           "Liverpool",
           "3"
          ],
          [
           "Newcastle United",
           "Leicester City",
           "4"
          ],
          [
           "Newcastle United",
           "Burnley",
           "0"
          ],
          [
           "Newcastle United",
           "Norwich City",
           "1"
          ],
          [
           "Newcastle United",
           "Arsenal",
           "2"
          ],
          [
           "Newcastle United",
           "Brentford",
           "3"
          ],
          [
           "Newcastle United",
           "Brighton",
           "1"
          ],
          [
           "Newcastle United",
           "Chelsea",
           "3"
          ],
          [
           "Newcastle United",
           "Crystal Palace",
           "1"
          ],
          [
           "Newcastle United",
           "Tottenham",
           "3"
          ],
          [
           "Newcastle United",
           "Wolves",
           "2"
          ],
          [
           "Newcastle United",
           "Watford",
           "1"
          ],
          [
           "Newcastle United",
           "Leeds United",
           "1"
          ],
          [
           "Newcastle United",
           "Manchester Utd",
           "4"
          ],
          [
           "Newcastle United",
           "Southampton",
           "2"
          ],
          [
           "Newcastle United",
           "Aston Villa",
           "2"
          ],
          [
           "Newcastle United",
           "West Ham",
           "4"
          ]
         ],
         "hovertemplate": "team=%{customdata[0]}<br>passing_short_cmp=%{x}<br>passing_total_cmp=%{y}<br>shooting_standard_gls=%{marker.size}<br>opponent=%{customdata[1]}<br>ga=%{customdata[2]}<extra></extra>",
         "legendgroup": "Newcastle United",
         "marker": {
          "color": "#00cc96",
          "size": [
           2,
           1,
           0,
           0,
           3,
           1,
           2,
           1,
           1,
           0,
           0,
           2,
           2,
           2,
           1,
           1,
           2,
           1,
           1,
           1,
           0,
           1,
           0,
           1,
           1,
           0,
           3,
           1,
           0,
           1,
           1,
           1,
           1,
           1,
           1,
           2,
           0,
           2
          ],
          "sizemode": "area",
          "sizeref": 0.0175,
          "symbol": "circle"
         },
         "mode": "markers",
         "name": "Newcastle United",
         "orientation": "v",
         "showlegend": true,
         "type": "scatter",
         "x": [
          122,
          119,
          103,
          98,
          222,
          121,
          81,
          124,
          110,
          157,
          65,
          107,
          93,
          190,
          126,
          75,
          86,
          79,
          137,
          91,
          71,
          63,
          124,
          98,
          78,
          107,
          117,
          124,
          60,
          65,
          123,
          157,
          115,
          97,
          121,
          85,
          93,
          140
         ],
         "xaxis": "x",
         "y": [
          267,
          293,
          231,
          209,
          456,
          275,
          196,
          339,
          326,
          375,
          145,
          237,
          210,
          452,
          365,
          183,
          219,
          205,
          359,
          194,
          230,
          161,
          358,
          241,
          205,
          277,
          296,
          281,
          145,
          156,
          292,
          357,
          274,
          229,
          305,
          219,
          286,
          363
         ],
         "yaxis": "y"
        },
        {
         "customdata": [
          [
           "Wolverhampton Wanderers",
           "Liverpool",
           "3"
          ],
          [
           "Wolverhampton Wanderers",
           "Norwich City",
           "1"
          ],
          [
           "Wolverhampton Wanderers",
           "Manchester City",
           "5"
          ],
          [
           "Wolverhampton Wanderers",
           "Chelsea",
           "2"
          ],
          [
           "Wolverhampton Wanderers",
           "Brighton",
           "3"
          ],
          [
           "Wolverhampton Wanderers",
           "Burnley",
           "1"
          ],
          [
           "Wolverhampton Wanderers",
           "Newcastle Utd",
           "1"
          ],
          [
           "Wolverhampton Wanderers",
           "Aston Villa",
           "1"
          ],
          [
           "Wolverhampton Wanderers",
           "Leeds United",
           "3"
          ],
          [
           "Wolverhampton Wanderers",
           "Everton",
           "0"
          ],
          [
           "Wolverhampton Wanderers",
           "Watford",
           "0"
          ],
          [
           "Wolverhampton Wanderers",
           "Crystal Palace",
           "2"
          ],
          [
           "Wolverhampton Wanderers",
           "West Ham",
           "1"
          ],
          [
           "Wolverhampton Wanderers",
           "Arsenal",
           "2"
          ],
          [
           "Wolverhampton Wanderers",
           "Leicester City",
           "1"
          ],
          [
           "Wolverhampton Wanderers",
           "Tottenham",
           "0"
          ],
          [
           "Wolverhampton Wanderers",
           "Arsenal",
           "1"
          ],
          [
           "Wolverhampton Wanderers",
           "Brentford",
           "1"
          ],
          [
           "Wolverhampton Wanderers",
           "Southampton",
           "1"
          ],
          [
           "Wolverhampton Wanderers",
           "Manchester Utd",
           "0"
          ],
          [
           "Wolverhampton Wanderers",
           "Chelsea",
           "0"
          ],
          [
           "Wolverhampton Wanderers",
           "Brighton",
           "0"
          ],
          [
           "Wolverhampton Wanderers",
           "Manchester City",
           "1"
          ],
          [
           "Wolverhampton Wanderers",
           "Liverpool",
           "1"
          ],
          [
           "Wolverhampton Wanderers",
           "Burnley",
           "0"
          ],
          [
           "Wolverhampton Wanderers",
           "Norwich City",
           "0"
          ],
          [
           "Wolverhampton Wanderers",
           "West Ham",
           "0"
          ],
          [
           "Wolverhampton Wanderers",
           "Crystal Palace",
           "2"
          ],
          [
           "Wolverhampton Wanderers",
           "Everton",
           "1"
          ],
          [
           "Wolverhampton Wanderers",
           "Leeds United",
           "1"
          ],
          [
           "Wolverhampton Wanderers",
           "Aston Villa",
           "2"
          ],
          [
           "Wolverhampton Wanderers",
           "Newcastle Utd",
           "1"
          ],
          [
           "Wolverhampton Wanderers",
           "Southampton",
           "0"
          ],
          [
           "Wolverhampton Wanderers",
           "Brentford",
           "2"
          ],
          [
           "Wolverhampton Wanderers",
           "Watford",
           "0"
          ],
          [
           "Wolverhampton Wanderers",
           "Manchester Utd",
           "1"
          ],
          [
           "Wolverhampton Wanderers",
           "Tottenham",
           "1"
          ],
          [
           "Wolverhampton Wanderers",
           "Leicester City",
           "1"
          ]
         ],
         "hovertemplate": "team=%{customdata[0]}<br>passing_short_cmp=%{x}<br>passing_total_cmp=%{y}<br>shooting_standard_gls=%{marker.size}<br>opponent=%{customdata[1]}<br>ga=%{customdata[2]}<extra></extra>",
         "legendgroup": "Wolverhampton Wanderers",
         "marker": {
          "color": "#ab63fa",
          "size": [
           1,
           1,
           1,
           2,
           0,
           0,
           0,
           1,
           2,
           1,
           3,
           0,
           0,
           1,
           2,
           2,
           0,
           2,
           3,
           1,
           0,
           1,
           0,
           0,
           0,
           0,
           1,
           0,
           2,
           1,
           3,
           2,
           1,
           0,
           1,
           0,
           0,
           0
          ],
          "sizemode": "area",
          "sizeref": 0.0175,
          "symbol": "circle"
         },
         "mode": "markers",
         "name": "Wolverhampton Wanderers",
         "orientation": "v",
         "showlegend": true,
         "type": "scatter",
         "x": [
          115,
          189,
          107,
          124,
          176,
          214,
          173,
          136,
          132,
          193,
          213,
          171,
          202,
          142,
          83,
          125,
          146,
          174,
          98,
          152,
          125,
          115,
          91,
          108,
          202,
          196,
          180,
          123,
          181,
          79,
          134,
          142,
          114,
          150,
          162,
          145,
          144,
          110
         ],
         "xaxis": "x",
         "y": [
          348,
          542,
          322,
          280,
          389,
          516,
          485,
          362,
          340,
          535,
          624,
          482,
          553,
          331,
          256,
          324,
          437,
          391,
          248,
          409,
          356,
          308,
          247,
          254,
          502,
          530,
          468,
          286,
          541,
          220,
          348,
          417,
          300,
          461,
          447,
          363,
          422,
          380
         ],
         "yaxis": "y"
        },
        {
         "customdata": [
          [
           "Leicester City",
           "Southampton",
           "1"
          ],
          [
           "Leicester City",
           "Chelsea",
           "1"
          ],
          [
           "Leicester City",
           "Watford",
           "1"
          ],
          [
           "Leicester City",
           "Norwich City",
           "0"
          ],
          [
           "Leicester City",
           "Everton",
           "2"
          ],
          [
           "Leicester City",
           "Tottenham",
           "3"
          ],
          [
           "Leicester City",
           "Aston Villa",
           "0"
          ],
          [
           "Leicester City",
           "Everton",
           "1"
          ],
          [
           "Leicester City",
           "Newcastle Utd",
           "2"
          ],
          [
           "Leicester City",
           "Crystal Palace",
           "1"
          ],
          [
           "Leicester City",
           "Manchester Utd",
           "1"
          ],
          [
           "Leicester City",
           "Brentford",
           "1"
          ],
          [
           "Leicester City",
           "Arsenal",
           "2"
          ],
          [
           "Leicester City",
           "Leeds United",
           "0"
          ],
          [
           "Leicester City",
           "Burnley",
           "0"
          ],
          [
           "Leicester City",
           "Wolves",
           "2"
          ],
          [
           "Leicester City",
           "West Ham",
           "2"
          ],
          [
           "Leicester City",
           "Liverpool",
           "2"
          ],
          [
           "Leicester City",
           "Brighton",
           "1"
          ],
          [
           "Leicester City",
           "Tottenham",
           "3"
          ],
          [
           "Leicester City",
           "Liverpool",
           "0"
          ],
          [
           "Leicester City",
           "Manchester City",
           "6"
          ],
          [
           "Leicester City",
           "Newcastle Utd",
           "0"
          ],
          [
           "Leicester City",
           "Aston Villa",
           "2"
          ],
          [
           "Leicester City",
           "Southampton",
           "2"
          ],
          [
           "Leicester City",
           "Watford",
           "2"
          ],
          [
           "Leicester City",
           "Chelsea",
           "3"
          ],
          [
           "Leicester City",
           "Leeds United",
           "1"
          ],
          [
           "Leicester City",
           "Arsenal",
           "2"
          ],
          [
           "Leicester City",
           "Brentford",
           "1"
          ],
          [
           "Leicester City",
           "Manchester Utd",
           "2"
          ],
          [
           "Leicester City",
           "Crystal Palace",
           "2"
          ],
          [
           "Leicester City",
           "Burnley",
           "2"
          ],
          [
           "Leicester City",
           "Brighton",
           "2"
          ],
          [
           "Leicester City",
           "Manchester City",
           "1"
          ],
          [
           "Leicester City",
           "Norwich City",
           "1"
          ],
          [
           "Leicester City",
           "West Ham",
           "4"
          ],
          [
           "Leicester City",
           "Wolves",
           "0"
          ]
         ],
         "hovertemplate": "team=%{customdata[0]}<br>passing_short_cmp=%{x}<br>passing_total_cmp=%{y}<br>shooting_standard_gls=%{marker.size}<br>opponent=%{customdata[1]}<br>ga=%{customdata[2]}<extra></extra>",
         "legendgroup": "Leicester City",
         "marker": {
          "color": "#FFA15A",
          "size": [
           4,
           1,
           5,
           3,
           1,
           1,
           0,
           1,
           1,
           2,
           1,
           2,
           0,
           1,
           2,
           1,
           2,
           0,
           1,
           2,
           1,
           3,
           4,
           1,
           2,
           4,
           0,
           1,
           0,
           2,
           4,
           2,
           2,
           1,
           0,
           2,
           1,
           1
          ],
          "sizemode": "area",
          "sizeref": 0.0175,
          "symbol": "circle"
         },
         "mode": "markers",
         "name": "Leicester City",
         "orientation": "v",
         "showlegend": true,
         "type": "scatter",
         "x": [
          149,
          126,
          172,
          217,
          193,
          173,
          166,
          227,
          210,
          178,
          184,
          190,
          243,
          178,
          158,
          251,
          223,
          130,
          180,
          196,
          142,
          107,
          155,
          211,
          145,
          136,
          139,
          119,
          200,
          111,
          169,
          111,
          241,
          202,
          115,
          163,
          133,
          186
         ],
         "xaxis": "x",
         "y": [
          360,
          301,
          480,
          578,
          577,
          569,
          460,
          539,
          510,
          439,
          432,
          452,
          511,
          397,
          339,
          514,
          481,
          284,
          366,
          488,
          289,
          260,
          335,
          461,
          372,
          308,
          304,
          273,
          562,
          301,
          427,
          276,
          528,
          504,
          313,
          375,
          418,
          528
         ],
         "yaxis": "y"
        },
        {
         "customdata": [
          [
           "Brighton and Hove Albion",
           "West Ham",
           "1"
          ],
          [
           "Brighton and Hove Albion",
           "Leeds United",
           "1"
          ],
          [
           "Brighton and Hove Albion",
           "Manchester Utd",
           "0"
          ],
          [
           "Brighton and Hove Albion",
           "Wolves",
           "0"
          ],
          [
           "Brighton and Hove Albion",
           "Southampton",
           "2"
          ],
          [
           "Brighton and Hove Albion",
           "Manchester City",
           "3"
          ],
          [
           "Brighton and Hove Albion",
           "Tottenham",
           "0"
          ],
          [
           "Brighton and Hove Albion",
           "Arsenal",
           "1"
          ],
          [
           "Brighton and Hove Albion",
           "Norwich City",
           "0"
          ],
          [
           "Brighton and Hove Albion",
           "Tottenham",
           "2"
          ],
          [
           "Brighton and Hove Albion",
           "Liverpool",
           "2"
          ],
          [
           "Brighton and Hove Albion",
           "Newcastle Utd",
           "2"
          ],
          [
           "Brighton and Hove Albion",
           "Aston Villa",
           "2"
          ],
          [
           "Brighton and Hove Albion",
           "Burnley",
           "3"
          ],
          [
           "Brighton and Hove Albion",
           "Manchester Utd",
           "2"
          ],
          [
           "Brighton and Hove Albion",
           "Watford",
           "0"
          ],
          [
           "Brighton and Hove Albion",
           "Leicester City",
           "1"
          ],
          [
           "Brighton and Hove Albion",
           "Chelsea",
           "1"
          ],
          [
           "Brighton and Hove Albion",
           "Crystal Palace",
           "1"
          ],
          [
           "Brighton and Hove Albion",
           "Everton",
           "2"
          ],
          [
           "Brighton and Hove Albion",
           "Chelsea",
           "1"
          ],
          [
           "Brighton and Hove Albion",
           "Brentford",
           "0"
          ],
          [
           "Brighton and Hove Albion",
           "Wolves",
           "1"
          ],
          [
           "Brighton and Hove Albion",
           "Southampton",
           "1"
          ],
          [
           "Brighton and Hove Albion",
           "West Ham",
           "1"
          ],
          [
           "Brighton and Hove Albion",
           "Leeds United",
           "0"
          ],
          [
           "Brighton and Hove Albion",
           "Aston Villa",
           "2"
          ],
          [
           "Brighton and Hove Albion",
           "Newcastle Utd",
           "1"
          ],
          [
           "Brighton and Hove Albion",
           "Liverpool",
           "2"
          ],
          [
           "Brighton and Hove Albion",
           "Manchester City",
           "4"
          ],
          [
           "Brighton and Hove Albion",
           "Norwich City",
           "0"
          ],
          [
           "Brighton and Hove Albion",
           "Arsenal",
           "0"
          ],
          [
           "Brighton and Hove Albion",
           "Crystal Palace",
           "1"
          ],
          [
           "Brighton and Hove Albion",
           "Leicester City",
           "1"
          ],
          [
           "Brighton and Hove Albion",
           "Brentford",
           "0"
          ],
          [
           "Brighton and Hove Albion",
           "Everton",
           "2"
          ],
          [
           "Brighton and Hove Albion",
           "Watford",
           "0"
          ],
          [
           "Brighton and Hove Albion",
           "Burnley",
           "1"
          ]
         ],
         "hovertemplate": "team=%{customdata[0]}<br>passing_short_cmp=%{x}<br>passing_total_cmp=%{y}<br>shooting_standard_gls=%{marker.size}<br>opponent=%{customdata[1]}<br>ga=%{customdata[2]}<extra></extra>",
         "legendgroup": "Brighton and Hove Albion",
         "marker": {
          "color": "#19d3f3",
          "size": [
           3,
           1,
           4,
           3,
           1,
           0,
           1,
           2,
           0,
           0,
           0,
           1,
           0,
           0,
           0,
           2,
           1,
           1,
           0,
           3,
           1,
           2,
           0,
           1,
           1,
           0,
           0,
           1,
           2,
           1,
           0,
           0,
           1,
           2,
           1,
           0,
           2,
           2
          ],
          "sizemode": "area",
          "sizeref": 0.0175,
          "symbol": "circle"
         },
         "mode": "markers",
         "name": "Brighton and Hove Albion",
         "orientation": "v",
         "showlegend": true,
         "type": "scatter",
         "x": [
          186,
          132,
          116,
          187,
          98,
          94,
          183,
          105,
          192,
          168,
          152,
          209,
          166,
          193,
          202,
          196,
          192,
          163,
          171,
          138,
          158,
          175,
          206,
          145,
          205,
          162,
          180,
          267,
          159,
          163,
          186,
          165,
          196,
          116,
          181,
          183,
          183,
          166
         ],
         "xaxis": "x",
         "y": [
          436,
          328,
          310,
          423,
          257,
          277,
          445,
          228,
          427,
          438,
          370,
          553,
          522,
          518,
          455,
          502,
          497,
          381,
          496,
          329,
          391,
          394,
          475,
          324,
          499,
          418,
          561,
          615,
          385,
          434,
          495,
          446,
          491,
          276,
          421,
          550,
          513,
          462
         ],
         "yaxis": "y"
        },
        {
         "customdata": [
          [
           "Manchester United",
           "Crystal Palace",
           "1"
          ],
          [
           "Manchester United",
           "Brighton",
           "4"
          ],
          [
           "Manchester United",
           "Brentford",
           "0"
          ],
          [
           "Manchester United",
           "Chelsea",
           "1"
          ],
          [
           "Manchester United",
           "Arsenal",
           "3"
          ],
          [
           "Manchester United",
           "Liverpool",
           "4"
          ],
          [
           "Manchester United",
           "Norwich City",
           "2"
          ],
          [
           "Manchester United",
           "Everton",
           "1"
          ],
          [
           "Manchester United",
           "Leicester City",
           "1"
          ],
          [
           "Manchester United",
           "Tottenham",
           "2"
          ],
          [
           "Manchester United",
           "Manchester City",
           "4"
          ],
          [
           "Manchester United",
           "Watford",
           "0"
          ],
          [
           "Manchester United",
           "Leeds United",
           "2"
          ],
          [
           "Manchester United",
           "Brighton",
           "0"
          ],
          [
           "Manchester United",
           "Southampton",
           "1"
          ],
          [
           "Manchester United",
           "Burnley",
           "1"
          ],
          [
           "Manchester United",
           "West Ham",
           "0"
          ],
          [
           "Manchester United",
           "Brentford",
           "1"
          ],
          [
           "Manchester United",
           "Aston Villa",
           "2"
          ],
          [
           "Manchester United",
           "Wolves",
           "1"
          ],
          [
           "Manchester United",
           "Burnley",
           "1"
          ],
          [
           "Manchester United",
           "Newcastle Utd",
           "1"
          ],
          [
           "Manchester United",
           "Norwich City",
           "0"
          ],
          [
           "Manchester United",
           "Crystal Palace",
           "0"
          ],
          [
           "Manchester United",
           "Arsenal",
           "2"
          ],
          [
           "Manchester United",
           "Chelsea",
           "1"
          ],
          [
           "Manchester United",
           "Watford",
           "4"
          ],
          [
           "Manchester United",
           "Manchester City",
           "2"
          ],
          [
           "Manchester United",
           "Tottenham",
           "0"
          ],
          [
           "Manchester United",
           "Liverpool",
           "5"
          ],
          [
           "Manchester United",
           "Leicester City",
           "4"
          ],
          [
           "Manchester United",
           "Everton",
           "1"
          ],
          [
           "Manchester United",
           "Aston Villa",
           "1"
          ],
          [
           "Manchester United",
           "West Ham",
           "1"
          ],
          [
           "Manchester United",
           "Newcastle Utd",
           "1"
          ],
          [
           "Manchester United",
           "Wolves",
           "0"
          ],
          [
           "Manchester United",
           "Southampton",
           "1"
          ],
          [
           "Manchester United",
           "Leeds United",
           "1"
          ]
         ],
         "hovertemplate": "team=%{customdata[0]}<br>passing_short_cmp=%{x}<br>passing_total_cmp=%{y}<br>shooting_standard_gls=%{marker.size}<br>opponent=%{customdata[1]}<br>ga=%{customdata[2]}<extra></extra>",
         "legendgroup": "Manchester United",
         "marker": {
          "color": "#FF6692",
          "size": [
           0,
           0,
           3,
           1,
           1,
           0,
           3,
           0,
           1,
           3,
           1,
           0,
           4,
           2,
           1,
           1,
           1,
           3,
           2,
           0,
           2,
           1,
           1,
           1,
           3,
           1,
           1,
           0,
           3,
           0,
           2,
           1,
           0,
           2,
           4,
           1,
           1,
           5
          ],
          "sizemode": "area",
          "sizeref": 0.0175,
          "symbol": "circle"
         },
         "mode": "markers",
         "name": "Manchester United",
         "orientation": "v",
         "showlegend": true,
         "type": "scatter",
         "x": [
          159,
          178,
          338,
          131,
          140,
          123,
          288,
          250,
          193,
          175,
          111,
          249,
          135,
          209,
          136,
          225,
          193,
          203,
          134,
          183,
          185,
          180,
          188,
          203,
          145,
          124,
          204,
          147,
          177,
          160,
          202,
          237,
          125,
          280,
          265,
          208,
          184,
          158
         ],
         "xaxis": "x",
         "y": [
          467,
          429,
          669,
          284,
          347,
          273,
          571,
          560,
          521,
          395,
          278,
          612,
          278,
          436,
          396,
          461,
          481,
          424,
          390,
          426,
          400,
          491,
          420,
          480,
          365,
          253,
          450,
          331,
          360,
          343,
          449,
          631,
          334,
          575,
          602,
          481,
          442,
          359
         ],
         "yaxis": "y"
        },
        {
         "customdata": [
          [
           "Tottenham Hotspur",
           "Norwich City",
           "0"
          ],
          [
           "Tottenham Hotspur",
           "Burnley",
           "0"
          ],
          [
           "Tottenham Hotspur",
           "Arsenal",
           "0"
          ],
          [
           "Tottenham Hotspur",
           "Liverpool",
           "1"
          ],
          [
           "Tottenham Hotspur",
           "Leicester City",
           "1"
          ],
          [
           "Tottenham Hotspur",
           "Brentford",
           "0"
          ],
          [
           "Tottenham Hotspur",
           "Brighton",
           "1"
          ],
          [
           "Tottenham Hotspur",
           "Aston Villa",
           "0"
          ],
          [
           "Tottenham Hotspur",
           "Newcastle Utd",
           "1"
          ],
          [
           "Tottenham Hotspur",
           "West Ham",
           "1"
          ],
          [
           "Tottenham Hotspur",
           "Brighton",
           "0"
          ],
          [
           "Tottenham Hotspur",
           "Manchester Utd",
           "3"
          ],
          [
           "Tottenham Hotspur",
           "Everton",
           "0"
          ],
          [
           "Tottenham Hotspur",
           "Leeds United",
           "0"
          ],
          [
           "Tottenham Hotspur",
           "Burnley",
           "1"
          ],
          [
           "Tottenham Hotspur",
           "Manchester City",
           "2"
          ],
          [
           "Tottenham Hotspur",
           "Wolves",
           "2"
          ],
          [
           "Tottenham Hotspur",
           "Southampton",
           "3"
          ],
          [
           "Tottenham Hotspur",
           "Chelsea",
           "2"
          ],
          [
           "Tottenham Hotspur",
           "Leicester City",
           "2"
          ],
          [
           "Tottenham Hotspur",
           "Watford",
           "0"
          ],
          [
           "Tottenham Hotspur",
           "Southampton",
           "1"
          ],
          [
           "Tottenham Hotspur",
           "Crystal Palace",
           "0"
          ],
          [
           "Tottenham Hotspur",
           "Liverpool",
           "2"
          ],
          [
           "Tottenham Hotspur",
           "Norwich City",
           "0"
          ],
          [
           "Tottenham Hotspur",
           "Brentford",
           "0"
          ],
          [
           "Tottenham Hotspur",
           "Leeds United",
           "1"
          ],
          [
           "Tottenham Hotspur",
           "Everton",
           "0"
          ],
          [
           "Tottenham Hotspur",
           "Manchester Utd",
           "3"
          ],
          [
           "Tottenham Hotspur",
           "West Ham",
           "1"
          ],
          [
           "Tottenham Hotspur",
           "Newcastle Utd",
           "2"
          ],
          [
           "Tottenham Hotspur",
           "Aston Villa",
           "1"
          ],
          [
           "Tottenham Hotspur",
           "Arsenal",
           "3"
          ],
          [
           "Tottenham Hotspur",
           "Chelsea",
           "3"
          ],
          [
           "Tottenham Hotspur",
           "Crystal Palace",
           "3"
          ],
          [
           "Tottenham Hotspur",
           "Watford",
           "0"
          ],
          [
           "Tottenham Hotspur",
           "Wolves",
           "0"
          ],
          [
           "Tottenham Hotspur",
           "Manchester City",
           "0"
          ]
         ],
         "hovertemplate": "team=%{customdata[0]}<br>passing_short_cmp=%{x}<br>passing_total_cmp=%{y}<br>shooting_standard_gls=%{marker.size}<br>opponent=%{customdata[1]}<br>ga=%{customdata[2]}<extra></extra>",
         "legendgroup": "Tottenham Hotspur",
         "marker": {
          "color": "#B6E880",
          "size": [
           5,
           1,
           3,
           1,
           3,
           0,
           0,
           4,
           5,
           2,
           2,
           1,
           4,
           4,
           0,
           3,
           0,
           1,
           0,
           3,
           1,
           1,
           3,
           2,
           3,
           1,
           2,
           0,
           0,
           0,
           3,
           1,
           1,
           0,
           0,
           1,
           1,
           1
          ],
          "sizemode": "area",
          "sizeref": 0.0175,
          "symbol": "circle"
         },
         "mode": "markers",
         "name": "Tottenham Hotspur",
         "orientation": "v",
         "showlegend": true,
         "type": "scatter",
         "x": [
          212,
          210,
          196,
          121,
          116,
          193,
          134,
          184,
          196,
          239,
          243,
          217,
          247,
          161,
          216,
          107,
          205,
          152,
          112,
          188,
          300,
          211,
          223,
          140,
          197,
          162,
          138,
          189,
          228,
          208,
          266,
          174,
          186,
          179,
          106,
          202,
          136,
          99
         ],
         "xaxis": "x",
         "y": [
          556,
          598,
          514,
          285,
          350,
          452,
          403,
          409,
          554,
          555,
          505,
          523,
          591,
          427,
          581,
          258,
          499,
          371,
          267,
          533,
          668,
          492,
          571,
          338,
          404,
          377,
          329,
          486,
          488,
          561,
          542,
          379,
          430,
          406,
          245,
          438,
          289,
          240
         ],
         "yaxis": "y"
        },
        {
         "customdata": [
          [
           "Watford",
           "Chelsea",
           2
          ],
          [
           "Watford",
           "Leicester City",
           5
          ],
          [
           "Watford",
           "Everton",
           0
          ],
          [
           "Watford",
           "Crystal Palace",
           1
          ],
          [
           "Watford",
           "Burnley",
           2
          ],
          [
           "Watford",
           "Manchester City",
           5
          ],
          [
           "Watford",
           "Brentford",
           2
          ],
          [
           "Watford",
           "Leeds United",
           3
          ],
          [
           "Watford",
           "Liverpool",
           2
          ],
          [
           "Watford",
           "Southampton",
           1
          ],
          [
           "Watford",
           "Wolves",
           4
          ],
          [
           "Watford",
           "Arsenal",
           3
          ],
          [
           "Watford",
           "Manchester Utd",
           0
          ],
          [
           "Watford",
           "Crystal Palace",
           4
          ],
          [
           "Watford",
           "Aston Villa",
           0
          ],
          [
           "Watford",
           "Brighton",
           2
          ],
          [
           "Watford",
           "West Ham",
           1
          ],
          [
           "Watford",
           "Burnley",
           0
          ],
          [
           "Watford",
           "Norwich City",
           3
          ],
          [
           "Watford",
           "Newcastle Utd",
           1
          ],
          [
           "Watford",
           "Tottenham",
           1
          ],
          [
           "Watford",
           "West Ham",
           4
          ],
          [
           "Watford",
           "Brentford",
           2
          ],
          [
           "Watford",
           "Manchester City",
           3
          ],
          [
           "Watford",
           "Chelsea",
           2
          ],
          [
           "Watford",
           "Leicester City",
           4
          ],
          [
           "Watford",
           "Manchester Utd",
           1
          ],
          [
           "Watford",
           "Arsenal",
           1
          ],
          [
           "Watford",
           "Southampton",
           1
          ],
          [
           "Watford",
           "Everton",
           2
          ],
          [
           "Watford",
           "Liverpool",
           5
          ],
          [
           "Watford",
           "Leeds United",
           1
          ],
          [
           "Watford",
           "Newcastle Utd",
           1
          ],
          [
           "Watford",
           "Norwich City",
           1
          ],
          [
           "Watford",
           "Wolves",
           2
          ],
          [
           "Watford",
           "Tottenham",
           1
          ],
          [
           "Watford",
           "Brighton",
           2
          ],
          [
           "Watford",
           "Aston Villa",
           2
          ]
         ],
         "hovertemplate": "team=%{customdata[0]}<br>passing_short_cmp=%{x}<br>passing_total_cmp=%{y}<br>shooting_standard_gls=%{marker.size}<br>opponent=%{customdata[1]}<br>ga=%{customdata[2]}<extra></extra>",
         "legendgroup": "Watford",
         "marker": {
          "color": "#FF97FF",
          "size": [
           1,
           1,
           0,
           0,
           0,
           1,
           1,
           0,
           0,
           2,
           0,
           2,
           0,
           1,
           1,
           0,
           0,
           0,
           0,
           1,
           0,
           1,
           1,
           1,
           1,
           2,
           4,
           0,
           0,
           5,
           0,
           0,
           1,
           3,
           0,
           0,
           0,
           3
          ],
          "sizemode": "area",
          "sizeref": 0.0175,
          "symbol": "circle"
         },
         "mode": "markers",
         "name": "Watford",
         "orientation": "v",
         "showlegend": true,
         "type": "scatter",
         "x": [
          102,
          113,
          164,
          68,
          120,
          77,
          151,
          148,
          73,
          84,
          113,
          163,
          102,
          138,
          126,
          120,
          105,
          132,
          188,
          128,
          75,
          87,
          86,
          63,
          166,
          79,
          102,
          73,
          77,
          120,
          71,
          65,
          98,
          124,
          89,
          98,
          104,
          83
         ],
         "xaxis": "x",
         "y": [
          221,
          296,
          406,
          193,
          251,
          195,
          331,
          295,
          185,
          218,
          293,
          359,
          256,
          382,
          315,
          247,
          250,
          261,
          465,
          327,
          184,
          249,
          184,
          174,
          306,
          216,
          255,
          244,
          225,
          334,
          171,
          183,
          294,
          336,
          322,
          327,
          383,
          247
         ],
         "yaxis": "y"
        },
        {
         "customdata": [
          [
           "Burnley",
           "Newcastle Utd",
           "2"
          ],
          [
           "Burnley",
           "Aston Villa",
           "1"
          ],
          [
           "Burnley",
           "Tottenham",
           "1"
          ],
          [
           "Burnley",
           "Aston Villa",
           "3"
          ],
          [
           "Burnley",
           "Watford",
           "1"
          ],
          [
           "Burnley",
           "Wolves",
           "0"
          ],
          [
           "Burnley",
           "Southampton",
           "0"
          ],
          [
           "Burnley",
           "West Ham",
           "1"
          ],
          [
           "Burnley",
           "Norwich City",
           "2"
          ],
          [
           "Burnley",
           "Everton",
           "2"
          ],
          [
           "Burnley",
           "Manchester City",
           "2"
          ],
          [
           "Burnley",
           "Brentford",
           "2"
          ],
          [
           "Burnley",
           "Chelsea",
           "4"
          ],
          [
           "Burnley",
           "Leicester City",
           "2"
          ],
          [
           "Burnley",
           "Crystal Palace",
           "1"
          ],
          [
           "Burnley",
           "Tottenham",
           "0"
          ],
          [
           "Burnley",
           "Brighton",
           "0"
          ],
          [
           "Burnley",
           "Liverpool",
           "1"
          ],
          [
           "Burnley",
           "Manchester Utd",
           "1"
          ],
          [
           "Burnley",
           "Watford",
           "0"
          ],
          [
           "Burnley",
           "Arsenal",
           "0"
          ],
          [
           "Burnley",
           "Leeds United",
           "3"
          ],
          [
           "Burnley",
           "Manchester Utd",
           "3"
          ],
          [
           "Burnley",
           "West Ham",
           "0"
          ],
          [
           "Burnley",
           "Newcastle Utd",
           "1"
          ],
          [
           "Burnley",
           "Wolves",
           "0"
          ],
          [
           "Burnley",
           "Crystal Palace",
           "3"
          ],
          [
           "Burnley",
           "Chelsea",
           "1"
          ],
          [
           "Burnley",
           "Brentford",
           "1"
          ],
          [
           "Burnley",
           "Southampton",
           "2"
          ],
          [
           "Burnley",
           "Manchester City",
           "2"
          ],
          [
           "Burnley",
           "Norwich City",
           "0"
          ],
          [
           "Burnley",
           "Leicester City",
           "2"
          ],
          [
           "Burnley",
           "Arsenal",
           "1"
          ],
          [
           "Burnley",
           "Everton",
           "3"
          ],
          [
           "Burnley",
           "Leeds United",
           "1"
          ],
          [
           "Burnley",
           "Liverpool",
           "2"
          ],
          [
           "Burnley",
           "Brighton",
           "2"
          ]
         ],
         "hovertemplate": "team=%{customdata[0]}<br>passing_short_cmp=%{x}<br>passing_total_cmp=%{y}<br>shooting_standard_gls=%{marker.size}<br>opponent=%{customdata[1]}<br>ga=%{customdata[2]}<extra></extra>",
         "legendgroup": "Burnley",
         "marker": {
          "color": "#FECB52",
          "size": [
           1,
           1,
           0,
           1,
           2,
           1,
           2,
           1,
           0,
           3,
           0,
           0,
           0,
           0,
           0,
           1,
           3,
           0,
           1,
           0,
           0,
           1,
           1,
           0,
           0,
           0,
           3,
           1,
           3,
           2,
           0,
           0,
           1,
           0,
           1,
           1,
           0,
           1
          ],
          "sizemode": "area",
          "sizeref": 0.0175,
          "symbol": "circle"
         },
         "mode": "markers",
         "name": "Burnley",
         "orientation": "v",
         "showlegend": true,
         "type": "scatter",
         "x": [
          116,
          64,
          81,
          130,
          109,
          145,
          116,
          102,
          130,
          112,
          81,
          103,
          98,
          93,
          126,
          118,
          89,
          120,
          100,
          120,
          64,
          93,
          109,
          102,
          115,
          99,
          109,
          83,
          135,
          92,
          113,
          158,
          100,
          125,
          110,
          86,
          84,
          90
         ],
         "xaxis": "x",
         "y": [
          280,
          175,
          233,
          365,
          289,
          268,
          283,
          252,
          322,
          266,
          173,
          247,
          207,
          256,
          271,
          288,
          181,
          224,
          218,
          300,
          153,
          214,
          287,
          222,
          286,
          219,
          236,
          218,
          279,
          199,
          249,
          378,
          218,
          334,
          293,
          209,
          206,
          210
         ],
         "yaxis": "y"
        }
       ],
       "layout": {
        "legend": {
         "itemsizing": "constant",
         "title": {
          "text": "team"
         },
         "tracegroupgap": 0
        },
        "margin": {
         "t": 60
        },
        "template": {
         "data": {
          "bar": [
           {
            "error_x": {
             "color": "#2a3f5f"
            },
            "error_y": {
             "color": "#2a3f5f"
            },
            "marker": {
             "line": {
              "color": "#E5ECF6",
              "width": 0.5
             },
             "pattern": {
              "fillmode": "overlay",
              "size": 10,
              "solidity": 0.2
             }
            },
            "type": "bar"
           }
          ],
          "barpolar": [
           {
            "marker": {
             "line": {
              "color": "#E5ECF6",
              "width": 0.5
             },
             "pattern": {
              "fillmode": "overlay",
              "size": 10,
              "solidity": 0.2
             }
            },
            "type": "barpolar"
           }
          ],
          "carpet": [
           {
            "aaxis": {
             "endlinecolor": "#2a3f5f",
             "gridcolor": "white",
             "linecolor": "white",
             "minorgridcolor": "white",
             "startlinecolor": "#2a3f5f"
            },
            "baxis": {
             "endlinecolor": "#2a3f5f",
             "gridcolor": "white",
             "linecolor": "white",
             "minorgridcolor": "white",
             "startlinecolor": "#2a3f5f"
            },
            "type": "carpet"
           }
          ],
          "choropleth": [
           {
            "colorbar": {
             "outlinewidth": 0,
             "ticks": ""
            },
            "type": "choropleth"
           }
          ],
          "contour": [
           {
            "colorbar": {
             "outlinewidth": 0,
             "ticks": ""
            },
            "colorscale": [
             [
              0,
              "#0d0887"
             ],
             [
              0.1111111111111111,
              "#46039f"
             ],
             [
              0.2222222222222222,
              "#7201a8"
             ],
             [
              0.3333333333333333,
              "#9c179e"
             ],
             [
              0.4444444444444444,
              "#bd3786"
             ],
             [
              0.5555555555555556,
              "#d8576b"
             ],
             [
              0.6666666666666666,
              "#ed7953"
             ],
             [
              0.7777777777777778,
              "#fb9f3a"
             ],
             [
              0.8888888888888888,
              "#fdca26"
             ],
             [
              1,
              "#f0f921"
             ]
            ],
            "type": "contour"
           }
          ],
          "contourcarpet": [
           {
            "colorbar": {
             "outlinewidth": 0,
             "ticks": ""
            },
            "type": "contourcarpet"
           }
          ],
          "heatmap": [
           {
            "colorbar": {
             "outlinewidth": 0,
             "ticks": ""
            },
            "colorscale": [
             [
              0,
              "#0d0887"
             ],
             [
              0.1111111111111111,
              "#46039f"
             ],
             [
              0.2222222222222222,
              "#7201a8"
             ],
             [
              0.3333333333333333,
              "#9c179e"
             ],
             [
              0.4444444444444444,
              "#bd3786"
             ],
             [
              0.5555555555555556,
              "#d8576b"
             ],
             [
              0.6666666666666666,
              "#ed7953"
             ],
             [
              0.7777777777777778,
              "#fb9f3a"
             ],
             [
              0.8888888888888888,
              "#fdca26"
             ],
             [
              1,
              "#f0f921"
             ]
            ],
            "type": "heatmap"
           }
          ],
          "heatmapgl": [
           {
            "colorbar": {
             "outlinewidth": 0,
             "ticks": ""
            },
            "colorscale": [
             [
              0,
              "#0d0887"
             ],
             [
              0.1111111111111111,
              "#46039f"
             ],
             [
              0.2222222222222222,
              "#7201a8"
             ],
             [
              0.3333333333333333,
              "#9c179e"
             ],
             [
              0.4444444444444444,
              "#bd3786"
             ],
             [
              0.5555555555555556,
              "#d8576b"
             ],
             [
              0.6666666666666666,
              "#ed7953"
             ],
             [
              0.7777777777777778,
              "#fb9f3a"
             ],
             [
              0.8888888888888888,
              "#fdca26"
             ],
             [
              1,
              "#f0f921"
             ]
            ],
            "type": "heatmapgl"
           }
          ],
          "histogram": [
           {
            "marker": {
             "pattern": {
              "fillmode": "overlay",
              "size": 10,
              "solidity": 0.2
             }
            },
            "type": "histogram"
           }
          ],
          "histogram2d": [
           {
            "colorbar": {
             "outlinewidth": 0,
             "ticks": ""
            },
            "colorscale": [
             [
              0,
              "#0d0887"
             ],
             [
              0.1111111111111111,
              "#46039f"
             ],
             [
              0.2222222222222222,
              "#7201a8"
             ],
             [
              0.3333333333333333,
              "#9c179e"
             ],
             [
              0.4444444444444444,
              "#bd3786"
             ],
             [
              0.5555555555555556,
              "#d8576b"
             ],
             [
              0.6666666666666666,
              "#ed7953"
             ],
             [
              0.7777777777777778,
              "#fb9f3a"
             ],
             [
              0.8888888888888888,
              "#fdca26"
             ],
             [
              1,
              "#f0f921"
             ]
            ],
            "type": "histogram2d"
           }
          ],
          "histogram2dcontour": [
           {
            "colorbar": {
             "outlinewidth": 0,
             "ticks": ""
            },
            "colorscale": [
             [
              0,
              "#0d0887"
             ],
             [
              0.1111111111111111,
              "#46039f"
             ],
             [
              0.2222222222222222,
              "#7201a8"
             ],
             [
              0.3333333333333333,
              "#9c179e"
             ],
             [
              0.4444444444444444,
              "#bd3786"
             ],
             [
              0.5555555555555556,
              "#d8576b"
             ],
             [
              0.6666666666666666,
              "#ed7953"
             ],
             [
              0.7777777777777778,
              "#fb9f3a"
             ],
             [
              0.8888888888888888,
              "#fdca26"
             ],
             [
              1,
              "#f0f921"
             ]
            ],
            "type": "histogram2dcontour"
           }
          ],
          "mesh3d": [
           {
            "colorbar": {
             "outlinewidth": 0,
             "ticks": ""
            },
            "type": "mesh3d"
           }
          ],
          "parcoords": [
           {
            "line": {
             "colorbar": {
              "outlinewidth": 0,
              "ticks": ""
             }
            },
            "type": "parcoords"
           }
          ],
          "pie": [
           {
            "automargin": true,
            "type": "pie"
           }
          ],
          "scatter": [
           {
            "fillpattern": {
             "fillmode": "overlay",
             "size": 10,
             "solidity": 0.2
            },
            "type": "scatter"
           }
          ],
          "scatter3d": [
           {
            "line": {
             "colorbar": {
              "outlinewidth": 0,
              "ticks": ""
             }
            },
            "marker": {
             "colorbar": {
              "outlinewidth": 0,
              "ticks": ""
             }
            },
            "type": "scatter3d"
           }
          ],
          "scattercarpet": [
           {
            "marker": {
             "colorbar": {
              "outlinewidth": 0,
              "ticks": ""
             }
            },
            "type": "scattercarpet"
           }
          ],
          "scattergeo": [
           {
            "marker": {
             "colorbar": {
              "outlinewidth": 0,
              "ticks": ""
             }
            },
            "type": "scattergeo"
           }
          ],
          "scattergl": [
           {
            "marker": {
             "colorbar": {
              "outlinewidth": 0,
              "ticks": ""
             }
            },
            "type": "scattergl"
           }
          ],
          "scattermapbox": [
           {
            "marker": {
             "colorbar": {
              "outlinewidth": 0,
              "ticks": ""
             }
            },
            "type": "scattermapbox"
           }
          ],
          "scatterpolar": [
           {
            "marker": {
             "colorbar": {
              "outlinewidth": 0,
              "ticks": ""
             }
            },
            "type": "scatterpolar"
           }
          ],
          "scatterpolargl": [
           {
            "marker": {
             "colorbar": {
              "outlinewidth": 0,
              "ticks": ""
             }
            },
            "type": "scatterpolargl"
           }
          ],
          "scatterternary": [
           {
            "marker": {
             "colorbar": {
              "outlinewidth": 0,
              "ticks": ""
             }
            },
            "type": "scatterternary"
           }
          ],
          "surface": [
           {
            "colorbar": {
             "outlinewidth": 0,
             "ticks": ""
            },
            "colorscale": [
             [
              0,
              "#0d0887"
             ],
             [
              0.1111111111111111,
              "#46039f"
             ],
             [
              0.2222222222222222,
              "#7201a8"
             ],
             [
              0.3333333333333333,
              "#9c179e"
             ],
             [
              0.4444444444444444,
              "#bd3786"
             ],
             [
              0.5555555555555556,
              "#d8576b"
             ],
             [
              0.6666666666666666,
              "#ed7953"
             ],
             [
              0.7777777777777778,
              "#fb9f3a"
             ],
             [
              0.8888888888888888,
              "#fdca26"
             ],
             [
              1,
              "#f0f921"
             ]
            ],
            "type": "surface"
           }
          ],
          "table": [
           {
            "cells": {
             "fill": {
              "color": "#EBF0F8"
             },
             "line": {
              "color": "white"
             }
            },
            "header": {
             "fill": {
              "color": "#C8D4E3"
             },
             "line": {
              "color": "white"
             }
            },
            "type": "table"
           }
          ]
         },
         "layout": {
          "annotationdefaults": {
           "arrowcolor": "#2a3f5f",
           "arrowhead": 0,
           "arrowwidth": 1
          },
          "autotypenumbers": "strict",
          "coloraxis": {
           "colorbar": {
            "outlinewidth": 0,
            "ticks": ""
           }
          },
          "colorscale": {
           "diverging": [
            [
             0,
             "#8e0152"
            ],
            [
             0.1,
             "#c51b7d"
            ],
            [
             0.2,
             "#de77ae"
            ],
            [
             0.3,
             "#f1b6da"
            ],
            [
             0.4,
             "#fde0ef"
            ],
            [
             0.5,
             "#f7f7f7"
            ],
            [
             0.6,
             "#e6f5d0"
            ],
            [
             0.7,
             "#b8e186"
            ],
            [
             0.8,
             "#7fbc41"
            ],
            [
             0.9,
             "#4d9221"
            ],
            [
             1,
             "#276419"
            ]
           ],
           "sequential": [
            [
             0,
             "#0d0887"
            ],
            [
             0.1111111111111111,
             "#46039f"
            ],
            [
             0.2222222222222222,
             "#7201a8"
            ],
            [
             0.3333333333333333,
             "#9c179e"
            ],
            [
             0.4444444444444444,
             "#bd3786"
            ],
            [
             0.5555555555555556,
             "#d8576b"
            ],
            [
             0.6666666666666666,
             "#ed7953"
            ],
            [
             0.7777777777777778,
             "#fb9f3a"
            ],
            [
             0.8888888888888888,
             "#fdca26"
            ],
            [
             1,
             "#f0f921"
            ]
           ],
           "sequentialminus": [
            [
             0,
             "#0d0887"
            ],
            [
             0.1111111111111111,
             "#46039f"
            ],
            [
             0.2222222222222222,
             "#7201a8"
            ],
            [
             0.3333333333333333,
             "#9c179e"
            ],
            [
             0.4444444444444444,
             "#bd3786"
            ],
            [
             0.5555555555555556,
             "#d8576b"
            ],
            [
             0.6666666666666666,
             "#ed7953"
            ],
            [
             0.7777777777777778,
             "#fb9f3a"
            ],
            [
             0.8888888888888888,
             "#fdca26"
            ],
            [
             1,
             "#f0f921"
            ]
           ]
          },
          "colorway": [
           "#636efa",
           "#EF553B",
           "#00cc96",
           "#ab63fa",
           "#FFA15A",
           "#19d3f3",
           "#FF6692",
           "#B6E880",
           "#FF97FF",
           "#FECB52"
          ],
          "font": {
           "color": "#2a3f5f"
          },
          "geo": {
           "bgcolor": "white",
           "lakecolor": "white",
           "landcolor": "#E5ECF6",
           "showlakes": true,
           "showland": true,
           "subunitcolor": "white"
          },
          "hoverlabel": {
           "align": "left"
          },
          "hovermode": "closest",
          "mapbox": {
           "style": "light"
          },
          "paper_bgcolor": "white",
          "plot_bgcolor": "#E5ECF6",
          "polar": {
           "angularaxis": {
            "gridcolor": "white",
            "linecolor": "white",
            "ticks": ""
           },
           "bgcolor": "#E5ECF6",
           "radialaxis": {
            "gridcolor": "white",
            "linecolor": "white",
            "ticks": ""
           }
          },
          "scene": {
           "xaxis": {
            "backgroundcolor": "#E5ECF6",
            "gridcolor": "white",
            "gridwidth": 2,
            "linecolor": "white",
            "showbackground": true,
            "ticks": "",
            "zerolinecolor": "white"
           },
           "yaxis": {
            "backgroundcolor": "#E5ECF6",
            "gridcolor": "white",
            "gridwidth": 2,
            "linecolor": "white",
            "showbackground": true,
            "ticks": "",
            "zerolinecolor": "white"
           },
           "zaxis": {
            "backgroundcolor": "#E5ECF6",
            "gridcolor": "white",
            "gridwidth": 2,
            "linecolor": "white",
            "showbackground": true,
            "ticks": "",
            "zerolinecolor": "white"
           }
          },
          "shapedefaults": {
           "line": {
            "color": "#2a3f5f"
           }
          },
          "ternary": {
           "aaxis": {
            "gridcolor": "white",
            "linecolor": "white",
            "ticks": ""
           },
           "baxis": {
            "gridcolor": "white",
            "linecolor": "white",
            "ticks": ""
           },
           "bgcolor": "#E5ECF6",
           "caxis": {
            "gridcolor": "white",
            "linecolor": "white",
            "ticks": ""
           }
          },
          "title": {
           "x": 0.05
          },
          "xaxis": {
           "automargin": true,
           "gridcolor": "white",
           "linecolor": "white",
           "ticks": "",
           "title": {
            "standoff": 15
           },
           "zerolinecolor": "white",
           "zerolinewidth": 2
          },
          "yaxis": {
           "automargin": true,
           "gridcolor": "white",
           "linecolor": "white",
           "ticks": "",
           "title": {
            "standoff": 15
           },
           "zerolinecolor": "white",
           "zerolinewidth": 2
          }
         }
        },
        "xaxis": {
         "anchor": "y",
         "domain": [
          0,
          1
         ],
         "title": {
          "text": "passing_short_cmp"
         }
        },
        "yaxis": {
         "anchor": "x",
         "domain": [
          0,
          1
         ],
         "title": {
          "text": "passing_total_cmp"
         }
        }
       }
      }
     },
     "metadata": {},
     "output_type": "display_data"
    }
   ],
   "source": [
    "import plotly.express as px\n",
    "fig = px.scatter(\n",
    "    match_df, \n",
    "    x=\"passing_short_cmp\", \n",
    "    y=\"passing_total_cmp\", \n",
    "    color='team', \n",
    "    size='shooting_standard_gls',\n",
    "    hover_data=['team', 'opponent', 'ga']\n",
    ")\n",
    "fig.show()"
   ]
  }
 ],
 "metadata": {
  "kernelspec": {
   "display_name": "Python 3.8.8 ('base')",
   "language": "python",
   "name": "python3"
  },
  "language_info": {
   "codemirror_mode": {
    "name": "ipython",
    "version": 3
   },
   "file_extension": ".py",
   "mimetype": "text/x-python",
   "name": "python",
   "nbconvert_exporter": "python",
   "pygments_lexer": "ipython3",
   "version": "3.8.8"
  },
  "orig_nbformat": 4,
  "vscode": {
   "interpreter": {
    "hash": "b49bb7862da9a7f712fac20bbb252538ac446c2e9d9243e7afbb3682ce9d6a68"
   }
  }
 },
 "nbformat": 4,
 "nbformat_minor": 2
}
