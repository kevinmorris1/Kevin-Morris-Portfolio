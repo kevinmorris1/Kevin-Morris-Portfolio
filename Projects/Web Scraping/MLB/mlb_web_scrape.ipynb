{
 "cells": [
  {
   "cell_type": "code",
   "execution_count": null,
   "metadata": {},
   "outputs": [],
   "source": []
  },
  {
   "cell_type": "code",
   "execution_count": 1,
   "metadata": {},
   "outputs": [],
   "source": [
    "import requests\n",
    "from bs4 import BeautifulSoup\n",
    "import pandas as pd\n",
    "import time"
   ]
  },
  {
   "cell_type": "code",
   "execution_count": 19,
   "metadata": {},
   "outputs": [],
   "source": [
    "standings_url = \"https://www.baseball-reference.com/\"\n",
    "data = requests.get(standings_url)\n",
    "soup = BeautifulSoup(data.text)\n",
    "standings_table = soup.select('table#standings_AL')[0]\n"
   ]
  },
  {
   "cell_type": "code",
   "execution_count": 48,
   "metadata": {},
   "outputs": [
    {
     "name": "stdout",
     "output_type": "stream",
     "text": [
      "https://www.baseball-reference.com/teams/TOR/2022.shtml\n"
     ]
    }
   ],
   "source": [
    "links = standings_table.find_all('a')\n",
    "links = [l.get(\"href\") for l in links] \n",
    "team_urls = [f\"https://www.baseball-reference.com{l}\" for l in links] \n",
    "\n",
    "team_url = team_urls[2] # first club page link\n",
    "print(team_url)\n",
    "data = requests.get(team_url) "
   ]
  },
  {
   "cell_type": "code",
   "execution_count": 34,
   "metadata": {},
   "outputs": [
    {
     "name": "stdout",
     "output_type": "stream",
     "text": [
      "https://www.baseball-reference.com/teams/NYY/2022-schedule-scores.shtml\n"
     ]
    }
   ],
   "source": [
    "data = requests.get(team_url)\n",
    "soup = BeautifulSoup(data.text) # extract all information from page\n",
    "links = soup.find_all('a') # find all links on page for the club\n",
    "links = [l.get(\"href\") for l in links] # get reference urls for those links\n",
    "links = [l for l in links if l and (('schedule-scores' in l))]\n",
    "links = [*set(links)][0]\n",
    "sch_url = f\"https://www.baseball-reference.com{links}\"\n",
    "print(sch_url)\n",
    "data = requests.get(sch_url) "
   ]
  },
  {
   "cell_type": "code",
   "execution_count": 47,
   "metadata": {},
   "outputs": [],
   "source": [
    "sch = pd.read_html(data.text, match='Team Game-by-Game Schedule')[0]\n",
    "sch = sch.drop(sch[sch['Gm#']=='Gm#'].index)\n",
    "sch = sch.drop(sch[sch['Streak'].isna()].index)\n",
    "sch = sch[['Gm#', 'Date', 'Tm', 'Unnamed: 4', 'Opp', 'W/L', 'R',\n",
    "       'RA', 'Inn', 'W-L', 'Rank', 'GB', 'Win', 'Loss', 'Save', 'Time', 'D/N',\n",
    "       'Attendance', 'Streak']]"
   ]
  }
 ],
 "metadata": {
  "kernelspec": {
   "display_name": "Python 3.8.8 ('base')",
   "language": "python",
   "name": "python3"
  },
  "language_info": {
   "codemirror_mode": {
    "name": "ipython",
    "version": 3
   },
   "file_extension": ".py",
   "mimetype": "text/x-python",
   "name": "python",
   "nbconvert_exporter": "python",
   "pygments_lexer": "ipython3",
   "version": "3.8.8"
  },
  "orig_nbformat": 4,
  "vscode": {
   "interpreter": {
    "hash": "b49bb7862da9a7f712fac20bbb252538ac446c2e9d9243e7afbb3682ce9d6a68"
   }
  }
 },
 "nbformat": 4,
 "nbformat_minor": 2
}
